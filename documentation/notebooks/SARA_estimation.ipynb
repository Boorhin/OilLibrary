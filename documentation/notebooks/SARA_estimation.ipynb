{
 "cells": [
  {
   "cell_type": "markdown",
   "metadata": {},
   "source": [
    "# Method for estimating SARA Fractions\n",
    "\n",
    "We need SARA fractions for estimating the solubility of individual components, and for use in the fancy emulsification algorithm.\n",
    "\n",
    "We have three possible cases:\n",
    "\n",
    "1) no SARA info in the record\n",
    "2) SARA for the whole oil\n",
    "3) SARA breakdown for each component.\n",
    "\n",
    "However, we have no (3) level records in the DB -- there may be some (3) data in the Exxon Assays found here:\n",
    "\n",
    "http://corporate.exxonmobil.com/en/company/worldwide-operations/crude-oils/assays\n",
    "\n",
    "But we need to undersand that data first.\n",
    "\n",
    "So for now:\n",
    "\n",
    "### If there is no SARA info in the record:\n",
    "\n",
    "Use the Fingus correlations to estimate whole oil SARA from density and viscosity\n",
    "\n",
    "## Estimating breakdown by distilation cut\n",
    "\n",
    "Unless you have the density of each cut, there isn't enough information to estimate the SARA per cut. But there is some indication in the Riazi book that there is a linear relationship of the S/A ratio with temperature.\n",
    "\n",
    "So while we should do some more exploration, particularly with the Exxon data, we canuse that for now:\n",
    "\n",
    "From the chart on page 121, it looks like:\n",
    "\n",
    "at Boiling point of 0C, Aromatics are 16% -- at 500C, 52%\n",
    "\n",
    "In K, the aromatic fraction is \n",
    "\n",
    "273K: 16%\n",
    "\n",
    "773K: 52%\n",
    "\n",
    "So we get:\n",
    "\n",
    "$A_f = 7.20 \\times 10^{-4} T -3.656 \\times 10^{-2}$\n",
    "\n",
    "Where $A_f$ is the fraction of aromatics, and $T$ is in degrees K\n",
    "\n",
    "## Adjusting to the bulk oil SARA \n",
    "\n",
    "Whether the bulk oil SARA was measured or estimated, the by-component SARA fractions need to add up to the same totals.\n",
    "\n",
    "We could either adjsut the slope or the intercept to get teh values to match.\n",
    "\n",
    "But we could get some odd behaviou adjucting teh slope == so the intercept will be adjsuted to get the total to match.\n",
    "\n",
    "The totsl SARA is the weighted sum of the component SARA analysis:\n",
    "\n",
    "$A_f =  A \\sum^I_{i=1} m_{f,i} * A_{f,i}$\n",
    "\n",
    "where $A_f$ is the fraction of Aromatics of the bulk oil, $i$ is the individual component, $I$ is the total number of components, $m_{f,i}$ is the mass fraction of component $i$ (determined from the equation above). $A$ is an adjustment constant set to make sure that the weighted sum of the fractions equals the total fraction.\n",
    "\n",
    "It is assumed that Aspahltines and Resins are all in the higher boing point components.\n",
    "\n",
    "\n"
   ]
  },
  {
   "cell_type": "code",
   "execution_count": 1,
   "metadata": {
    "collapsed": true
   },
   "outputs": [],
   "source": [
    "def frac_aromatic(temp_in_K):\n",
    "    m = 7.2e-4\n",
    "    b = -3.656e-2\n",
    "    return m * (temp_in_K) + b"
   ]
  },
  {
   "cell_type": "code",
   "execution_count": 2,
   "metadata": {},
   "outputs": [
    {
     "name": "stdout",
     "output_type": "stream",
     "text": [
      "0.16\n"
     ]
    }
   ],
   "source": [
    "print frac_aromatic(273)"
   ]
  },
  {
   "cell_type": "code",
   "execution_count": 3,
   "metadata": {},
   "outputs": [
    {
     "name": "stdout",
     "output_type": "stream",
     "text": [
      "0.52\n"
     ]
    }
   ],
   "source": [
    "print frac_aromatic(773)"
   ]
  }
 ],
 "metadata": {
  "kernelspec": {
   "display_name": "Python 2",
   "language": "python",
   "name": "python2"
  },
  "language_info": {
   "codemirror_mode": {
    "name": "ipython",
    "version": 2
   },
   "file_extension": ".py",
   "mimetype": "text/x-python",
   "name": "python",
   "nbconvert_exporter": "python",
   "pygments_lexer": "ipython2",
   "version": "2.7.14"
  }
 },
 "nbformat": 4,
 "nbformat_minor": 2
}
