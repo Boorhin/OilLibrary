{
 "cells": [
  {
   "cell_type": "markdown",
   "metadata": {},
   "source": [
    "# Oil Density Estimation\n",
    "\n",
    "## A Description of the Methods Used (Including Some Examples)\n",
    "\n",
    "### Background:\n",
    "\n",
    "The density of a substance is a fairly important piece of information to know in regards to oil spill response.  If an oil is released into a body of water, its relative density to that body of water will indicate whether the oil will float on top of the water surface, or whether it will gradually sink below the surface.\n",
    "\n",
    "There are two general properties in an oil record that indicate its initial density.  Those are the oils **API** gravity, and its **measured density**.\n",
    "\n",
    "An oil's API gravity is a measure of how heavy or light it is compared to water, as defined by the\n",
    "**A**merican **P**etroleum **I**nstitute. As such it is essentially a different unit for the density of the oil at standard temperature (and pressure). If there is a measured density (at 15C) and an API in a given record, the values should match, or there is an error in the record.\n",
    "\n",
    "\n",
    "**API** gravity is defined by the following formula:"
   ]
  },
  {
   "cell_type": "markdown",
   "metadata": {},
   "source": [
    "$$\n",
    "\\begin{align}\n",
    "\\rho_{0_{oil}} &= \\text{The initial oil density at } 15^\\circ C \\text{ and measured in } kg / m^3 \\\\\n",
    "1000 &= \\text{The initial density of fresh water measured in } kg / m^3 \\\\\n",
    "API &= \\frac{141.5 \\cdot 1000}{\\rho_{0_{oil}} } - 131.5 \\\\\n",
    "\\end{align}\n",
    "$$"
   ]
  },
  {
   "cell_type": "markdown",
   "metadata": {},
   "source": [
    "Conversely, the initial density of the oil can be calculated, if necessary, from the API value"
   ]
  },
  {
   "cell_type": "markdown",
   "metadata": {},
   "source": [
    "$$\n",
    "\\begin{align}\n",
    "\\rho_{0_{oil}} &= \\frac{141.5}{131.5 + API} \\cdot 1000 \\\\\n",
    "\\end{align}\n",
    "$$"
   ]
  },
  {
   "cell_type": "markdown",
   "metadata": {},
   "source": [
    "### Some Examples\n",
    "\n",
    "Ok, let's apply this to some examples using records in our oil library.\n",
    "\n",
    "First we will import some things from our oil library that we will need."
   ]
  },
  {
   "cell_type": "code",
   "execution_count": 10,
   "metadata": {
    "collapsed": false
   },
   "outputs": [],
   "source": [
    "from oil_library import get_oil, get_oil_props, _get_db_session\n",
    "from oil_library.models import (Base, ImportedRecord, Oil,\n",
    "                                Density, Toxicity, Category)\n",
    "from oil_library.oil_props import OilProps\n",
    "\n",
    "session = _get_db_session()"
   ]
  },
  {
   "cell_type": "markdown",
   "metadata": {},
   "source": [
    "Now we can query for an oil that we are interested in."
   ]
  },
  {
   "cell_type": "markdown",
   "metadata": {},
   "source": [
    "#### Example 1:  Estimating Density "
   ]
  },
  {
   "cell_type": "markdown",
   "metadata": {},
   "source": [
    "For the first example we will use a reasonably heavy oil for which we have no measured density values. (i.e. only API)"
   ]
  },
  {
   "cell_type": "code",
   "execution_count": 11,
   "metadata": {
    "collapsed": false
   },
   "outputs": [
    {
     "name": "stdout",
     "output_type": "stream",
     "text": [
      "<Oil(\"BOSCAN, OIL & GAS\")>\n"
     ]
    }
   ],
   "source": [
    "oil_obj = (session.query(Oil)\n",
    "           .filter(Oil.name == 'BOSCAN, OIL & GAS')\n",
    "           .one())\n",
    "print oil_obj"
   ]
  },
  {
   "cell_type": "code",
   "execution_count": 12,
   "metadata": {
    "collapsed": false
   },
   "outputs": [
    {
     "name": "stdout",
     "output_type": "stream",
     "text": [
      "[]\n",
      "10.1\n"
     ]
    }
   ],
   "source": [
    "print oil_obj.imported.densities\n",
    "print oil_obj.imported.api"
   ]
  },
  {
   "cell_type": "markdown",
   "metadata": {},
   "source": [
    "First, a little bit of background.  The records in the PyGnome oil library have been imported from a master copy of the NOAA oil library data, and the original values are stored in the 'imported' attribute of the oil object.<br>\n",
    "Here we can see that the original imported record contains no measured densities, but has a valid API value.<br>\n",
    "And as discussed above, the density at $ 15^\\circ C $ in $kg/m^3$ can be converted from the API as follows:"
   ]
  },
  {
   "cell_type": "code",
   "execution_count": 13,
   "metadata": {
    "collapsed": false
   },
   "outputs": [
    {
     "name": "stdout",
     "output_type": "stream",
     "text": [
      "999.293785311\n"
     ]
    }
   ],
   "source": [
    "density_at_15c = 141.5 / (131.5 + 10.1) * 1000\n",
    "print density_at_15c"
   ]
  },
  {
   "cell_type": "markdown",
   "metadata": {},
   "source": [
    "So for this oil, we give it a single density at $ 15^\\circ C $ since the imported record did not supply any."
   ]
  },
  {
   "cell_type": "code",
   "execution_count": 28,
   "metadata": {
    "collapsed": false
   },
   "outputs": [
    {
     "name": "stdout",
     "output_type": "stream",
     "text": [
      "[<Density(660.0 kg/m^3 at 288.15K)>]\n",
      "82.8939393939\n"
     ]
    }
   ],
   "source": [
    "print oil_obj.densities\n",
    "print oil_obj.api"
   ]
  },
  {
   "cell_type": "markdown",
   "metadata": {},
   "source": [
    "At this point it is worth mentioning that internally, we use temperatures that are measured in Kelvin.<br>\n",
    "So $ 15^\\circ C $ converted into Kelvin would be:"
   ]
  },
  {
   "cell_type": "markdown",
   "metadata": {},
   "source": [
    "$$\n",
    "\\begin{align}\n",
    "273.15 + 15^\\circ C &= 288.15^\\circ K\n",
    "\\end{align}\n",
    "$$"
   ]
  },
  {
   "cell_type": "markdown",
   "metadata": {},
   "source": [
    "#### Example 2:  Estimating API\n",
    "\n",
    "Ok, now we will examine an oil that has no API, but does in fact have some measured densities."
   ]
  },
  {
   "cell_type": "code",
   "execution_count": 15,
   "metadata": {
    "collapsed": false
   },
   "outputs": [
    {
     "name": "stdout",
     "output_type": "stream",
     "text": [
      "<Oil(\"COOPER BASIN LIGHT NAPHTHA, SANTOS LTD\")>\n",
      "[<Density(660.0 kg/m^3 at 288.15K)>]\n",
      "None\n"
     ]
    }
   ],
   "source": [
    "oil_obj = (session.query(Oil)\n",
    "           .filter(Oil.name == 'COOPER BASIN LIGHT NAPHTHA, SANTOS LTD')\n",
    "           .one())\n",
    "print oil_obj\n",
    "print oil_obj.imported.densities\n",
    "print oil_obj.imported.api"
   ]
  },
  {
   "cell_type": "markdown",
   "metadata": {},
   "source": [
    "Here we can see that the original imported record contains a single measured density, but has no API value.<br>\n",
    "The API can be computed from the measured density.\n",
    "\n",
    "In this case, the measured density is a 288.15K, which is $ 15^\\circ C $, the standard tempuerature for API, so the conversion can be done directly.\n",
    "\n",
    "There are records in the oil library in which the densities are measured at temperatures quite far from the standard $ 15^\\circ C $ <br>\n",
    "\n",
    "In this case, the density at $ 15^\\circ C $ can be estimated from teh measured values using a standard expansion coefficient."
   ]
  },
  {
   "cell_type": "markdown",
   "metadata": {},
   "source": [
    "When interpolating a density value at a measured temperature to one at a desired temperature, we use the following formula(s):"
   ]
  },
  {
   "cell_type": "markdown",
   "metadata": {},
   "source": [
    "$$\n",
    "\\begin{align}\n",
    "k_{\\rho T} &= 0.008 K^{-1} \\cr\n",
    "T_{ref} &= \\text{our reference temperature} \\cr\n",
    "T_0 &= \\text{our desired temperature} \\cr\n",
    "\\rho_{ref} &= \\rho_0 \\cdot (1 - k_{\\rho T} \\cdot (T_{ref} - T_0)) \\cr\n",
    "&\\text{thus...} \\cr\n",
    "\\rho_0 &= {\\rho_{ref} \\over (1 - k_{\\rho T} \\cdot (T_{ref} - T_0))} \\cr\n",
    "\\end{align}\n",
    "$$"
   ]
  },
  {
   "cell_type": "markdown",
   "metadata": {},
   "source": [
    "Let's apply this method to our reference density."
   ]
  },
  {
   "cell_type": "code",
   "execution_count": 16,
   "metadata": {
    "collapsed": false
   },
   "outputs": [
    {
     "name": "stdout",
     "output_type": "stream",
     "text": [
      "659.208949261\n"
     ]
    }
   ],
   "source": [
    "density_at_temp = 660.0 / (1 - 0.008 * (288.0 - 288.15))\n",
    "print density_at_temp"
   ]
  },
  {
   "cell_type": "markdown",
   "metadata": {},
   "source": [
    "We now have the density at $ 15^\\circ C $, which we will use to estimate the API value.<br>\n",
    "And as it so happens, we have packaged this formula into a convenience function."
   ]
  },
  {
   "cell_type": "code",
   "execution_count": 27,
   "metadata": {
    "collapsed": false
   },
   "outputs": [
    {
     "name": "stdout",
     "output_type": "stream",
     "text": [
      "660.0 288.15\n"
     ]
    },
    {
     "data": {
      "text/plain": [
       "660.0"
      ]
     },
     "execution_count": 27,
     "metadata": {},
     "output_type": "execute_result"
    }
   ],
   "source": [
    "from oil_library.utilities.estimations import density_at_temp\n",
    "rho = oil_obj.densities[0].kg_m_3\n",
    "ref_temp = oil_obj.densities[0].ref_temp_k\n",
    "print rho, ref_temp\n",
    "density_at_temp(rho, ref_temp, 288.15)"
   ]
  },
  {
   "cell_type": "code",
   "execution_count": null,
   "metadata": {
    "collapsed": false
   },
   "outputs": [],
   "source": [
    "api = (141.5 * 1000 / density_at_temp) - 131.5\n",
    "print api"
   ]
  },
  {
   "cell_type": "markdown",
   "metadata": {},
   "source": [
    "...and as you can see, this is the API value that our oil object contains."
   ]
  },
  {
   "cell_type": "code",
   "execution_count": null,
   "metadata": {
    "collapsed": false
   },
   "outputs": [],
   "source": [
    "print oil_obj.api"
   ]
  }
 ],
 "metadata": {
  "kernelspec": {
   "display_name": "Python 2",
   "language": "python",
   "name": "python2"
  },
  "language_info": {
   "codemirror_mode": {
    "name": "ipython",
    "version": 2
   },
   "file_extension": ".py",
   "mimetype": "text/x-python",
   "name": "python",
   "nbconvert_exporter": "python",
   "pygments_lexer": "ipython2",
   "version": "2.7.12"
  }
 },
 "nbformat": 4,
 "nbformat_minor": 0
}
