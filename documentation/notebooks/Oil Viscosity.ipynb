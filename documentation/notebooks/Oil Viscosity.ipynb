{
 "metadata": {
  "name": "",
  "signature": "sha256:9f6002d87bf58eb118881637dba615a05ba77a9e2565d2a5e41c492a3f3b3a50"
 },
 "nbformat": 3,
 "nbformat_minor": 0,
 "worksheets": [
  {
   "cells": [
    {
     "cell_type": "heading",
     "level": 1,
     "metadata": {},
     "source": [
      "<center>Oil Viscosity</center>"
     ]
    },
    {
     "cell_type": "markdown",
     "metadata": {},
     "source": [
      "The viscosity of an oil can factor into many calculations that are needed in the response of a spill, such as spreading and dispersion."
     ]
    },
    {
     "cell_type": "heading",
     "level": 2,
     "metadata": {},
     "source": [
      "<center>Importing and Estimating Initial Values</center>"
     ]
    },
    {
     "cell_type": "markdown",
     "metadata": {},
     "source": [
      "In the PyGnome oil library, kinematic viscosity is primarily used, although the imported oil records sometimes do contain dynamic viscosity measurements.<br>\n",
      "We would like to maintain as much of the useful imported information as we can.  So when we do encounter imported records with dynamic viscosities, we convert them to kinematic for use with the oil library."
     ]
    },
    {
     "cell_type": "markdown",
     "metadata": {},
     "source": [
      "The conversion from dynamic viscosity to kinematic viscosity is:"
     ]
    },
    {
     "cell_type": "markdown",
     "metadata": {},
     "source": [
      "$$\n",
      "\\begin{align}\n",
      "\\eta0_{oil} &= \\text{the dynamic viscosity of our oil in } Pa \\cdot s \\left( \\text{aka } {kg \\over m \\cdot s} \\right) \\cr\n",
      "\\rho0_{oil} &= \\text{the density of our oil in } kg/m^3 \\cr\n",
      "v0_{oil} &= {\\eta0_{oil} \\over \\rho0_{oil} } = \\text{the kinematic viscosity of our oil in } m^2 / s\n",
      "\\end{align}\n",
      "$$"
     ]
    },
    {
     "cell_type": "heading",
     "level": 3,
     "metadata": {},
     "source": [
      "<u>Some Examples</u>"
     ]
    },
    {
     "cell_type": "markdown",
     "metadata": {},
     "source": [
      "Ok, let's apply this to some examples using records in our oil library.<br>\n",
      "First we will import some things from our oil library that we will need."
     ]
    },
    {
     "cell_type": "code",
     "collapsed": false,
     "input": [
      "import numpy as np\n",
      "from oil_library import get_oil, get_oil_props, _get_db_session\n",
      "from oil_library.models import (Base, ImportedRecord, Oil,\n",
      "                                Density, Toxicity, Category)\n",
      "from oil_library.oil_props import OilProps\n",
      "\n",
      "session = _get_db_session()"
     ],
     "language": "python",
     "metadata": {},
     "outputs": [],
     "prompt_number": 19
    },
    {
     "cell_type": "markdown",
     "metadata": {},
     "source": [
      "Now we can query for an oil that we are interested in."
     ]
    },
    {
     "cell_type": "heading",
     "level": 4,
     "metadata": {},
     "source": [
      "Example 1:  Estimating Kinematic Viscosity"
     ]
    },
    {
     "cell_type": "markdown",
     "metadata": {},
     "source": [
      "For this example, we will examine an oil that has no kinematic viscosities, but does in fact have a measured dynamic viscosity."
     ]
    },
    {
     "cell_type": "code",
     "collapsed": false,
     "input": [
      "oil_obj = (session.query(Oil)\n",
      "           .filter(Oil.name == 'ESCRAVOS SWAMP BLEND, CHEVRON')\n",
      "           .one())\n",
      "print oil_obj\n",
      "print oil_obj.imported.dvis\n",
      "print oil_obj.imported.kvis"
     ],
     "language": "python",
     "metadata": {},
     "outputs": [
      {
       "output_type": "stream",
       "stream": "stdout",
       "text": [
        "<Oil(\"ESCRAVOS SWAMP BLEND, CHEVRON\")>\n",
        "[<DVis(0.00895 kg/ms at 303.0K)>]\n",
        "[]\n"
       ]
      }
     ],
     "prompt_number": 2
    },
    {
     "cell_type": "markdown",
     "metadata": {},
     "source": [
      "The imported record for this oil contains a dynamic viscosity, but no kinematic viscosity.  So we will need to convert it to a kinematic viscosity using the method above.<br>\n",
      "So in order to do that, we need to get the density for this oil."
     ]
    },
    {
     "cell_type": "code",
     "collapsed": false,
     "input": [
      "print oil_obj.imported.densities\n",
      "print oil_obj.imported.api"
     ],
     "language": "python",
     "metadata": {},
     "outputs": [
      {
       "output_type": "stream",
       "stream": "stdout",
       "text": [
        "[]\n",
        "38.0\n"
       ]
      }
     ],
     "prompt_number": 3
    },
    {
     "cell_type": "markdown",
     "metadata": {},
     "source": [
      "Alright, you can see that the imported record for this oil also has no densities, but it does have an API.  So of course we will need to convert the API to a density at $ 15^\\circ C $.<br>\n",
      "Fortunately, the oil object already has this estimated.<br>\n",
      "<i>(For details on this, please see the Oil density discussion )</i>"
     ]
    },
    {
     "cell_type": "code",
     "collapsed": false,
     "input": [
      "print oil_obj.densities"
     ],
     "language": "python",
     "metadata": {},
     "outputs": [
      {
       "output_type": "stream",
       "stream": "stdout",
       "text": [
        "[<Density(834.808259587 kg/m^3 at 288.15K)>]\n"
       ]
      }
     ],
     "prompt_number": 4
    },
    {
     "cell_type": "markdown",
     "metadata": {},
     "source": [
      "Now, is this the density value we want?  Not really, because we would really like to know what the oil density is at $ 303^\\circ K $"
     ]
    },
    {
     "cell_type": "markdown",
     "metadata": {},
     "source": [
      "For a full discussion of calculating the oil density at a temperature, please see the Oil Density notebook document.  But for our purposes, we will use the convienience function get_density() located in the PyGnome oil_library module."
     ]
    },
    {
     "cell_type": "code",
     "collapsed": false,
     "input": [
      "from oil_library.utilities import get_density\n",
      "density_at_303k = get_density(oil_obj, 303.0)\n",
      "print density_at_303k"
     ],
     "language": "python",
     "metadata": {},
     "outputs": [
      {
       "output_type": "stream",
       "stream": "stdout",
       "text": [
        "746.163978894\n"
       ]
      }
     ],
     "prompt_number": 5
    },
    {
     "cell_type": "markdown",
     "metadata": {},
     "source": [
      "Alright, now we have the dynamic viscosity and the density.  Now we can calculate the kinematic viscosity at $ 303^\\circ K $"
     ]
    },
    {
     "cell_type": "code",
     "collapsed": false,
     "input": [
      "dvis = oil_obj.imported.dvis[0]\n",
      "dvis.kg_ms\n",
      "kinematic_viscosity_at_303k = dvis.kg_ms / density_at_303k\n",
      "print kinematic_viscosity_at_303k"
     ],
     "language": "python",
     "metadata": {},
     "outputs": [
      {
       "output_type": "stream",
       "stream": "stdout",
       "text": [
        "1.19946824735e-05\n"
       ]
      }
     ],
     "prompt_number": 6
    },
    {
     "cell_type": "markdown",
     "metadata": {},
     "source": [
      "Ok, let's see if that is what was estimated for our oil."
     ]
    },
    {
     "cell_type": "code",
     "collapsed": false,
     "input": [
      "print oil_obj.kvis"
     ],
     "language": "python",
     "metadata": {},
     "outputs": [
      {
       "output_type": "stream",
       "stream": "stdout",
       "text": [
        "[<KVis(1.19946824735e-05 m^2/s at 303.0K)>]\n"
       ]
      }
     ],
     "prompt_number": 7
    },
    {
     "cell_type": "markdown",
     "metadata": {},
     "source": [
      "Sure enough, the oil object has a kinematic value that matches our work."
     ]
    },
    {
     "cell_type": "heading",
     "level": 4,
     "metadata": {},
     "source": [
      "Example 2:  Dynamic Viscosities must be at unique temperatures."
     ]
    },
    {
     "cell_type": "code",
     "collapsed": false,
     "input": [
      "oil_obj = (session.query(Oil)\n",
      "           .filter(Oil.name == 'DESTIN DOME CIS, MMS')\n",
      "           .one())\n",
      "print oil_obj\n",
      "print oil_obj.imported.dvis\n",
      "print oil_obj.imported.kvis"
     ],
     "language": "python",
     "metadata": {},
     "outputs": [
      {
       "output_type": "stream",
       "stream": "stdout",
       "text": [
        "<Oil(\"DESTIN DOME CIS, MMS\")>\n",
        "[<DVis(0.00274 kg/ms at 313.0K)>]\n",
        "[<KVis(3.16e-06 m^2/s at 313.0K)>]\n"
       ]
      }
     ],
     "prompt_number": 8
    },
    {
     "cell_type": "markdown",
     "metadata": {},
     "source": [
      "This record has both a dynamic and kinematic density at $ 313^\\circ K $. "
     ]
    },
    {
     "cell_type": "markdown",
     "metadata": {},
     "source": [
      "If an oil record has both a kinematic and dynamic viscosity at a particular temperature, we will prefer the kinematic.  "
     ]
    },
    {
     "cell_type": "code",
     "collapsed": false,
     "input": [
      "print oil_obj.kvis"
     ],
     "language": "python",
     "metadata": {},
     "outputs": [
      {
       "output_type": "stream",
       "stream": "stdout",
       "text": [
        "[<KVis(3.16e-06 m^2/s at 313.0K)>]\n"
       ]
      }
     ],
     "prompt_number": 9
    },
    {
     "cell_type": "markdown",
     "metadata": {},
     "source": [
      "However any dynamic viscosities that exist at unique temperatures will be converted to kinematic and used."
     ]
    },
    {
     "cell_type": "code",
     "collapsed": false,
     "input": [
      "oil_obj = (session.query(Oil)\n",
      "           .filter(Oil.name == 'ROSSIIELF, RUSSIAN JOINT STOCK CO')\n",
      "           .one())\n",
      "print oil_obj\n",
      "print oil_obj.imported.dvis\n",
      "print oil_obj.imported.kvis"
     ],
     "language": "python",
     "metadata": {},
     "outputs": [
      {
       "output_type": "stream",
       "stream": "stdout",
       "text": [
        "<Oil(\"ROSSIIELF, RUSSIAN JOINT STOCK CO\")>\n",
        "[<DVis(0.12 kg/ms at 273.0K)>]\n",
        "[<KVis(1.96e-05 m^2/s at 313.0K)>, <KVis(1.4e-05 m^2/s at 323.0K)>]\n"
       ]
      }
     ],
     "prompt_number": 10
    },
    {
     "cell_type": "markdown",
     "metadata": {},
     "source": [
      "This oil has a couple of kinematic viscosities, but also has a dynamic viscosity at a temperature that does not match any of the kinematic viscosities.<br>\n",
      "Here we will convert the dynamic viscosity and add it to the list of kinematic viscosities."
     ]
    },
    {
     "cell_type": "code",
     "collapsed": false,
     "input": [
      "print oil_obj.kvis"
     ],
     "language": "python",
     "metadata": {},
     "outputs": [
      {
       "output_type": "stream",
       "stream": "stdout",
       "text": [
        "[<KVis(0.000115662650602 m^2/s at 273.0K)>, <KVis(1.96e-05 m^2/s at 313.0K)>, <KVis(1.4e-05 m^2/s at 323.0K)>]\n"
       ]
      }
     ],
     "prompt_number": 11
    },
    {
     "cell_type": "markdown",
     "metadata": {},
     "source": [
      "<hr style=\"height:3px\">"
     ]
    },
    {
     "cell_type": "heading",
     "level": 2,
     "metadata": {},
     "source": [
      "<center>Finding Oil Viscosity at Temperature</center>"
     ]
    },
    {
     "cell_type": "markdown",
     "metadata": {},
     "source": [
      "So now that we have initial measured viscosities and their respective reference temperatures, we will need to estimate the oil's viscosity at a certain temperature or temperatures in order to provide reasonable viscosity values for a PyGnome model."
     ]
    },
    {
     "cell_type": "markdown",
     "metadata": {},
     "source": [
      "Estimating Viscosity at a certain temperature is done using the following formula:"
     ]
    },
    {
     "cell_type": "markdown",
     "metadata": {},
     "source": [
      "$$\n",
      "\\begin{align}\n",
      "v_{ref} &= \\text{A measured reference viscosity} \\cr\n",
      "T_{ref} &= \\text{The temperature at which the reference viscosity was measured} \\cr\n",
      "T_{pp} &= \\text{The pour point (the point at which the substance stops behaving like a fluid)} \\cr\n",
      "T &= \\text{The temperature at which we would like to compute the viscosity} \\cr\n",
      "k_{v2} &= \\text{The Viscosity Temperature Parameter} \\cr\n",
      "\\cr\n",
      "v_{max} &= v_{ref} exp \\left( k_{v2} \\cdot \\left[ \\frac 1{T_{pp}} - \\frac 1{T_{ref}} \\right] \\right) \\cr\n",
      "v_0 &= \\left[ v_{ref} exp \\left( k_{v2} \\cdot \\left[ \\frac 1T - \\frac 1{T_{ref}} \\right] \\right) \\right]^{\\bot v_{max}}_{ \\top 0} \\cr\n",
      "\\end{align}\n",
      "$$"
     ]
    },
    {
     "cell_type": "markdown",
     "metadata": {},
     "source": [
      "Alright, most of the parameters above are self-explanatory, and coming up with reasonable values for them is fairly straightforward.<br>\n",
      "But what is a reasonable value for $ k_{v2} $?"
     ]
    },
    {
     "cell_type": "markdown",
     "metadata": {},
     "source": [
      "Well, Payne et al (1982) recommend that $ k_{v2} = 9000^\\circ K $.  But Adios 2, based on the results of several oil measurements recorded in the Environment Canada database, instead uses $ k_{v2} = 5000^\\circ K $."
     ]
    },
    {
     "cell_type": "markdown",
     "metadata": {},
     "source": [
      "The formula above has been packaged as a function in the oil library.  Here is its import location"
     ]
    },
    {
     "cell_type": "code",
     "collapsed": false,
     "input": [
      "from oil_library.utilities import get_viscosity"
     ],
     "language": "python",
     "metadata": {},
     "outputs": [],
     "prompt_number": 14
    },
    {
     "cell_type": "heading",
     "level": 3,
     "metadata": {},
     "source": [
      "<u>Some Examples</u>"
     ]
    },
    {
     "cell_type": "markdown",
     "metadata": {},
     "source": [
      "Here we will get an oil with a number of measured kinematic viscosities and make a graph of the interpolated viscosities as a function of temperature."
     ]
    },
    {
     "cell_type": "markdown",
     "metadata": {},
     "source": [
      "First, we need some things in order to plot things."
     ]
    },
    {
     "cell_type": "code",
     "collapsed": false,
     "input": [
      "from pylab import *\n",
      "\n",
      "%matplotlib inline"
     ],
     "language": "python",
     "metadata": {},
     "outputs": [],
     "prompt_number": 24
    },
    {
     "cell_type": "markdown",
     "metadata": {},
     "source": [
      "Now let's get our oil."
     ]
    },
    {
     "cell_type": "code",
     "collapsed": false,
     "input": [
      "oil_obj = session.query(Oil).filter(Oil.adios_oil_id == 'AD02448').one()\n",
      "print oil_obj"
     ],
     "language": "python",
     "metadata": {},
     "outputs": [
      {
       "output_type": "stream",
       "stream": "stdout",
       "text": [
        "<Oil(\"LUCKENBACH FUEL OIL\")>\n"
       ]
      }
     ],
     "prompt_number": 15
    },
    {
     "cell_type": "markdown",
     "metadata": {},
     "source": [
      "Ok, now we need to determine a good temperature range that we can use to graph our viscosities."
     ]
    },
    {
     "cell_type": "code",
     "collapsed": false,
     "input": [
      "oil_obj.kvis"
     ],
     "language": "python",
     "metadata": {},
     "outputs": [
      {
       "metadata": {},
       "output_type": "pyout",
       "prompt_number": 16,
       "text": [
        "[<KVis(0.245 m^2/s at 289.0K)>,\n",
        " <KVis(0.0641 m^2/s at 294.0K)>,\n",
        " <KVis(0.0225 m^2/s at 300.0K)>,\n",
        " <KVis(0.00458 m^2/s at 311.0K)>]"
       ]
      }
     ],
     "prompt_number": 16
    },
    {
     "cell_type": "code",
     "collapsed": false,
     "input": [
      "from oil_library.utilities import get_pour_point\n",
      "get_pour_point(oil_obj)"
     ],
     "language": "python",
     "metadata": {},
     "outputs": [
      {
       "metadata": {},
       "output_type": "pyout",
       "prompt_number": 17,
       "text": [
        "267.271982389016"
       ]
      }
     ],
     "prompt_number": 17
    },
    {
     "cell_type": "markdown",
     "metadata": {},
     "source": [
      "It seems that a range from $ 250^\\cdot K - 350^\\cdot K $ will work."
     ]
    },
    {
     "cell_type": "code",
     "collapsed": false,
     "input": [
      "temps = np.linspace(250.0, 350.0, 200)\n",
      "kvis_ref_temps = [v.ref_temp_k for v in oil_obj.kvis]\n",
      "kvis_refs = [v.m_2_s * 1e6 for v in oil_obj.kvis]\n",
      "for v, t in zip(kvis_refs, kvis_ref_temps):\n",
      "    print v, t"
     ],
     "language": "python",
     "metadata": {},
     "outputs": [
      {
       "output_type": "stream",
       "stream": "stdout",
       "text": [
        "245000.0 289.0\n",
        "64100.0 294.0\n",
        "22500.0 300.0\n",
        "4580.0 311.0\n"
       ]
      }
     ],
     "prompt_number": 152
    },
    {
     "cell_type": "code",
     "collapsed": false,
     "input": [
      "list1 = [1,2,3,4,5]\n",
      "list2 = [6,7,8,9,10]\n",
      "list3 = [11,12,13,14,15]\n",
      "zipped = zip(list1, list2, list3)\n",
      "print zip(*zipped)\n",
      "print 1e6"
     ],
     "language": "python",
     "metadata": {},
     "outputs": [
      {
       "output_type": "stream",
       "stream": "stdout",
       "text": [
        "[(1, 2, 3, 4, 5), (6, 7, 8, 9, 10), (11, 12, 13, 14, 15)]\n",
        "1000000.0\n"
       ]
      }
     ],
     "prompt_number": 140
    },
    {
     "cell_type": "code",
     "collapsed": false,
     "input": [
      "ax = subplot(111)\n",
      "\n",
      "x = temps\n",
      "y = get_viscosity(oil_obj, temps) * 1e6\n",
      "pour_point = get_pour_point(oil_obj)\n",
      "\n",
      "graph_height = np.max(y) * 10\n",
      "\n",
      "plot(x, y, linewidth=1)\n",
      "axis([np.min(temps), np.max(temps), 100.0, graph_height])\n",
      "ax.axvline(273.15, color='g', ls='--')\n",
      "ax.axhline(0, color='g', ls='--')\n",
      "\n",
      "ax.set_title('{0} Viscosity/Temperature'.format(oil_obj.name))\n",
      "figtext(-0.02, 0.5, 'cSt')\n",
      "\n",
      "# annotations\n",
      "for v, t in zip(kvis_refs, kvis_ref_temps):\n",
      "    ax.plot(t, v, marker='o', color=\"green\")\n",
      "    ax.annotate('{0} cSt'.format(v),\n",
      "                xy=(t, v),  xycoords='data',\n",
      "                xytext=(0, 30), textcoords='offset points',\n",
      "                arrowprops=dict(arrowstyle=\"->\")\n",
      "                )\n",
      "\n",
      "# generate x ticks\n",
      "kvis_ref_ticks = [(v, u'T{0}={1}K'.format(i, v)) for i, v in enumerate(kvis_ref_temps)]\n",
      "x_ticks = [(v, '{0:.1f}K'.format(v)) for v, l in zip(*plt.xticks())]\n",
      "x_ticks += kvis_ref_ticks\n",
      "x_ticks += [(273.15, '0C={0:.1f}K'.format(273.15))]\n",
      "x_ticks += [(pour_point, 'PourPoint={0:.1f}K'.format(pour_point))]\n",
      "plt.xticks(*zip(*x_ticks))\n",
      "plt.yscale('log', nonposy='clip')\n",
      "\n",
      "for tick in ax.xaxis.get_major_ticks():\n",
      "    tick.label.set_fontsize(10)\n",
      "    # specify integer or one of preset strings, e.g.\n",
      "    #tick.label.set_fontsize('x-small')\n",
      "    tick.label.set_rotation('vertical')\n",
      "\n",
      "show()"
     ],
     "language": "python",
     "metadata": {},
     "outputs": [
      {
       "metadata": {},
       "output_type": "display_data",
       "png": "[encoded data removed]",
       "text": [
        "<matplotlib.figure.Figure at 0x101f8dfd0>"
       ]
      }
     ],
     "prompt_number": 162
    },
    {
     "cell_type": "code",
     "collapsed": false,
     "input": [],
     "language": "python",
     "metadata": {},
     "outputs": []
    }
   ],
   "metadata": {}
  }
 ]
}