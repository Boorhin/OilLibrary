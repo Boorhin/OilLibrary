{
 "cells": [
  {
   "cell_type": "markdown",
   "metadata": {},
   "source": [
    "## Examples of querying the database\n",
    "\n",
    "Most users will access teh oil datbase via the WebAPI or via PYGNOME.\n",
    "\n",
    "However, one can work with the database directly via its python interacea s well.\n",
    "\n",
    "Here are some examples."
   ]
  },
  {
   "cell_type": "code",
   "execution_count": 1,
   "metadata": {
    "collapsed": false
   },
   "outputs": [],
   "source": [
    "import oil_library\n",
    "from pprint import pprint"
   ]
  },
  {
   "cell_type": "code",
   "execution_count": 2,
   "metadata": {
    "collapsed": false
   },
   "outputs": [],
   "source": [
    "# getting an oil object by name:\n",
    "#oil_library.get_oil('jp-8')\n",
    "oil = oil_library.get_oil('ABU SAFAH, ARAMCO')"
   ]
  },
  {
   "cell_type": "code",
   "execution_count": 3,
   "metadata": {
    "collapsed": false
   },
   "outputs": [
    {
     "name": "stdout",
     "output_type": "stream",
     "text": [
      "<Oil(\"ABU SAFAH, ARAMCO\")>\n",
      "<class 'oil_library.models.Oil'>\n",
      "API is: 28.4\n",
      "This oil's name is: ABU SAFAH, ARAMCO\n",
      "ADIOS ID: AD00010\n",
      "It has and API of 28.4\n",
      "Here are all its attributes:\n",
      "{'_sa_instance_state': <sqlalchemy.orm.state.InstanceState object at 0x112f30090>,\n",
      " 'adhesion_kg_m_2': 0.035,\n",
      " 'adios_oil_id': u'AD00010',\n",
      " 'api': 28.4,\n",
      " 'aromatics_fraction': 0.4858212868113066,\n",
      " 'asphaltenes_fraction': 0.023592880942821193,\n",
      " 'benzene_fraction': None,\n",
      " 'bullwinkle_fraction': 0.188269772851548,\n",
      " 'bullwinkle_time': None,\n",
      " 'cuts': [<Cut(liquid_temp=None, vapor_temp=358.010089012K, fraction=0.0887744384412)>,\n",
      "          <Cut(liquid_temp=None, vapor_temp=409.1904999K, fraction=0.177548876882)>,\n",
      "          <Cut(liquid_temp=None, vapor_temp=460.297886923K, fraction=0.266323315324)>,\n",
      "          <Cut(liquid_temp=None, vapor_temp=511.117667188K, fraction=0.355097753765)>,\n",
      "          <Cut(liquid_temp=None, vapor_temp=560.966813165K, fraction=0.443872192206)>,\n",
      "          <Cut(liquid_temp=None, vapor_temp=608.138438543K, fraction=0.532646630647)>,\n",
      "          <Cut(liquid_temp=None, vapor_temp=650.300213588K, fraction=0.621421069088)>,\n",
      "          <Cut(liquid_temp=None, vapor_temp=688.007919569K, fraction=0.710195507529)>,\n",
      "          <Cut(liquid_temp=None, vapor_temp=718.012735858K, fraction=0.798969945971)>,\n",
      "          <Cut(liquid_temp=None, vapor_temp=730.624028928K, fraction=0.887744384412)>],\n",
      " 'densities': [<Density(884.92808005 kg/m^3 at 288.15K)>],\n",
      " 'emulsion_water_fraction_max': 0.9,\n",
      " 'estimated_id': 2,\n",
      " 'flash_point_max_k': 364.0269614182161,\n",
      " 'flash_point_min_k': None,\n",
      " 'id': 2,\n",
      " 'imported_record_id': 2,\n",
      " 'k0y': 2.024e-06,\n",
      " 'kvis': [<KVis(2.243861e-05 m^2/s at 294.2611K)>,\n",
      "          <KVis(1.29385e-05 m^2/s at 310.9278K)>],\n",
      " 'molecular_weights': [<MolecularWeight(Saturates=93.554311684 gm/mol at 358.010089012K)>,\n",
      "                       <MolecularWeight(Aromatics=81.7747450824 gm/mol at 358.010089012K)>,\n",
      "                       <MolecularWeight(Saturates=119.891415779 gm/mol at 409.1904999K)>,\n",
      "                       <MolecularWeight(Aromatics=106.366688666 gm/mol at 409.1904999K)>,\n",
      "                       <MolecularWeight(Saturates=150.652442915 gm/mol at 460.297886923K)>,\n",
      "                       <MolecularWeight(Aromatics=135.42745033 gm/mol at 460.297886923K)>,\n",
      "                       <MolecularWeight(Saturates=186.44570565 gm/mol at 511.117667188K)>,\n",
      "                       <MolecularWeight(Aromatics=169.669286491 gm/mol at 511.117667188K)>,\n",
      "                       <MolecularWeight(Saturates=227.598548879 gm/mol at 560.966813165K)>,\n",
      "                       <MolecularWeight(Aromatics=209.588978696 gm/mol at 560.966813165K)>,\n",
      "                       <MolecularWeight(Saturates=273.246053297 gm/mol at 608.138438543K)>,\n",
      "                       <MolecularWeight(Aromatics=254.559252386 gm/mol at 608.138438543K)>,\n",
      "                       <MolecularWeight(Saturates=320.816256493 gm/mol at 650.300213588K)>,\n",
      "                       <MolecularWeight(Aromatics=302.218727499 gm/mol at 650.300213588K)>,\n",
      "                       <MolecularWeight(Saturates=370.016896178 gm/mol at 688.007919569K)>,\n",
      "                       <MolecularWeight(Aromatics=352.406741895 gm/mol at 688.007919569K)>,\n",
      "                       <MolecularWeight(Saturates=414.630772443 gm/mol at 718.012735858K)>,\n",
      "                       <MolecularWeight(Aromatics=398.75005225 gm/mol at 718.012735858K)>,\n",
      "                       <MolecularWeight(Saturates=435.068752582 gm/mol at 730.624028928K)>,\n",
      "                       <MolecularWeight(Aromatics=420.259601321 gm/mol at 730.624028928K)>,\n",
      "                       <MolecularWeight(Resins=800.0 gm/mol at 1015.0K)>,\n",
      "                       <MolecularWeight(Asphaltenes=1000.0 gm/mol at 1015.0K)>],\n",
      " 'name': u'ABU SAFAH, ARAMCO',\n",
      " 'naphthenes_fraction': None,\n",
      " 'nickel_ppm': None,\n",
      " 'oil_seawater_interfacial_tension_n_m': None,\n",
      " 'oil_seawater_interfacial_tension_ref_temp_k': None,\n",
      " 'oil_water_interfacial_tension_n_m': 0.03169836,\n",
      " 'oil_water_interfacial_tension_ref_temp_k': 288.15,\n",
      " 'paraffins_fraction': None,\n",
      " 'polars_fraction': None,\n",
      " 'pour_point_max_k': 255.3722,\n",
      " 'pour_point_min_k': 255.3722,\n",
      " 'product_type': u'Crude',\n",
      " 'quality_index': 0.5821496212121212,\n",
      " 'resins_fraction': 0.08866273464549312,\n",
      " 'sara_densities': [<SARADensity(Saturates=672.030871826 kg/m^3 at 358.010089012K)>,\n",
      "                    <SARADensity(Aromatics=806.437046191 kg/m^3 at 358.010089012K)>,\n",
      "                    <SARADensity(Saturates=702.639644033 kg/m^3 at 409.1904999K)>,\n",
      "                    <SARADensity(Aromatics=843.167572839 kg/m^3 at 409.1904999K)>,\n",
      "                    <SARADensity(Saturates=730.752757281 kg/m^3 at 460.297886923K)>,\n",
      "                    <SARADensity(Aromatics=876.903308737 kg/m^3 at 460.297886923K)>,\n",
      "                    <SARADensity(Saturates=756.712834376 kg/m^3 at 511.117667188K)>,\n",
      "                    <SARADensity(Aromatics=908.055401251 kg/m^3 at 511.117667188K)>,\n",
      "                    <SARADensity(Saturates=780.554428449 kg/m^3 at 560.966813165K)>,\n",
      "                    <SARADensity(Aromatics=936.665314139 kg/m^3 at 560.966813165K)>,\n",
      "                    <SARADensity(Saturates=801.847206522 kg/m^3 at 608.138438543K)>,\n",
      "                    <SARADensity(Aromatics=962.216647826 kg/m^3 at 608.138438543K)>,\n",
      "                    <SARADensity(Saturates=819.96522563 kg/m^3 at 650.300213588K)>,\n",
      "                    <SARADensity(Aromatics=983.958270756 kg/m^3 at 650.300213588K)>,\n",
      "                    <SARADensity(Saturates=835.516982049 kg/m^3 at 688.007919569K)>,\n",
      "                    <SARADensity(Aromatics=1002.62037846 kg/m^3 at 688.007919569K)>,\n",
      "                    <SARADensity(Saturates=847.490525157 kg/m^3 at 718.012735858K)>,\n",
      "                    <SARADensity(Aromatics=1016.98863019 kg/m^3 at 718.012735858K)>,\n",
      "                    <SARADensity(Saturates=852.423575979 kg/m^3 at 730.624028928K)>,\n",
      "                    <SARADensity(Aromatics=1022.90829117 kg/m^3 at 730.624028928K)>,\n",
      "                    <SARADensity(Resins=1027.00817 kg/m^3 at 1015.0K)>,\n",
      "                    <SARADensity(Asphaltenes=1027.00817 kg/m^3 at 1015.0K)>],\n",
      " 'sara_fractions': [<SARAFraction(Saturates=0.0707994185078 at 358.010089012K)>,\n",
      "                    <SARAFraction(Aromatics=0.0179750199333 at 358.010089012K)>,\n",
      "                    <SARAFraction(Saturates=0.0598368306082 at 409.1904999K)>,\n",
      "                    <SARAFraction(Aromatics=0.0289376078329 at 409.1904999K)>,\n",
      "                    <SARAFraction(Saturates=0.0472518145436 at 460.297886923K)>,\n",
      "                    <SARAFraction(Aromatics=0.0415226238975 at 460.297886923K)>,\n",
      "                    <SARAFraction(Saturates=0.0320050048487 at 511.117667188K)>,\n",
      "                    <SARAFraction(Aromatics=0.0567694335925 at 511.117667188K)>,\n",
      "                    <SARAFraction(Saturates=0.0320050048487 at 560.966813165K)>,\n",
      "                    <SARAFraction(Aromatics=0.0567694335925 at 560.966813165K)>,\n",
      "                    <SARAFraction(Saturates=0.0320050048487 at 608.138438543K)>,\n",
      "                    <SARAFraction(Aromatics=0.0567694335925 at 608.138438543K)>,\n",
      "                    <SARAFraction(Saturates=0.0320050048487 at 650.300213588K)>,\n",
      "                    <SARAFraction(Aromatics=0.0567694335925 at 650.300213588K)>,\n",
      "                    <SARAFraction(Saturates=0.0320050048487 at 688.007919569K)>,\n",
      "                    <SARAFraction(Aromatics=0.0567694335925 at 688.007919569K)>,\n",
      "                    <SARAFraction(Saturates=0.0320050048487 at 718.012735858K)>,\n",
      "                    <SARAFraction(Aromatics=0.0567694335925 at 718.012735858K)>,\n",
      "                    <SARAFraction(Saturates=0.0320050048487 at 730.624028928K)>,\n",
      "                    <SARAFraction(Aromatics=0.0567694335925 at 730.624028928K)>,\n",
      "                    <SARAFraction(Resins=0.0886627346455 at 1015.0K)>,\n",
      "                    <SARAFraction(Asphaltenes=0.0235928809428 at 1015.0K)>],\n",
      " 'saturates_fraction': 0.4019230976003791,\n",
      " 'solubility': 0.0,\n",
      " 'sulphur_fraction': 0.0,\n",
      " 'vanadium_ppm': None,\n",
      " 'wax_content_fraction': None}\n"
     ]
    }
   ],
   "source": [
    "print oil\n",
    "print type(oil)\n",
    "# An oil object has all sorts of properties you might be interested in\n",
    "print \"API is:\", oil.api\n",
    "print \"This oil's name is: {}\\nADIOS ID: {}\\nIt has and API of {}\".format(\n",
    "        oil.name, oil.adios_oil_id, oil.api)\n",
    "print \"Here are all its attributes:\"\n",
    "pprint(vars(oil))"
   ]
  },
  {
   "cell_type": "code",
   "execution_count": 4,
   "metadata": {
    "collapsed": false
   },
   "outputs": [],
   "source": [
    "#Getting an oil by the ADIOS ID:\n",
    "oil = oil_library.get_oil('AD00010')\n",
    "\n"
   ]
  },
  {
   "cell_type": "code",
   "execution_count": 5,
   "metadata": {
    "collapsed": false
   },
   "outputs": [
    {
     "data": {
      "text/plain": [
       "<Oil(\"ABU SAFAH, ARAMCO\")>"
      ]
     },
     "execution_count": 5,
     "metadata": {},
     "output_type": "execute_result"
    }
   ],
   "source": [
    "oil\n"
   ]
  },
  {
   "cell_type": "code",
   "execution_count": 6,
   "metadata": {
    "collapsed": false
   },
   "outputs": [
    {
     "name": "stdout",
     "output_type": "stream",
     "text": [
      "multiple oils with name: JP-8 found. They have ADIOS IDs: AD02433 AD02434.You may want to query them with the ADIOS ID instead\n"
     ]
    }
   ],
   "source": [
    "# what if there are duplicate names?\n",
    "# you get an exeption with a nice error message\n",
    "try:\n",
    "    oil = oil_library.get_oil('JP-8')\n",
    "except Exception as err:\n",
    "    print err\n",
    "    "
   ]
  },
  {
   "cell_type": "code",
   "execution_count": 7,
   "metadata": {
    "collapsed": false
   },
   "outputs": [
    {
     "name": "stdout",
     "output_type": "stream",
     "text": [
      "<Oil(\"JP-8\")>\n"
     ]
    }
   ],
   "source": [
    "oil = oil_library.get_oil('AD02434')\n",
    "print oil"
   ]
  },
  {
   "cell_type": "markdown",
   "metadata": {},
   "source": [
    "## Working with the DB directly\n",
    "\n",
    "There are currently on a few simiple querries built in to the oil_libary API. But you can work with the DB directly to do any querying you might want\n",
    "\n",
    "The system is built on the SQAlchemy Object-relational mapper:\n",
    "\n",
    "https://www.sqlalchemy.org/\n",
    "\n",
    "### Accessing the database object\n",
    "\n",
    "You can get the database session object with:\n",
    "\n",
    "`session = oil_library._get_db_session()`\n",
    "\n",
    "Then you can use the session object to query the datbase:\n",
    "\n",
    "\n",
    "\n",
    "\n"
   ]
  },
  {
   "cell_type": "code",
   "execution_count": 8,
   "metadata": {
    "collapsed": true
   },
   "outputs": [],
   "source": [
    "# get the datbase session\n",
    "session = oil_library._get_db_session()\n",
    "# get the \"oil\" table -- where most of the work is done..\n",
    "Oil = oil_library.models.Oil"
   ]
  },
  {
   "cell_type": "code",
   "execution_count": 9,
   "metadata": {
    "collapsed": false
   },
   "outputs": [],
   "source": [
    "# do a query:\n",
    "result = session.query(Oil).filter(Oil.name == 'JP-8')"
   ]
  },
  {
   "cell_type": "code",
   "execution_count": 10,
   "metadata": {
    "collapsed": false
   },
   "outputs": [
    {
     "data": {
      "text/plain": [
       "[<Oil(\"JP-8\")>, <Oil(\"JP-8\")>]"
      ]
     },
     "execution_count": 10,
     "metadata": {},
     "output_type": "execute_result"
    }
   ],
   "source": [
    "# see all the results\n",
    "result.all()"
   ]
  },
  {
   "cell_type": "code",
   "execution_count": 11,
   "metadata": {
    "collapsed": false
   },
   "outputs": [
    {
     "data": {
      "text/plain": [
       "[u'AD02433', u'AD02434']"
      ]
     },
     "execution_count": 11,
     "metadata": {},
     "output_type": "execute_result"
    }
   ],
   "source": [
    "# iterate through the results\n",
    "[oil.adios_oil_id for oil in result]"
   ]
  },
  {
   "cell_type": "code",
   "execution_count": 12,
   "metadata": {
    "collapsed": false
   },
   "outputs": [
    {
     "data": {
      "text/plain": [
       "<Oil(\"JP-8\")>"
      ]
     },
     "execution_count": 12,
     "metadata": {},
     "output_type": "execute_result"
    }
   ],
   "source": [
    "oil_library.get_oil(' ad02433 ')"
   ]
  },
  {
   "cell_type": "code",
   "execution_count": null,
   "metadata": {
    "collapsed": true
   },
   "outputs": [],
   "source": []
  }
 ],
 "metadata": {
  "kernelspec": {
   "display_name": "Python 2",
   "language": "python",
   "name": "python2"
  },
  "language_info": {
   "codemirror_mode": {
    "name": "ipython",
    "version": 2
   },
   "file_extension": ".py",
   "mimetype": "text/x-python",
   "name": "python",
   "nbconvert_exporter": "python",
   "pygments_lexer": "ipython2",
   "version": "2.7.12"
  }
 },
 "nbformat": 4,
 "nbformat_minor": 2
}
