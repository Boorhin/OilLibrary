{
 "cells": [
  {
   "cell_type": "markdown",
   "metadata": {},
   "source": [
    "# <center>Oil Viscosity</center>"
   ]
  },
  {
   "cell_type": "markdown",
   "metadata": {},
   "source": [
    "The viscosity of an oil can factor into many calculations that are needed in the response of a spill, such as spreading and dispersion."
   ]
  },
  {
   "cell_type": "markdown",
   "metadata": {},
   "source": [
    "## <center>Importing and Estimating Initial Values</center>"
   ]
  },
  {
   "cell_type": "markdown",
   "metadata": {},
   "source": [
    "In the PyGnome oil library, kinematic viscosity is primarily used, although the imported oil records sometimes do contain dynamic viscosity measurements.<br>\n",
    "We would like to maintain as much of the useful imported information as we can.  So when we do encounter imported records with dynamic viscosities, we convert them to kinematic for use with the oil library."
   ]
  },
  {
   "cell_type": "markdown",
   "metadata": {},
   "source": [
    "The conversion from dynamic viscosity to kinematic viscosity is:"
   ]
  },
  {
   "cell_type": "markdown",
   "metadata": {},
   "source": [
    "$$\n",
    "\\begin{align}\n",
    "\\eta0_{oil} &= \\text{the dynamic viscosity of our oil in } Pa \\cdot s \\left( \\text{aka } {kg \\over m \\cdot s} \\right) \\cr\n",
    "\\rho0_{oil} &= \\text{the density of our oil in } kg/m^3 \\cr\n",
    "v0_{oil} &= {\\eta0_{oil} \\over \\rho0_{oil} } = \\text{the kinematic viscosity of our oil in } m^2 / s\n",
    "\\end{align}\n",
    "$$"
   ]
  },
  {
   "cell_type": "markdown",
   "metadata": {},
   "source": [
    "### <u>Some Examples</u>"
   ]
  },
  {
   "cell_type": "markdown",
   "metadata": {},
   "source": [
    "Ok, let's apply this to some examples using records in our oil library.<br>\n",
    "First we will import some things from our oil library that we will need."
   ]
  },
  {
   "cell_type": "code",
   "execution_count": 1,
   "metadata": {
    "collapsed": false
   },
   "outputs": [],
   "source": [
    "import numpy as np\n",
    "from scipy.optimize import curve_fit\n",
    "\n",
    "from pylab import *\n",
    "\n",
    "%matplotlib inline\n",
    "\n",
    "from oil_library import get_oil, get_oil_props, _get_db_session\n",
    "from oil_library.utilities.estimations import pour_point_from_kvis\n",
    "from oil_library.models import (Base, ImportedRecord, Oil,\n",
    "                                Density, KVis, DVis,\n",
    "                                Toxicity, Category)\n",
    "from oil_library.oil_props import OilProps\n",
    "\n",
    "session = _get_db_session()"
   ]
  },
  {
   "cell_type": "markdown",
   "metadata": {},
   "source": [
    "Now we can query for an oil that we are interested in."
   ]
  },
  {
   "cell_type": "markdown",
   "metadata": {},
   "source": [
    "#### Example 1:  Estimating Kinematic Viscosity"
   ]
  },
  {
   "cell_type": "markdown",
   "metadata": {},
   "source": [
    "For this example, we will examine an oil that has no kinematic viscosities, but does in fact have a measured dynamic viscosity."
   ]
  },
  {
   "cell_type": "code",
   "execution_count": 2,
   "metadata": {
    "collapsed": false
   },
   "outputs": [
    {
     "name": "stdout",
     "output_type": "stream",
     "text": [
      "128\n",
      "126\n",
      "<Oil(\"KUWAIT EXPORT\")>\n",
      "[<DVis(0.0581 kg/ms at 310.9278K)>]\n",
      "[]\n"
     ]
    }
   ],
   "source": [
    "# query all imported records that have DVis but no KVis\n",
    "recs = (session.query(ImportedRecord)\n",
    "        .join(DVis)\n",
    "        .outerjoin(KVis)\n",
    "        .filter(KVis.imported_record_id == None)\n",
    "        .all())\n",
    "print len(recs)\n",
    "\n",
    "# query all Oils associated with our imported records.\n",
    "oils = [r.oil for r in recs if r.oil is not None]\n",
    "print len(oils)\n",
    "\n",
    "# now let's choose one that matches our example precisely\n",
    "oil_obj = [o for o in oils\n",
    "           if (len(o.imported.densities) == 0)][0]\n",
    "print oil_obj\n",
    "print oil_obj.imported.dvis\n",
    "print oil_obj.imported.kvis"
   ]
  },
  {
   "cell_type": "markdown",
   "metadata": {},
   "source": [
    "The imported record for this oil contains a dynamic viscosity, but no kinematic viscosity.  So we will need to convert it to a kinematic viscosity using the method above.<br>\n",
    "So in order to do that, we need to get the density for this oil."
   ]
  },
  {
   "cell_type": "code",
   "execution_count": 3,
   "metadata": {
    "collapsed": false
   },
   "outputs": [
    {
     "name": "stdout",
     "output_type": "stream",
     "text": [
      "[]\n",
      "31.4\n"
     ]
    }
   ],
   "source": [
    "print oil_obj.imported.densities\n",
    "print oil_obj.imported.api"
   ]
  },
  {
   "cell_type": "markdown",
   "metadata": {},
   "source": [
    "Alright, you can see that the imported record for this oil also has no densities, but it does have an API.  So of course we will need to convert the API to a density at $ 15^\\circ C $.<br>\n",
    "Fortunately, the oil object already has this estimated.<br>\n",
    "<i>(For details on this, please see the Oil density discussion )</i>"
   ]
  },
  {
   "cell_type": "code",
   "execution_count": 4,
   "metadata": {
    "collapsed": false
   },
   "outputs": [
    {
     "name": "stdout",
     "output_type": "stream",
     "text": [
      "[<Density(868.631062001 kg/m^3 at 288.15K)>]\n"
     ]
    }
   ],
   "source": [
    "print oil_obj.densities"
   ]
  },
  {
   "cell_type": "markdown",
   "metadata": {},
   "source": [
    "Now, is this the density value we want?  Not really, because we would really like to know what the oil density is at $ 310.93^\\circ K $"
   ]
  },
  {
   "cell_type": "markdown",
   "metadata": {},
   "source": [
    "For a full discussion of calculating the oil density at a temperature, please see the Oil Density notebook document.  But for our purposes, we will use the convenience function density_at_temp() located in the PyGnome oil_library module.\n",
    "\n",
    "It takes a reference density, a reference temperature, and an optional expansion coefficient.\n",
    "\n",
    "There is a default expansion coefficient of 0.0008 used by this utility function.  This is a reasonable average estimate, but in this case we want to verify that the oil's viscosity is close to what we would expect.  So we will also get the expansion coefficient that is used by the record."
   ]
  },
  {
   "cell_type": "code",
   "execution_count": 5,
   "metadata": {
    "collapsed": false
   },
   "outputs": [
    {
     "name": "stdout",
     "output_type": "stream",
     "text": [
      "Expansion Coefficient:  0.0009\n",
      "density at 311K:  851.181817714\n"
     ]
    }
   ],
   "source": [
    "from oil_library.utilities.estimations import density_at_temp\n",
    "from oil_library.imported_record.estimations import ImportedRecordWithEstimation\n",
    "\n",
    "# we need a good expansion coefficient from our imported record\n",
    "imp_rec = ImportedRecordWithEstimation(oil_obj.imported)\n",
    "expansion_coeff = imp_rec._vol_expansion_coeff(imp_rec.get_densities(), 310.9278)\n",
    "print 'Expansion Coefficient: ', expansion_coeff\n",
    "\n",
    "density_at_311k = density_at_temp(oil_obj.densities[0].kg_m_3,\n",
    "                                  oil_obj.densities[0].ref_temp_k,\n",
    "                                  310.9278,\n",
    "                                  expansion_coeff)\n",
    "print 'density at 311K: ', density_at_311k\n"
   ]
  },
  {
   "cell_type": "markdown",
   "metadata": {},
   "source": [
    "Alright, now we have the dynamic viscosity and the density.  Now we can calculate the kinematic viscosity at $ 310.93^\\circ K $"
   ]
  },
  {
   "cell_type": "code",
   "execution_count": 6,
   "metadata": {
    "collapsed": false
   },
   "outputs": [
    {
     "name": "stdout",
     "output_type": "stream",
     "text": [
      "6.82580369914e-05\n"
     ]
    }
   ],
   "source": [
    "dvis = oil_obj.imported.dvis[0]\n",
    "dvis.kg_ms\n",
    "kinematic_viscosity_at_311k = dvis.kg_ms / density_at_311k\n",
    "print kinematic_viscosity_at_311k"
   ]
  },
  {
   "cell_type": "markdown",
   "metadata": {},
   "source": [
    "Ok, let's see if that is what was estimated for our oil."
   ]
  },
  {
   "cell_type": "code",
   "execution_count": 7,
   "metadata": {
    "collapsed": false
   },
   "outputs": [
    {
     "name": "stdout",
     "output_type": "stream",
     "text": [
      "[<KVis(6.82580369914e-05 m^2/s at 310.9278K)>]\n"
     ]
    }
   ],
   "source": [
    "print oil_obj.kvis"
   ]
  },
  {
   "cell_type": "markdown",
   "metadata": {},
   "source": [
    "Sure enough, the oil object has a kinematic value that matches our work."
   ]
  },
  {
   "cell_type": "markdown",
   "metadata": {},
   "source": [
    "#### Example 2:  Dynamic Viscosities must be at unique temperatures."
   ]
  },
  {
   "cell_type": "code",
   "execution_count": 8,
   "metadata": {
    "collapsed": false
   },
   "outputs": [
    {
     "name": "stdout",
     "output_type": "stream",
     "text": [
      "<Oil(\"DESTIN DOME CIS, MMS\")>\n",
      "[<DVis(0.00274 kg/ms at 313.15K)>]\n",
      "[<KVis(3.16e-06 m^2/s at 313.15K)>]\n"
     ]
    }
   ],
   "source": [
    "oil_obj = (session.query(Oil)\n",
    "           .filter(Oil.name == 'DESTIN DOME CIS, MMS')\n",
    "           .one())\n",
    "print oil_obj\n",
    "print oil_obj.imported.dvis\n",
    "print oil_obj.imported.kvis"
   ]
  },
  {
   "cell_type": "markdown",
   "metadata": {},
   "source": [
    "This record has both a dynamic and kinematic density at $ 313^\\circ K $. "
   ]
  },
  {
   "cell_type": "markdown",
   "metadata": {},
   "source": [
    "If an oil record has both a kinematic and dynamic viscosity at a particular temperature, we will prefer the kinematic.  "
   ]
  },
  {
   "cell_type": "code",
   "execution_count": 9,
   "metadata": {
    "collapsed": false
   },
   "outputs": [
    {
     "name": "stdout",
     "output_type": "stream",
     "text": [
      "[<KVis(3.16e-06 m^2/s at 313.15K)>]\n"
     ]
    }
   ],
   "source": [
    "print oil_obj.kvis"
   ]
  },
  {
   "cell_type": "markdown",
   "metadata": {},
   "source": [
    "However any dynamic viscosities that exist at unique temperatures will be converted to kinematic and used."
   ]
  },
  {
   "cell_type": "code",
   "execution_count": 10,
   "metadata": {
    "collapsed": false
   },
   "outputs": [
    {
     "name": "stdout",
     "output_type": "stream",
     "text": [
      "<Oil(\"ROSSIIELF, RUSSIAN JOINT STOCK CO\")>\n",
      "[<DVis(0.12 kg/ms at 273.15K)>]\n",
      "[<KVis(1.957e-05 m^2/s at 313.15K)>, <KVis(1.395e-05 m^2/s at 323.15K)>]\n"
     ]
    }
   ],
   "source": [
    "oil_obj = (session.query(Oil)\n",
    "           .filter(Oil.name == 'ROSSIIELF, RUSSIAN JOINT STOCK CO')\n",
    "           .one())\n",
    "print oil_obj\n",
    "print oil_obj.imported.dvis\n",
    "print oil_obj.imported.kvis"
   ]
  },
  {
   "cell_type": "markdown",
   "metadata": {},
   "source": [
    "This oil has a couple of kinematic viscosities, but also has a dynamic viscosity at a temperature that does not match any of the kinematic viscosities.<br>\n",
    "Here we will convert the dynamic viscosity and add it to the list of kinematic viscosities."
   ]
  },
  {
   "cell_type": "code",
   "execution_count": 11,
   "metadata": {
    "collapsed": false
   },
   "outputs": [
    {
     "name": "stdout",
     "output_type": "stream",
     "text": [
      "[<KVis(0.000129914529915 m^2/s at 273.15K)>, <KVis(1.957e-05 m^2/s at 313.15K)>, <KVis(1.395e-05 m^2/s at 323.15K)>]\n"
     ]
    }
   ],
   "source": [
    "print oil_obj.kvis"
   ]
  },
  {
   "cell_type": "markdown",
   "metadata": {},
   "source": [
    "<hr style=\"height:3px\">"
   ]
  },
  {
   "cell_type": "markdown",
   "metadata": {},
   "source": [
    "## <center>Finding Oil Viscosity at Temperature</center>"
   ]
  },
  {
   "cell_type": "markdown",
   "metadata": {},
   "source": [
    "So now that we have initial measured viscosities and their respective reference temperatures, we will need to estimate the oil's viscosity at a certain temperature or temperatures in order to provide reasonable viscosity values for a PyGnome model."
   ]
  },
  {
   "cell_type": "markdown",
   "metadata": {},
   "source": [
    "Estimating Viscosity at a certain temperature is done using the following formula:"
   ]
  },
  {
   "cell_type": "markdown",
   "metadata": {},
   "source": [
    "$$\n",
    "\\begin{align}\n",
    "v_{ref} &= \\text{A measured reference viscosity} \\cr\n",
    "T_{ref} &= \\text{The temperature at which the reference viscosity was measured} \\cr\n",
    "T_{pp} &= \\text{The pour point (the point at which the substance stops behaving like a fluid)} \\cr\n",
    "T &= \\text{The temperature at which we would like to compute the viscosity} \\cr\n",
    "k_{v2} &= \\text{The Viscosity Temperature Parameter} \\cr\n",
    "\\cr\n",
    "v_{max} &= v_{ref} exp \\left( k_{v2} \\cdot \\left[ \\frac 1{T_{pp}} - \\frac 1{T_{ref}} \\right] \\right) \\cr\n",
    "v_0 &= \\left[ v_{ref} exp \\left( k_{v2} \\cdot \\left[ \\frac 1T - \\frac 1{T_{ref}} \\right] \\right) \\right]^{\\bot v_{max}}_{ \\top 0} \\cr\n",
    "\\end{align}\n",
    "$$"
   ]
  },
  {
   "cell_type": "markdown",
   "metadata": {},
   "source": [
    "Alright, most of the parameters above are self-explanatory, and coming up with reasonable values for them is fairly straightforward.<br>\n",
    "But what is a reasonable value for $ k_{v2} $?"
   ]
  },
  {
   "cell_type": "markdown",
   "metadata": {},
   "source": [
    "Well, Payne et al (1982) recommend that $ k_{v2} = 9000^\\circ K $.  But Adios 2, based on the results of several oil measurements recorded in the Environment Canada database, instead uses $ k_{v2} = 5000^\\circ K $."
   ]
  },
  {
   "cell_type": "code",
   "execution_count": 12,
   "metadata": {
    "collapsed": true
   },
   "outputs": [],
   "source": [
    "def kvis_at_temp(ref_kvis, ref_temp_k, temp_k):\n",
    "    k_v2 = 5000.0\n",
    "\n",
    "    return ref_kvis * np.exp(k_v2 / temp_k - k_v2 / ref_temp_k)\n"
   ]
  },
  {
   "cell_type": "markdown",
   "metadata": {},
   "source": [
    "The formula above has been packaged as a function in the oil library.  Here is its import location"
   ]
  },
  {
   "cell_type": "code",
   "execution_count": 13,
   "metadata": {
    "collapsed": false
   },
   "outputs": [],
   "source": [
    "from oil_library.utilities.estimations import kvis_at_temp"
   ]
  },
  {
   "cell_type": "markdown",
   "metadata": {},
   "source": [
    "In addition, it has been packaged as a method of oil objects."
   ]
  },
  {
   "cell_type": "markdown",
   "metadata": {},
   "source": [
    "### <u>Some Examples</u>"
   ]
  },
  {
   "cell_type": "markdown",
   "metadata": {},
   "source": [
    "Here we will get an oil with a number of measured kinematic viscosities and make a graph of the interpolated viscosities as a function of temperature.\n",
    "\n",
    "Alright, first let's get our oil."
   ]
  },
  {
   "cell_type": "code",
   "execution_count": 14,
   "metadata": {
    "collapsed": false
   },
   "outputs": [
    {
     "name": "stdout",
     "output_type": "stream",
     "text": [
      "<Oil(\"LUCKENBACH FUEL OIL\")>\n"
     ]
    }
   ],
   "source": [
    "oil_obj = session.query(Oil).filter(Oil.adios_oil_id == 'AD02448').one()\n",
    "print oil_obj"
   ]
  },
  {
   "cell_type": "markdown",
   "metadata": {},
   "source": [
    "Ok, now we need to determine a good temperature range that we can use to graph our viscosities."
   ]
  },
  {
   "cell_type": "code",
   "execution_count": 15,
   "metadata": {
    "collapsed": false
   },
   "outputs": [
    {
     "data": {
      "text/plain": [
       "[<KVis(0.245 m^2/s at 288.7056K)>,\n",
       " <KVis(0.0641 m^2/s at 294.2611K)>,\n",
       " <KVis(0.0225 m^2/s at 299.8167K)>,\n",
       " <KVis(0.00458 m^2/s at 310.9278K)>]"
      ]
     },
     "execution_count": 15,
     "metadata": {},
     "output_type": "execute_result"
    }
   ],
   "source": [
    "oil_obj.kvis"
   ]
  },
  {
   "cell_type": "code",
   "execution_count": 16,
   "metadata": {
    "collapsed": false
   },
   "outputs": [
    {
     "data": {
      "text/plain": [
       "267.02016700827045"
      ]
     },
     "execution_count": 16,
     "metadata": {},
     "output_type": "execute_result"
    }
   ],
   "source": [
    "pour_point_from_kvis(oil_obj.kvis[0].m_2_s,\n",
    "                     oil_obj.kvis[0].ref_temp_k)"
   ]
  },
  {
   "cell_type": "markdown",
   "metadata": {},
   "source": [
    "It seems that a range from $ 250^\\cdot K - 350^\\cdot K $ will work."
   ]
  },
  {
   "cell_type": "code",
   "execution_count": 17,
   "metadata": {
    "collapsed": false
   },
   "outputs": [
    {
     "name": "stdout",
     "output_type": "stream",
     "text": [
      "(25.00494, 294.2611)\n",
      "(14.40662, 310.9278)\n"
     ]
    },
    {
     "data": {
      "image/png": "[encoded data removed]",
      "text/plain": [
       "<matplotlib.figure.Figure at 0x11709ed10>"
      ]
     },
     "metadata": {},
     "output_type": "display_data"
    }
   ],
   "source": [
    "plt.figure(1, figsize=(12,8))\n",
    "ax = plt.subplot(111)\n",
    "\n",
    "#oil_obj = session.query(Oil).filter(Oil.adios_oil_id == 'AD02448').one()\n",
    "#oil_obj = session.query(Oil).filter(Oil.adios_oil_id == 'AD04009').one()\n",
    "oil_obj = session.query(Oil).filter(Oil.adios_oil_id == 'AD00009').one()\n",
    "imp_rec = ImportedRecordWithEstimation(oil_obj.imported)\n",
    "\n",
    "temps = np.linspace(250.0, 350.0, 200)\n",
    "kvis_ref_temps = [v.ref_temp_k for v in oil_obj.kvis]\n",
    "kvis_refs = [v.m_2_s * 1e6 for v in oil_obj.kvis]\n",
    "for v, t in zip(kvis_refs, kvis_ref_temps):\n",
    "    print (v, t)\n",
    "\n",
    "pour_point = pour_point_from_kvis(oil_obj.kvis[0].m_2_s,\n",
    "                                  oil_obj.kvis[0].ref_temp_k)\n",
    "\n",
    "x = temps\n",
    "y = imp_rec.kvis_at_temp(temps) * 1e6\n",
    "\n",
    "graph_max = np.max(y) * 10\n",
    "graph_min = np.min(y) / 10\n",
    "\n",
    "plot(x, y, linewidth=1)\n",
    "axis([np.min(temps), np.max(temps), graph_min, graph_max])\n",
    "ax.axvline(273.15, color='g', ls='--')\n",
    "ax.axhline(0, color='g', ls='--')\n",
    "\n",
    "ax.set_title('{0} Viscosity/Temperature'.format(oil_obj.name))\n",
    "figtext(-0.02, 0.5, 'cSt')\n",
    "\n",
    "# annotations\n",
    "for v, t in zip(kvis_refs, kvis_ref_temps):\n",
    "    ax.plot(t, v, marker='o', color=\"green\")\n",
    "    ax.annotate('{0} cSt'.format(v),\n",
    "                xy=(t, v),  xycoords='data',\n",
    "                xytext=(0, 30), textcoords='offset points',\n",
    "                arrowprops=dict(arrowstyle=\"->\")\n",
    "                )\n",
    "\n",
    "# generate x ticks\n",
    "kvis_ref_ticks = [(v, r'$T{0}={1:.1f}^\\circ K$                '.format(i, v))\n",
    "                  for i, v in enumerate(kvis_ref_temps)]\n",
    "x_ticks = [(v, r'${0:.1f}^\\circ K$'.format(v)) for v, l in zip(*plt.xticks())]\n",
    "x_ticks += kvis_ref_ticks\n",
    "x_ticks += [(273.15, r'$0^\\circ C={0:.1f}^\\circ K$'.format(273.15))]\n",
    "x_ticks += [(pour_point, r'$PourPoint = {0:.1f}^\\circ K$'.format(pour_point))]\n",
    "plt.xticks(*zip(*x_ticks))\n",
    "plt.yscale('log', nonposy='clip')\n",
    "\n",
    "for tick in ax.xaxis.get_major_ticks():\n",
    "    tick.label.set_fontsize(10)\n",
    "    # specify integer or one of preset strings, e.g.\n",
    "    #tick.label.set_fontsize('x-small')\n",
    "    tick.label.set_rotation('vertical')\n",
    "\n",
    "show()"
   ]
  },
  {
   "cell_type": "markdown",
   "metadata": {
    "collapsed": false
   },
   "source": [
    "It seems visually intuitive from looking at the above graph that the rate at which the kinematic viscosity decreases with temperature, a rate that is calculated using the above formula, does not in fact match our data points.  It seems that we may need to implement something that will adjust the rate somehow.\n",
    "\n",
    "First we parameterize $k_{v2}$ for the kvis-to-temperature formula"
   ]
  },
  {
   "cell_type": "code",
   "execution_count": 18,
   "metadata": {
    "collapsed": true
   },
   "outputs": [],
   "source": [
    "def kvis_at_temp(temp_k, ref_kvis, ref_temp_k, k_v2):\n",
    "    return ref_kvis * np.exp(k_v2 / temp_k - k_v2 / ref_temp_k)"
   ]
  },
  {
   "cell_type": "markdown",
   "metadata": {
    "collapsed": true
   },
   "source": [
    "We need a form of the function that we can use to perform a curve optimization to determine $k_{v2}$.\n",
    "We can derive this form by compartmentalizing parts of the equation that are not affected by a change in temperature.\n",
    "This derivation is as follows:\n",
    "\n",
    "$$\n",
    "\\begin{align}\n",
    "v_0 &= v_{ref} exp \\left( \\frac {k_{v2}} T - \\frac {k_{v2}} {T_{ref}} \\right) \\cr\n",
    "v_0 &= \\left( v_{ref} \\cdot e^{-k_{v2} / T_{ref}} \\right) \\cdot e^{k_{v2} / T} \\cr\n",
    "v_0 &= a \\cdot exp \\left( \\frac {k_{v2}} T \\right) \\cr\n",
    "\\end{align}\n",
    "$$\n",
    "\n",
    "Here we are interested not so much in the coefficient $a$, but the exponential coefficient $k_{v2}$"
   ]
  },
  {
   "cell_type": "code",
   "execution_count": 19,
   "metadata": {
    "collapsed": false
   },
   "outputs": [
    {
     "name": "stdout",
     "output_type": "stream",
     "text": [
      "(2.5004940000000001e-05, 294.2611, 0.0)\n",
      "(1.440662e-05, 310.92779999999999, 0.0)\n",
      "trying (k_v2, a) =  (1995.2623149688789, 2.8395877489823502e-08)\n",
      "\tpopt:  [  8.52470134e-10   3.02690085e+03]\n",
      "\tpcov:  [[ inf  inf]\n",
      " [ inf  inf]]\n",
      "\tk_v2 deviation:  inf\n",
      "using popt:  [  8.52470134e-10   3.02690085e+03]\n"
     ]
    },
    {
     "name": "stderr",
     "output_type": "stream",
     "text": [
      "/Users/james.makela/anaconda/lib/python2.7/site-packages/scipy/optimize/minpack.py:779: OptimizeWarning: Covariance of the parameters could not be estimated\n",
      "  category=OptimizeWarning)\n"
     ]
    },
    {
     "data": {
      "image/png": "[encoded data removed]",
      "text/plain": [
       "<matplotlib.figure.Figure at 0x117098350>"
      ]
     },
     "metadata": {},
     "output_type": "display_data"
    }
   ],
   "source": [
    "plt.figure(1, figsize=(12,8))\n",
    "ax = plt.subplot(111)\n",
    "\n",
    "# This oil has an exponential increase with temperature.  Why??\n",
    "#oil_obj = session.query(Oil).filter(Oil.adios_oil_id == 'AD00311').one()\n",
    "\n",
    "# These oils show a flat viscosity response to temperature.  Why??\n",
    "#oil_obj = session.query(Oil).filter(Oil.adios_oil_id == 'AD02548').one()\n",
    "#oil_obj = session.query(Oil).filter(Oil.adios_oil_id == 'AD02552').one()\n",
    "\n",
    "#oil_obj = session.query(Oil).filter(Oil.adios_oil_id == 'AD02448').one()\n",
    "#oil_obj = session.query(Oil).filter(Oil.adios_oil_id == 'AD04009').one()\n",
    "oil_obj = session.query(Oil).filter(Oil.adios_oil_id == 'AD00009').one()\n",
    "\n",
    "temps = np.linspace(250.0, 320.0, 200)\n",
    "kvis_ref_temps = np.array([v.ref_temp_k for v in oil_obj.kvis])\n",
    "kvis_refs = np.array([v.m_2_s for v in oil_obj.kvis])\n",
    "kvis_weathering = np.array([v.weathering for v in oil_obj.kvis])\n",
    "pour_point = pour_point_from_kvis(oil_obj.kvis[0].m_2_s,\n",
    "                                  oil_obj.kvis[0].ref_temp_k)\n",
    "\n",
    "for v, t, w in zip(kvis_refs, kvis_ref_temps, kvis_weathering):\n",
    "    print (v, t, w)\n",
    "\n",
    "# This works pretty well for IFO 180\n",
    "# - initial a = 0.01\n",
    "# - initial k_v2 = 6000\n",
    "def exp_func(temp_k, a, k_v2):\n",
    "    return a * np.exp(k_v2 / temp_k)\n",
    "\n",
    "for k in np.logspace(3.3, 4.5, num=8):\n",
    "    # log range from about 5000-32000\n",
    "    a_coeff = kvis_refs[0] * np.exp(-k / kvis_ref_temps[0])\n",
    "    try:\n",
    "        print 'trying (k_v2, a) = ', (k, a_coeff)\n",
    "        popt, pcov = curve_fit(exp_func, kvis_ref_temps, kvis_refs,\n",
    "                               p0=(a_coeff, k), maxfev = 2000)\n",
    "        \n",
    "        std_dev = np.sqrt(np.diag(pcov))\n",
    "        print '\\tpopt: ', popt\n",
    "        print '\\tpcov: ', pcov\n",
    "        print '\\tk_v2 deviation: ', (std_dev/popt)[1]\n",
    "\n",
    "        # - we want our covariance to be a reasonably small number,\n",
    "        #   but it can get into the thousands even for a good fit.\n",
    "        #   So we will only check for inf values.\n",
    "        # - for sample sizes < 3, the covariance is unreliable.\n",
    "        if len(kvis_refs) > 2 and np.any(pcov == np.inf):\n",
    "            print '\\tcovariance too high: {}', pcov\n",
    "            continue\n",
    "\n",
    "        break\n",
    "    except (ValueError, RuntimeError), e:\n",
    "        print '\\tcaught exception: ', e\n",
    "        continue\n",
    "\n",
    "print 'using popt: ', popt\n",
    "x = temps\n",
    "y = exp_func(temps, *popt)\n",
    "\n",
    "graph_max = np.max(y) * 10\n",
    "graph_min = np.min(y) / 10\n",
    "\n",
    "plot(x, y, linewidth=1)\n",
    "axis([np.min(temps), np.max(temps) + 10.0, graph_min, graph_max])\n",
    "ax.axvline(273.15, color='g', ls='--')\n",
    "ax.axhline(0, color='g', ls='--')\n",
    "\n",
    "ax.set_title('{0} Viscosity/Temperature'.format(oil_obj.name))\n",
    "figtext(-0.02, 0.5, 'cSt')\n",
    "\n",
    "# annotations\n",
    "for v, t in zip(kvis_refs, kvis_ref_temps):\n",
    "    ax.plot(t, v, marker='o', color=\"green\")\n",
    "    ax.annotate(r'{0:.2g} $m^2/s$'.format(v),\n",
    "                xy=(t, v),  xycoords='data',\n",
    "                xytext=(0, 30), textcoords='offset points',\n",
    "                arrowprops=dict(arrowstyle=\"->\")\n",
    "                )\n",
    "\n",
    "# generate x ticks\n",
    "kvis_ref_ticks = [(v, r'$T{0}={1:.1f}^\\circ K$                '.format(i, v))\n",
    "                  for i, v in enumerate(kvis_ref_temps)]\n",
    "x_ticks = [(v, r'${0:.1f}^\\circ K$'.format(v)) for v, l in zip(*plt.xticks())]\n",
    "x_ticks += kvis_ref_ticks\n",
    "x_ticks += [(273.15, r'$0^\\circ C={0:.1f}^\\circ K$'.format(273.15))]\n",
    "x_ticks += [(pour_point, r'$PourPoint = {0:.1f}^\\circ K$'.format(pour_point))]\n",
    "plt.xticks(*zip(*x_ticks))\n",
    "plt.yscale('log', nonposy='clip')\n",
    "\n",
    "for tick in ax.xaxis.get_major_ticks():\n",
    "    tick.label.set_fontsize(10)\n",
    "    # specify integer or one of preset strings, e.g.\n",
    "    #tick.label.set_fontsize('x-small')\n",
    "    tick.label.set_rotation('vertical')\n",
    "\n",
    "show()"
   ]
  },
  {
   "cell_type": "markdown",
   "metadata": {
    "collapsed": true
   },
   "source": [
    "Ok, this curve optimization fits the data reasonably for a couple of different oils.  We now turn this process into a more easily usable function.\n"
   ]
  },
  {
   "cell_type": "code",
   "execution_count": 20,
   "metadata": {
    "collapsed": false
   },
   "outputs": [],
   "source": [
    "def determine_k_v2(ref_temp_k, ref_kvis):\n",
    "    k_v2 = 5000.0  # default if we can't find an optimization\n",
    "\n",
    "    def exp_func(temp_k, a, k_v2):\n",
    "        return a * np.exp(k_v2 / temp_k)\n",
    "\n",
    "    for k in np.logspace(3.6, 4.5, num=8):\n",
    "        # k = log range from about 5000-32000\n",
    "        a_coeff = ref_kvis[0] * np.exp(-k / ref_temp_k[0])\n",
    "\n",
    "        try:\n",
    "            popt, pcov = curve_fit(exp_func, ref_temp_k, ref_kvis,\n",
    "                                   p0=(a_coeff, k), maxfev = 2000)\n",
    "\n",
    "            # - we want our covariance to be a reasonably small number,\n",
    "            #   but it can get into the thousands even for a good fit.\n",
    "            #   So we will only check for inf values.\n",
    "            # - for sample sizes < 3, the covariance is unreliable.\n",
    "            if len(ref_kvis) > 2 and np.any(pcov == np.inf):\n",
    "                print 'covariance too high.'\n",
    "                continue\n",
    "\n",
    "            k_v2 = popt[1]\n",
    "            #std_dev = np.sqrt(np.diag(pcov))\n",
    "            break\n",
    "        except (ValueError, RuntimeError), e:\n",
    "            print 'caught exception: ', e\n",
    "            continue\n",
    "\n",
    "    return k_v2\n"
   ]
  },
  {
   "cell_type": "markdown",
   "metadata": {},
   "source": [
    "Now let's see what the $k_{v2}$ trends are for the oils in our database."
   ]
  },
  {
   "cell_type": "code",
   "execution_count": 21,
   "metadata": {
    "collapsed": false
   },
   "outputs": [
    {
     "name": "stdout",
     "output_type": "stream",
     "text": [
      "caught exception:  Optimal parameters not found: Number of calls to function has reached maxfev = 2000.\n",
      "caught exception:  Optimal parameters not found: Number of calls to function has reached maxfev = 2000.\n",
      "caught exception:  Optimal parameters not found: Number of calls to function has reached maxfev = 2000.\n",
      "caught exception:  Optimal parameters not found: Number of calls to function has reached maxfev = 2000.\n",
      "caught exception:  Optimal parameters not found: Number of calls to function has reached maxfev = 2000.\n",
      "caught exception:  Optimal parameters not found: Number of calls to function has reached maxfev = 2000.\n",
      "caught exception:  Optimal parameters not found: Number of calls to function has reached maxfev = 2000.\n",
      "caught exception:  Optimal parameters not found: Number of calls to function has reached maxfev = 2000.\n",
      "(u'DUBAI, CITGO', u'AD00311') -1970.84061009\n",
      "caught exception:  Optimal parameters not found: Number of calls to function has reached maxfev = 2000.\n",
      "caught exception:  Optimal parameters not found: Number of calls to function has reached maxfev = 2000.\n",
      "caught exception:  Optimal parameters not found: Number of calls to function has reached maxfev = 2000.\n",
      "caught exception:  Optimal parameters not found: Number of calls to function has reached maxfev = 2000.\n",
      "caught exception:  Optimal parameters not found: Number of calls to function has reached maxfev = 2000.\n",
      "caught exception:  Optimal parameters not found: Number of calls to function has reached maxfev = 2000.\n",
      "caught exception:  Optimal parameters not found: Number of calls to function has reached maxfev = 2000.\n",
      "caught exception:  Optimal parameters not found: Number of calls to function has reached maxfev = 2000.\n",
      "(u'AGBAMI, STATOIL', u'AD02548') -3.28235530165e-06\n",
      "(u'AASGARD BLEND, STATOIL', u'AD02552') -3.28235530165e-06\n",
      "-1970.84061009 15462.2947889 3751.2948041\n"
     ]
    }
   ],
   "source": [
    "k_v2_list = []\n",
    "for oil_obj in session.query(Oil).filter(Oil.product_type == 'Crude'):\n",
    "    if len(oil_obj.imported.kvis) >= 2:\n",
    "        k_v2 = determine_k_v2(*zip(*[(k.ref_temp_k, k.m_2_s)\n",
    "                                     for k in oil_obj.imported.kvis]))\n",
    "        k_v2_list.append(k_v2)\n",
    "        if k_v2 < 0.0:\n",
    "            print (oil_obj.name, oil_obj.adios_oil_id), k_v2\n",
    "\n",
    "print np.min(k_v2_list), np.max(k_v2_list), np.mean(k_v2_list)\n"
   ]
  },
  {
   "cell_type": "markdown",
   "metadata": {},
   "source": [
    "It is interesting to note that there are a few oils that have viscosity data resulting in a negative value for $k_{v2}$.  These are probably data errors, but we should protect ourselves from this possibility.  In this case, I suppose we could choose a default mean value.  And the default mean value we have been using is 5000.0."
   ]
  },
  {
   "cell_type": "code",
   "execution_count": 22,
   "metadata": {
    "collapsed": false
   },
   "outputs": [],
   "source": [
    "def determine_k_v2(ref_temp_k, ref_kvis):\n",
    "    k_v2 = 5000.0  # default if we can't find an optimization\n",
    "\n",
    "    def exp_func(temp_k, a, k_v2):\n",
    "        return a * np.exp(k_v2 / temp_k)\n",
    "\n",
    "    for k in np.logspace(3.6, 4.5, num=8):\n",
    "        # k = log range from about 5000-32000\n",
    "        a_coeff = kvis_refs[0] * np.exp(-k / kvis_ref_temps[0])\n",
    "\n",
    "        try:\n",
    "            popt, pcov = curve_fit(exp_func, ref_temp_k, ref_kvis,\n",
    "                                   p0=(a_coeff, k), maxfev = 2000)\n",
    "\n",
    "            # - we want our covariance to be a reasonably small number,\n",
    "            #   but it can get into the thousands even for a good fit.\n",
    "            #   So we will only check for inf values.\n",
    "            # - for sample sizes < 3, the covariance is unreliable.\n",
    "            if len(ref_kvis) > 2 and np.any(pcov == np.inf):\n",
    "                print 'covariance too high.'\n",
    "                continue\n",
    "\n",
    "            if popt[1] <= 1.0:\n",
    "                continue\n",
    "            \n",
    "            k_v2 = popt[1]\n",
    "            #std_dev = np.sqrt(np.diag(pcov))\n",
    "            break\n",
    "        except (ValueError, RuntimeError):\n",
    "            continue\n",
    "\n",
    "    return k_v2\n"
   ]
  },
  {
   "cell_type": "code",
   "execution_count": 55,
   "metadata": {
    "collapsed": false
   },
   "outputs": [
    {
     "name": "stderr",
     "output_type": "stream",
     "text": [
      "/Users/james.makela/anaconda/lib/python2.7/site-packages/ipykernel/__main__.py:5: RuntimeWarning: overflow encountered in exp\n"
     ]
    },
    {
     "name": "stdout",
     "output_type": "stream",
     "text": [
      "# Oils Total: 777, # Oils with multi-kvis: 250\n"
     ]
    },
    {
     "data": {
      "image/png": "[encoded data removed]",
      "text/plain": [
       "<matplotlib.figure.Figure at 0x117b1d350>"
      ]
     },
     "metadata": {},
     "output_type": "display_data"
    }
   ],
   "source": [
    "plt.figure(1, figsize=(12,8))\n",
    "ax = plt.subplot(111)\n",
    "\n",
    "k_v2_list = []\n",
    "oils_total = 0\n",
    "for oil_obj in session.query(Oil).filter(Oil.product_type == 'Crude'):\n",
    "    oils_total += 1\n",
    "    if len(oil_obj.imported.kvis) >= 2:\n",
    "        k_v2 = determine_k_v2(*zip(*[(k.ref_temp_k, k.m_2_s)\n",
    "                                     for k in oil_obj.imported.kvis]))\n",
    "        k_v2_list.append(k_v2)\n",
    "        if k_v2 < 0.0:\n",
    "            print (oil_obj.name, oil_obj.adios_oil_id), k_v2\n",
    "print '# Oils Total: {}, # Oils with multi-kvis: {}'.format(oils_total, len(k_v2_list))\n",
    "\n",
    "\n",
    "k_low, k_high, k_mean = np.min(k_v2_list), np.max(k_v2_list), np.mean(k_v2_list)\n",
    "k_std, k_var = np.std(k_v2_list), np.var(k_v2_list)\n",
    "\n",
    "mu = np.log(k_mean / np.sqrt(1 + k_var / k_mean ** 2.0))\n",
    "sigma = np.sqrt(np.log(1 + k_var / k_mean ** 2.0))\n",
    "log_mode = np.exp(mu - sigma ** 2.0)\n",
    "\n",
    "# the histogram of the data\n",
    "n, bins, patches = ax.hist(k_v2_list, 50, normed=1, facecolor='green')\n",
    "\n",
    "ax.set_xlabel('$k_{v2}$')\n",
    "ax.set_ylabel('Occurrence')\n",
    "ax.set_title(r'Histogram of $k_{v2}$ values over all crude oils with multiple KVis')\n",
    "\n",
    "ax.axvline(k_mean, color='m', ls='--')\n",
    "ax.axvline(log_mode, color='m', ls='--')\n",
    "\n",
    "x_ticks = [(v, v) for v, l in zip(*plt.xticks())]\n",
    "x_ticks += [(k_mean, r'$k_{{mean}}={0:.1f}$              '.format(k_mean))]\n",
    "x_ticks += [(log_mode, r'$k_{{mode}}={0:.1f}$              '.format(log_mode))]\n",
    "x_ticks += [(k_low, r'$k_{{low}}={0:.1f}$              '.format(k_low))]\n",
    "x_ticks += [(k_high, r'$k_{{high}}={0:.1f}$              '.format(k_high))]\n",
    "plt.xticks(*zip(*x_ticks))\n",
    "for tick in ax.xaxis.get_major_ticks():\n",
    "    tick.label.set_fontsize(12)\n",
    "    # specify integer or one of preset strings, e.g.\n",
    "    #tick.label.set_fontsize('x-small')\n",
    "    tick.label.set_rotation('vertical')\n",
    "\n",
    "ax.grid(True)\n",
    "\n",
    "show()"
   ]
  },
  {
   "cell_type": "markdown",
   "metadata": {},
   "source": [
    "Plotting a histogram of the values of $k_{v2}$ for the crude oils, it does seem to indicate a lognormal distribution.  And we see that the distribution lognormal mode (2075.7) is a bit lower than the default we have been using (5000.0).  Bill's most recent document on viscosity as a function of temperature suggests an alternative value of 2416.0 (Abu-Eishah, 1999), which would seem to be a better default value to use based on the measured values in our set.\n",
    "\n",
    "The majority of the crude oils in our database have only one viscosity measurement (527 total), and for these we don't have enough data to estimate $k_{v2}$.  So we will need to rely on a good default value most of the time.\n",
    "\n",
    "However there seems to be a very wide range between the minimum and maximum values for the oils that we are able to estimate.  And it stands to reason that there is probably a similar stratification of viscosity properties for the oils that we are not able to estimate.  Of course using a default average $k_{v2}$ for those oils would not be appropriate, but we can not really know since we don't have the data.\n",
    "\n",
    "Let's also try this for refined products."
   ]
  },
  {
   "cell_type": "code",
   "execution_count": 58,
   "metadata": {
    "collapsed": false
   },
   "outputs": [
    {
     "name": "stderr",
     "output_type": "stream",
     "text": [
      "/Users/james.makela/anaconda/lib/python2.7/site-packages/ipykernel/__main__.py:5: RuntimeWarning: overflow encountered in exp\n"
     ]
    },
    {
     "name": "stdout",
     "output_type": "stream",
     "text": [
      "# Oils Total: 70, # Oils with multi-kvis: 7\n"
     ]
    },
    {
     "data": {
      "image/png": "[encoded data removed]",
      "text/plain": [
       "<matplotlib.figure.Figure at 0x1176df790>"
      ]
     },
     "metadata": {},
     "output_type": "display_data"
    }
   ],
   "source": [
    "plt.figure(1, figsize=(12,8))\n",
    "ax = plt.subplot(111)\n",
    "\n",
    "k_v2_list = []\n",
    "oils_total = 0\n",
    "for oil_obj in session.query(Oil).filter(Oil.product_type == 'Refined'):\n",
    "    oils_total += 1\n",
    "    if len(oil_obj.imported.kvis) >= 2:\n",
    "        k_v2 = determine_k_v2(*zip(*[(k.ref_temp_k, k.m_2_s)\n",
    "                                     for k in oil_obj.imported.kvis]))\n",
    "        k_v2_list.append(k_v2)\n",
    "        if k_v2 < 0.0:\n",
    "            print (oil_obj.name, oil_obj.adios_oil_id), k_v2\n",
    "print '# Oils Total: {}, # Oils with multi-kvis: {}'.format(oils_total, len(k_v2_list))\n",
    "\n",
    "k_low, k_high, k_mean = np.min(k_v2_list), np.max(k_v2_list), np.mean(k_v2_list)\n",
    "k_std, k_var = np.std(k_v2_list), np.var(k_v2_list)\n",
    "\n",
    "mu = np.log(k_mean / np.sqrt(1 + k_var / k_mean ** 2.0))\n",
    "sigma = np.sqrt(np.log(1 + k_var / k_mean ** 2.0))\n",
    "log_mode = np.exp(mu - sigma ** 2.0)\n",
    "\n",
    "# the histogram of the data\n",
    "n, bins, patches = ax.hist(k_v2_list, 50, normed=1, facecolor='green')\n",
    "\n",
    "ax.set_xlabel('$k_{v2}$')\n",
    "ax.set_ylabel('Occurrence')\n",
    "ax.set_title(r'Histogram of $k_{v2}$ values over all refined products with multiple KVis')\n",
    "\n",
    "ax.axvline(k_mean, color='m', ls='--')\n",
    "ax.axvline(log_mode, color='m', ls='--')\n",
    "\n",
    "x_ticks = [(v, v) for v, l in zip(*plt.xticks())]\n",
    "x_ticks += [(k_mean, r'$k_{{mean}}={0:.1f}$              '.format(k_mean))]\n",
    "x_ticks += [(log_mode, r'$k_{{mode}}={0:.1f}$              '.format(log_mode))]\n",
    "x_ticks += [(k_low, r'$k_{{low}}={0:.1f}$              '.format(k_low))]\n",
    "x_ticks += [(k_high, r'$k_{{high}}={0:.1f}$              '.format(k_high))]\n",
    "plt.xticks(*zip(*x_ticks))\n",
    "for tick in ax.xaxis.get_major_ticks():\n",
    "    tick.label.set_fontsize(12)\n",
    "    # specify integer or one of preset strings, e.g.\n",
    "    #tick.label.set_fontsize('x-small')\n",
    "    tick.label.set_rotation('vertical')\n",
    "\n",
    "ax.grid(True)\n",
    "\n",
    "show()"
   ]
  },
  {
   "cell_type": "markdown",
   "metadata": {},
   "source": [
    "Here we see that the histogram does sort of begin to approximate a lognormal.  But the number of samples is so small that I don't think we can really have confidence in the calculated mean and mode values.  With a larger sample size, we might start to see something that we can draw some conclusions from."
   ]
  },
  {
   "cell_type": "markdown",
   "metadata": {},
   "source": [
    "It is currently not a requirement that a refined product have multiple viscosities.  And a quick query shows that only 7 out of 70 refined products have them.  It would be nice if we had more viscosity data for these records.\n",
    "\n",
    "Visually, and based on the above, I believe that if we needed to choose a default, it would lie somewhere around 2500.0.  So again, Abu-Eishah's (1999) alternative recommendation of 2416.0 would probably work.\n"
   ]
  },
  {
   "cell_type": "code",
   "execution_count": null,
   "metadata": {
    "collapsed": true
   },
   "outputs": [],
   "source": []
  }
 ],
 "metadata": {
  "kernelspec": {
   "display_name": "Python 2",
   "language": "python",
   "name": "python2"
  },
  "language_info": {
   "codemirror_mode": {
    "name": "ipython",
    "version": 2
   },
   "file_extension": ".py",
   "mimetype": "text/x-python",
   "name": "python",
   "nbconvert_exporter": "python",
   "pygments_lexer": "ipython2",
   "version": "2.7.13"
  }
 },
 "nbformat": 4,
 "nbformat_minor": 0
}
