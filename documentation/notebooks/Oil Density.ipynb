{
 "metadata": {
  "name": "",
  "signature": "sha256:e25d3eca3b5c46b7ab5cf9c7ea9c313bb631dd8d860f1e126a32c46892cfcc26"
 },
 "nbformat": 3,
 "nbformat_minor": 0,
 "worksheets": [
  {
   "cells": [
    {
     "cell_type": "heading",
     "level": 1,
     "metadata": {},
     "source": [
      "<center>Oil Density Estimation</center>"
     ]
    },
    {
     "cell_type": "heading",
     "level": 2,
     "metadata": {},
     "source": [
      "<center>\n",
      "    A Description of the Methods Used<br>\n",
      "    Which Includes Some Examples\n",
      "</center>"
     ]
    },
    {
     "cell_type": "markdown",
     "metadata": {},
     "source": [
      "The density of a substance is a fairly important piece of information to know in regards to oil spill response.  If an oil is released into a body of water, its relative density to that body of water will indicate whether the oil will float on top of the water surface, or whether it will gradually sink below the surface."
     ]
    },
    {
     "cell_type": "markdown",
     "metadata": {},
     "source": [
      "There are two general properties in an oil record that indicate its initial density.  Those are the oils <b>API</b>, and its <b>measured density<b>."
     ]
    },
    {
     "cell_type": "markdown",
     "metadata": {},
     "source": [
      "An oil's API is a measure of how heavy or light it is compared to water, as defined by the\n",
      "<b>A</b>merican <b>P</b>etroleum <b>I</b>nstitute.<br>\n",
      "As such it is closely related to the density of the oil and is defined by the following formula:"
     ]
    },
    {
     "cell_type": "markdown",
     "metadata": {},
     "source": [
      "$$\n",
      "\\begin{align}\n",
      "\\rho0_{oil} &= \\text{The initial oil density at } 15^\\circ C \\text{ and measured in } kg / m^3 \\cr\n",
      "1000 &= \\text{The initial density of fresh water measured in } kg / m^3 \\cr\n",
      "API &= {141.5 \\cdot 1000 \\over \\rho0_{oil} } - 131.5 \\cr\n",
      "\\end{align}\n",
      "$$"
     ]
    },
    {
     "cell_type": "markdown",
     "metadata": {},
     "source": [
      "Conversely, the initial density of the oil can be calculated, if necessary, from the API value"
     ]
    },
    {
     "cell_type": "markdown",
     "metadata": {},
     "source": [
      "$$\n",
      "\\begin{align}\n",
      "\\rho0_{oil} &= {141.5 \\over 131.5 + API} \\cdot 1000 \\cr\n",
      "\\end{align}\n",
      "$$"
     ]
    },
    {
     "cell_type": "heading",
     "level": 3,
     "metadata": {},
     "source": [
      "<center>Some Examples</center>"
     ]
    },
    {
     "cell_type": "markdown",
     "metadata": {},
     "source": [
      "Ok, let's apply this to some examples using records in our oil library.<br>\n",
      "First we will import some things from our oil library that we will need."
     ]
    },
    {
     "cell_type": "code",
     "collapsed": false,
     "input": [
      "from oil_library import get_oil, get_oil_props, _get_db_session\n",
      "from oil_library.models import (Base, ImportedRecord, Oil,\n",
      "                                Density, Toxicity, Category)\n",
      "from oil_library.oil_props import OilProps\n",
      "\n",
      "session = _get_db_session()"
     ],
     "language": "python",
     "metadata": {},
     "outputs": [],
     "prompt_number": 3
    },
    {
     "cell_type": "markdown",
     "metadata": {},
     "source": [
      "Now we can query for an oil that we are interested in."
     ]
    },
    {
     "cell_type": "heading",
     "level": 4,
     "metadata": {},
     "source": [
      "Example 1:  Estimating Density "
     ]
    },
    {
     "cell_type": "markdown",
     "metadata": {},
     "source": [
      "For the first example we will use a reasonably heavy oil for which we have no measured density values."
     ]
    },
    {
     "cell_type": "code",
     "collapsed": false,
     "input": [
      "oil_obj = (session.query(Oil)\n",
      "           .filter(Oil.name == 'BOSCAN, OIL & GAS')\n",
      "           .one())\n",
      "print oil_obj"
     ],
     "language": "python",
     "metadata": {},
     "outputs": [
      {
       "output_type": "stream",
       "stream": "stdout",
       "text": [
        "<Oil(\"BOSCAN, OIL & GAS\")>\n"
       ]
      }
     ],
     "prompt_number": 4
    },
    {
     "cell_type": "code",
     "collapsed": false,
     "input": [
      "print oil_obj.imported.densities\n",
      "print oil_obj.imported.api"
     ],
     "language": "python",
     "metadata": {},
     "outputs": [
      {
       "output_type": "stream",
       "stream": "stdout",
       "text": [
        "[]\n",
        "10.1\n"
       ]
      }
     ],
     "prompt_number": 5
    },
    {
     "cell_type": "markdown",
     "metadata": {},
     "source": [
      "First, a little bit of background.  The records in the PyGnome oil library have been imported from a master copy of the NOAA oil library data, and the original values are stored in the 'imported' attribute of the oil object.<br>\n",
      "Here we can see that the original imported record contains no measured densities, but has a valid API value.<br>\n",
      "And as discussed above, a density can be derived from it as follows:"
     ]
    },
    {
     "cell_type": "code",
     "collapsed": false,
     "input": [
      "density_at_15c = 141.5 / (131.5 + 10.1) * 1000\n",
      "print density_at_15c"
     ],
     "language": "python",
     "metadata": {},
     "outputs": [
      {
       "output_type": "stream",
       "stream": "stdout",
       "text": [
        "999.293785311\n"
       ]
      }
     ],
     "prompt_number": 6
    },
    {
     "cell_type": "markdown",
     "metadata": {},
     "source": [
      "So for this oil, we give it a single estimated density at $ 15^\\circ C $ since the imported record did not supply any."
     ]
    },
    {
     "cell_type": "code",
     "collapsed": false,
     "input": [
      "print oil_obj.densities\n",
      "print oil_obj.api"
     ],
     "language": "python",
     "metadata": {},
     "outputs": [
      {
       "output_type": "stream",
       "stream": "stdout",
       "text": [
        "[<Density(999.293785311 kg/m^3 at 288.15K)>]\n",
        "10.1\n"
       ]
      }
     ],
     "prompt_number": 7
    },
    {
     "cell_type": "markdown",
     "metadata": {},
     "source": [
      "At this point it is worth mentioning that internally, we use temperatures that are measured in Kelvin.<br>\n",
      "So $ 15^\\circ C $ converted into Kelvin would be:"
     ]
    },
    {
     "cell_type": "markdown",
     "metadata": {},
     "source": [
      "$$\n",
      "\\begin{align}\n",
      "273.15 + 15^\\circ C &= 288.15^\\circ K\n",
      "\\end{align}\n",
      "$$"
     ]
    },
    {
     "cell_type": "heading",
     "level": 4,
     "metadata": {},
     "source": [
      "Example 2:  Estimating API"
     ]
    },
    {
     "cell_type": "markdown",
     "metadata": {},
     "source": [
      "Ok, now we will examine an oil that has no API, but does in fact have some measured densities."
     ]
    },
    {
     "cell_type": "code",
     "collapsed": false,
     "input": [
      "oil_obj = (session.query(Oil)\n",
      "           .filter(Oil.name == 'COOPER BASIN LIGHT NAPHTHA, SANTOS LTD')\n",
      "           .one())\n",
      "print oil_obj\n",
      "print oil_obj.imported.densities\n",
      "print oil_obj.imported.api"
     ],
     "language": "python",
     "metadata": {},
     "outputs": [
      {
       "output_type": "stream",
       "stream": "stdout",
       "text": [
        "<Oil(\"COOPER BASIN LIGHT NAPHTHA, SANTOS LTD\")>\n",
        "[<Density(660.0 kg/m^3 at 288.0K)>]\n",
        "None\n"
       ]
      }
     ],
     "prompt_number": 8
    },
    {
     "cell_type": "markdown",
     "metadata": {},
     "source": [
      "Here we can see that the original imported record contains a single measured density, but has no API value.<br>\n",
      "In a similar fashion, an API can be derived from the density.<br>"
     ]
    },
    {
     "cell_type": "markdown",
     "metadata": {},
     "source": [
      "However there is a small detail that needs to be discussed, and that is that the API value is defined to be at precisely $ 15^\\circ C $.<br>\n",
      "That would of course be $ 288.15^\\circ K $, but the density we got from our imported record was measured at $ 288^\\circ K $.<br><br>\n",
      "This is pretty close, but not precise.  So what do we do with this?"
     ]
    },
    {
     "cell_type": "markdown",
     "metadata": {},
     "source": [
      "Well, in this particular case, the density is measured at a temperature close enough to $ 15^\\circ C $ that we could just use it and get a similarly close API value.  But there are records in the oil library in which the densities are measured at temperatures quite far from our desired $ 15^\\circ C $ <br>\n",
      "For this reason, we use a density value that has been interpolated by temperature. "
     ]
    },
    {
     "cell_type": "markdown",
     "metadata": {},
     "source": [
      "When interpolating a density value at a measured temperature to one at a desired temperature, we use the following formula(s):"
     ]
    },
    {
     "cell_type": "markdown",
     "metadata": {},
     "source": [
      "$$\n",
      "\\begin{align}\n",
      "k_{\\rho T} &= 0.008 K^{-1} \\cr\n",
      "T_{ref} &= \\text{our reference temperature} \\cr\n",
      "T_0 &= \\text{our desired temperature} \\cr\n",
      "\\rho_{ref} &= \\rho_0 \\cdot (1 - k_{\\rho T} \\cdot (T_{ref} - T_0)) \\cr\n",
      "&\\text{thus...} \\cr\n",
      "\\rho_0 &= {\\rho_{ref} \\over (1 - k_{\\rho T} \\cdot (T_{ref} - T_0))} \\cr\n",
      "\\end{align}\n",
      "$$"
     ]
    },
    {
     "cell_type": "markdown",
     "metadata": {},
     "source": [
      "Let's apply this method to our reference density."
     ]
    },
    {
     "cell_type": "code",
     "collapsed": false,
     "input": [
      "density_at_temp = 660.0 / (1 - 0.008 * (288.0 - 288.15))\n",
      "print density_at_temp"
     ],
     "language": "python",
     "metadata": {},
     "outputs": [
      {
       "output_type": "stream",
       "stream": "stdout",
       "text": [
        "659.208949261\n"
       ]
      }
     ],
     "prompt_number": 9
    },
    {
     "cell_type": "markdown",
     "metadata": {},
     "source": [
      "We now have the density at $ 15^\\circ C $, which we will use to estimate the API value.<br>\n",
      "And as it so happens, we have packaged this formula into a convenience function."
     ]
    },
    {
     "cell_type": "code",
     "collapsed": false,
     "input": [
      "from oil_library.utilities import get_density\n",
      "get_density(oil_obj, 288.15)"
     ],
     "language": "python",
     "metadata": {},
     "outputs": [
      {
       "metadata": {},
       "output_type": "pyout",
       "prompt_number": 11,
       "text": [
        "659.20894926088704"
       ]
      }
     ],
     "prompt_number": 11
    },
    {
     "cell_type": "code",
     "collapsed": false,
     "input": [
      "api = (141.5 * 1000 / density_at_temp) - 131.5\n",
      "print api"
     ],
     "language": "python",
     "metadata": {},
     "outputs": [
      {
       "output_type": "stream",
       "stream": "stdout",
       "text": [
        "83.1512121212\n"
       ]
      }
     ],
     "prompt_number": 30
    },
    {
     "cell_type": "markdown",
     "metadata": {},
     "source": [
      "...and as you can see, this is the API value that our oil object contains."
     ]
    },
    {
     "cell_type": "code",
     "collapsed": false,
     "input": [
      "print oil_obj.api"
     ],
     "language": "python",
     "metadata": {},
     "outputs": [
      {
       "output_type": "stream",
       "stream": "stdout",
       "text": [
        "83.1512121212\n"
       ]
      }
     ],
     "prompt_number": 32
    }
   ],
   "metadata": {}
  }
 ]
}