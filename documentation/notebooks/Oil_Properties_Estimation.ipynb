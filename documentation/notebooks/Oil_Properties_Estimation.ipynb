{
 "cells": [
  {
   "cell_type": "markdown",
   "metadata": {},
   "source": [
    "# <center>Oil Properties Estimation</center>"
   ]
  },
  {
   "cell_type": "markdown",
   "metadata": {},
   "source": [
    "### <center>Sept 2014<br>By: Bill Lehr</center>"
   ]
  },
  {
   "cell_type": "markdown",
   "metadata": {},
   "source": [
    "## Minimum Requirements"
   ]
  },
  {
   "cell_type": "markdown",
   "metadata": {},
   "source": [
    "Adios 3 requires certain minimum amounts of data for any oil to be included in the library"
   ]
  },
  {
   "cell_type": "markdown",
   "metadata": {},
   "source": [
    "Crude Oil:\n",
    "<ul>\n",
    "<li>API and/or density at a reference temperature</li>\n",
    "<li>Viscosity (either kinematic or dynamic) at a reference temperature</li>\n",
    "</ul>"
   ]
  },
  {
   "cell_type": "markdown",
   "metadata": {},
   "source": [
    "Refined Product or 'Other' oil:\n",
    "<ul>\n",
    "<li>API and/or density at a reference temperature</li>\n",
    "<li>Viscosity (either kinematic or dynamic) at a reference temperature</li>\n",
    "<li>At least three distillation cuts giving mass or volume fraction at boiling(bubble) point</li>\n",
    "</ul>"
   ]
  },
  {
   "cell_type": "markdown",
   "metadata": {},
   "source": [
    "Unlike Adios 2, Adios 3 stores both structural and distillation fractional components <b><u>(see figure 1)</u></b>.\n",
    "Certain properties are valid for the whole oil while others may be defined for each structural fraction and still others vary for both the distillation and chemical structural fraction."
   ]
  },
  {
   "cell_type": "markdown",
   "metadata": {},
   "source": [
    "The SQL oil database needs a complete set of oil data.  If measured data exists, it takes priority over estimated values.  Many of the more complex estimation formulas are based upon Adios 2 calculations and/or the following reference:"
   ]
  },
  {
   "cell_type": "markdown",
   "metadata": {},
   "source": [
    "<b><i>Characterization and Properties of Petroleum Fractions</b></i><br>\n",
    "<b>Author:</b> Dr. M. R. Riazi, Professor of Chemical Engineering, Kuwait University<br>\n",
    "<b>Published:</b> 2005<br>\n",
    "<b>Publisher:</b> American Society for Testing and Materials (ASTM), International<br>\n",
    "<b>Stock No.:</b> MNL50<br>"
   ]
  },
  {
   "cell_type": "markdown",
   "metadata": {},
   "source": [
    "This will be abbreviated further in this document as CPPF."
   ]
  },
  {
   "cell_type": "markdown",
   "metadata": {},
   "source": [
    "## Estimation Rules"
   ]
  },
  {
   "cell_type": "code",
   "execution_count": 1,
   "metadata": {
    "collapsed": false
   },
   "outputs": [
    {
     "name": "stdout",
     "output_type": "stream",
     "text": [
      "<ImportedRecord('ALASKA NORTH SLOPE (MIDDLE PIPELINE)')>\n",
      "<ImportedRecord('ALASKA NORTH SLOPE (2002)')>\n",
      "<ImportedRecord('BAHIA')>\n",
      "<ImportedRecord('ARABIAN MEDIUM, AMOCO')>\n",
      "<ImportedRecord('CANOLA OIL (REFERENCE)')>\n"
     ]
    }
   ],
   "source": [
    "# just a bit of setup for the following code sections.\n",
    "import numpy as np\n",
    "\n",
    "import oil_library\n",
    "from oil_library.models import Oil, ImportedRecord, KVis\n",
    "\n",
    "session = oil_library._get_db_session()\n",
    "\n",
    "ans_mp = session.query(ImportedRecord).filter(ImportedRecord.oil_name == 'ALASKA NORTH SLOPE (MIDDLE PIPELINE)').one()\n",
    "ans_2002 = session.query(ImportedRecord).filter(ImportedRecord.oil_name == 'ALASKA NORTH SLOPE (2002)').one()\n",
    "bahia = session.query(ImportedRecord).filter(ImportedRecord.oil_name == 'BAHIA').one()\n",
    "arabian = session.query(ImportedRecord).filter(ImportedRecord.oil_name == 'ARABIAN MEDIUM, AMOCO').one()\n",
    "canola = session.query(ImportedRecord).filter(ImportedRecord.oil_name == 'CANOLA OIL (REFERENCE)').one()\n",
    "\n",
    "print ans_mp\n",
    "print ans_2002\n",
    "print bahia\n",
    "print arabian\n",
    "print canola\n"
   ]
  },
  {
   "cell_type": "markdown",
   "metadata": {},
   "source": [
    "### 1. Density:"
   ]
  },
  {
   "cell_type": "markdown",
   "metadata": {},
   "source": [
    "(A) If no density value exists, estimate it from the oil's API using the following equation:"
   ]
  },
  {
   "cell_type": "markdown",
   "metadata": {},
   "source": [
    "$$\n",
    "\\begin{align}\n",
    "\\rho0_{oil} &= \\text{density of the oil at a } T_{ref} \\text{of } 288.15^\\circ K \\,\\, (kg/m^3) \\cr\n",
    "&= {141.5 \\over 131.5 + API} \\cdot 1000 \\qquad \\qquad \\qquad \\qquad \\qquad \\qquad \\boldsymbol{(eq. 1)} \\cr\n",
    "\\cr\n",
    "&\\text{and solving for API...} \\cr\n",
    "\\cr\n",
    "API &= \\left( {141.5 \\over \\rho0_{oil}} \\cdot 1000 \\right) - 131.5 \\cr\n",
    "\\end{align}\n",
    "$$"
   ]
  },
  {
   "cell_type": "markdown",
   "metadata": {},
   "source": [
    "(B) If a density measurement $\\rho_0$ at some temperature $T_0$ exists, but no API, then (eq. 1) can be inverted to give an API.  But this can only be done after the density value has been adjusted to be a density at $T_{ref} = 288.15^\\circ K (15^\\circ C)$.  The density conversion formula for different temperatures is:"
   ]
  },
  {
   "cell_type": "markdown",
   "metadata": {},
   "source": [
    "$$\n",
    "\\begin{align}\n",
    "\\rho_0 &= \\text{measured density} \\cr\n",
    "T_0 &= \\text{temperature at which density is measured} \\cr\n",
    "k_{\\rho T} &= 0.008 K^{-1} \\cr\n",
    "\\cr\n",
    "\\rho_{ref} &= \\rho_0 \\cdot (1 - k_{\\rho T} \\cdot (T_{ref} - T_0 )) \\qquad \\qquad \\qquad \\qquad \\qquad \\boldsymbol{(eq. 2)} \\cr\n",
    "\\end{align}\n",
    "$$"
   ]
  },
  {
   "cell_type": "markdown",
   "metadata": {},
   "source": [
    "<i>(Referenced Source: Adios2)</i>"
   ]
  },
  {
   "cell_type": "code",
   "execution_count": 2,
   "metadata": {
    "collapsed": false
   },
   "outputs": [
    {
     "name": "stdout",
     "output_type": "stream",
     "text": [
      "oil =  ALASKA NORTH SLOPE (MIDDLE PIPELINE)\n",
      "oil.api =  29.9\n",
      "oil.densities =  [<Density(886.9 kg/m^3 at 273.15K)>, <Density(876.1 kg/m^3 at 288.15K)>]\n",
      "density(api) =  (876.7038413878562, 288.15)\n",
      "API(density) =  30.0112430088\n",
      "density at 288.15K =  (876.1, 288.15)\n",
      "\n",
      "oil =  BAHIA\n",
      "oil.api =  35.2\n",
      "oil.densities =  []\n",
      "density(api) =  (848.8302339532095, 288.15)\n",
      "API(density) = N/A\n",
      "density at 288.15K =  (848.8302339532095, 288.15)\n",
      "\n",
      "oil =  ARABIAN MEDIUM, AMOCO\n",
      "oil.api =  None\n",
      "oil.densities =  [<Density(875.0 kg/m^3 at 288.15K)>]\n",
      "density(api) = N/A\n",
      "API(density) =  30.2142857143\n",
      "density at 288.15K =  (875.0, 288.15)\n",
      "\n"
     ]
    }
   ],
   "source": [
    "def estimate_density_from_api(api):\n",
    "    kg_m_3 = 141.5 / (131.5 + api) * 1000.0\n",
    "    ref_temp_k = 273.15 + 15.0\n",
    "\n",
    "    return kg_m_3, ref_temp_k\n",
    "\n",
    "def estimate_api_from_density(density):\n",
    "    return (141.5 / density * 1000.0) - 131.5\n",
    "    \n",
    "def estimate_density_at_temp(ref_density, ref_temp_k,\n",
    "                             temperature):\n",
    "    k_pt = 0.008\n",
    "    return ref_density / (1 - k_pt * (ref_temp_k - temperature))\n",
    "\n",
    "def closest_to_temperature(obj_list, temperature):\n",
    "    '''\n",
    "        From a list of objects containing a ref_temp_k attribute,\n",
    "        return the object that is closest to the specified temperature\n",
    "    '''\n",
    "    temp_diffs = [(obj, abs(obj.ref_temp_k - temperature))\n",
    "                  for obj in obj_list\n",
    "                  if obj.ref_temp_k is not None]\n",
    "    if len(temp_diffs) > 0:\n",
    "        return sorted(temp_diffs, key=lambda d: d[1])[0][0]\n",
    "    else:\n",
    "        return None\n",
    "\n",
    "\n",
    "def oil_density_at_temp(imported_rec, temperature, weathering=0.0):\n",
    "    density_list = [d for d in imported_rec.densities\n",
    "                    if (d.weathering == weathering)]\n",
    "    closest_density = closest_to_temperature(density_list, temperature)\n",
    "    \n",
    "    if closest_density is not None:\n",
    "        d_ref, t_ref = (closest_density.kg_m_3,\n",
    "                        closest_density.ref_temp_k)\n",
    "    elif imported_rec.api is not None:\n",
    "        d_ref, t_ref = estimate_density_from_api(imported_rec.api)\n",
    "    else:\n",
    "        return None\n",
    "\n",
    "    return estimate_density_at_temp(d_ref, t_ref, temperature)\n",
    "\n",
    "for obj in (ans_mp, bahia, arabian):\n",
    "    print 'oil = ', obj.oil_name\n",
    "    print 'oil.api = ', obj.api\n",
    "    print 'oil.densities = ', obj.densities\n",
    "\n",
    "    if obj.api is not None:\n",
    "        print 'density(api) = ', estimate_density_from_api(obj.api)\n",
    "    else:\n",
    "        print 'density(api) = N/A'\n",
    "\n",
    "    if len(obj.densities) > 0:\n",
    "        print 'API(density) = ', estimate_api_from_density(oil_density_at_temp(obj, 288.15))\n",
    "    else:\n",
    "        print 'API(density) = N/A'\n",
    "\n",
    "    print 'density at 288.15K = ', (oil_density_at_temp(obj, 288.15), 288.15)\n",
    "    print"
   ]
  },
  {
   "cell_type": "markdown",
   "metadata": {},
   "source": [
    "### 2. Kinematic Viscosity:"
   ]
  },
  {
   "cell_type": "markdown",
   "metadata": {},
   "source": [
    "If kinematic viscosity value does not exist, estimate from dynamic viscosity."
   ]
  },
  {
   "cell_type": "markdown",
   "metadata": {},
   "source": [
    "$$\n",
    "\\begin{align}\n",
    "\\eta 0_{oil} &= \\text{measured dynamic viscosity } (kg/(m \\cdot s)) \\cr\n",
    "\\rho 0_{oil} &= \\text{measured density } (kg/m^3) \\cr\n",
    "\\cr\n",
    "v0_{oil} &= \\text{kinematic viscosity } (m^2/s) \\cr\n",
    "&= {\\eta 0_{oil} \\over \\rho 0_{oil} } \\qquad \\qquad \\qquad \\qquad \\qquad \\qquad \\boldsymbol{(eq. 3)} \\cr\n",
    "\\end{align}\n",
    "$$"
   ]
  },
  {
   "cell_type": "markdown",
   "metadata": {},
   "source": [
    "<center><b>--- Begin JamesM Comments ---</b></center>"
   ]
  },
  {
   "cell_type": "markdown",
   "metadata": {},
   "source": [
    "The above is correct, but a bit sparse on detail.  Basically we want to take advantage of any and all measured viscosities that are available.  We will of course prefer the kinematic measurements, but we will want to use any dynamic viscosity measurements that are not redundant.  So the basic program flow will be as follows:"
   ]
  },
  {
   "cell_type": "markdown",
   "metadata": {},
   "source": [
    "<ul>\n",
    "<li>Collect all existing measured kinematic viscosities and their associated reference temperatures</li>\n",
    "<li>Collect any dynamic viscosities measured at temperatures not already represented in the kinematic measurements</li>\n",
    "<li>Convert the dynamic viscosities into kinematic viscosities using (eq. 3)</li>\n",
    "<li>Combine our kinematic and converted dynamic viscosities into one aggregate list</li>\n",
    "</ul>"
   ]
  },
  {
   "cell_type": "markdown",
   "metadata": {},
   "source": [
    "The formula for viscosity at a temperature is not defined here in Bill's estimation document, but we need to define something.\n",
    "\n",
    "I believe this is what Adios2 does:\n",
    "\n",
    "$$\n",
    "\\begin{align}\n",
    "T &= \\text{temperature in } \\,^\\circ K \\cr\n",
    "k_{v2} &= 5000^\\circ K \\cr\n",
    "T_{ref} &= \\text{measured reference temperature} \\cr\n",
    "v_{ref} &= \\text{measured reference viscosity} \\cr\n",
    "\\cr\n",
    "v_T &= \\text{the viscosity at a specified temperature} \\cr\n",
    "&= v_{ref} \\cdot exp \\left( {k_{v2} \\over T} - {k_{v2} \\over T_{ref}} \\right) \\cr\n",
    "&\\text{or alternatively...} \\cr\n",
    "&= v_{ref} \\cdot exp \\left( k_{v2} \\cdot \\left( T_{ref} - T \\over T \\cdot T_{ref} \\right) \\right) \\cr\n",
    "\\end{align}\n",
    "$$"
   ]
  },
  {
   "cell_type": "markdown",
   "metadata": {},
   "source": [
    "<center><b>--- End JamesM Comments ---</b></center>"
   ]
  },
  {
   "cell_type": "code",
   "execution_count": 3,
   "metadata": {
    "collapsed": false
   },
   "outputs": [
    {
     "name": "stdout",
     "output_type": "stream",
     "text": [
      "oil =  ALASKA NORTH SLOPE (MIDDLE PIPELINE)\n",
      "oil.kvis =  []\n",
      "oil.dvis =  [<DVis(0.034 kg/ms at 273.15K)>, <DVis(0.016 kg/ms at 288.15K)>]\n",
      "aggregate kvis =  [<KVis(3.83357762995e-05 m^2/s at 273.15K)>, <KVis(1.82627553932e-05 m^2/s at 288.15K)>]\n",
      "kvis at 288k =  1.84285538212e-05\n",
      "\n",
      "oil =  ALASKA NORTH SLOPE (2002)\n",
      "oil.kvis =  []\n",
      "oil.dvis =  [<DVis(0.0232 kg/ms at 273.0K)>, <DVis(0.0767 kg/ms at 273.0K)>, <DVis(0.614 kg/ms at 273.0K)>, <DVis(4.23 kg/ms at 273.0K)>, <DVis(0.152 kg/ms at 288.0K)>, <DVis(0.625 kg/ms at 288.0K)>]\n",
      "aggregate kvis =  [<KVis(0.000797266514806 m^2/s at 288.0K)>, <KVis(0.00481776765376 m^2/s at 273.0K)>]\n",
      "kvis at 288k =  0.000797266514806\n",
      "\n",
      "oil =  BAHIA\n",
      "oil.kvis =  [<KVis(1.7e-05 m^2/s at 310.9278K)>]\n",
      "oil.dvis =  []\n",
      "aggregate kvis =  [<KVis(1.7e-05 m^2/s at 310.9278K)>]\n",
      "kvis at 288k =  6.11555602209e-05\n",
      "\n",
      "oil =  ARABIAN MEDIUM, AMOCO\n",
      "oil.kvis =  [<KVis(2.31e-05 m^2/s at 288.15K)>, <KVis(1.8e-05 m^2/s at 295.15K)>]\n",
      "oil.dvis =  [<DVis(0.0202 kg/ms at 288.15K)>, <DVis(0.0157 kg/ms at 295.15K)>]\n",
      "aggregate kvis =  [<KVis(2.31e-05 m^2/s at 288.15K)>, <KVis(1.8e-05 m^2/s at 295.15K)>]\n",
      "kvis at 288k =  2.3309713354e-05\n",
      "\n"
     ]
    }
   ],
   "source": [
    "def dvis_to_kvis(dvis, density):\n",
    "    return dvis / density\n",
    "\n",
    "def estimate_kvis_at_temp(temp_k, kvis_ref, ref_temp_k):\n",
    "    k_v2 = 5000.0\n",
    "    return kvis_ref * np.exp(k_v2 / temp_k - k_v2 / ref_temp_k)\n",
    "\n",
    "def estimate_kvis_at_temp2(temp_k, kvis_ref, ref_temp_k):\n",
    "    k_v2 = 5000.0\n",
    "    return kvis_ref * np.exp(k_v2 * (ref_temp_k - temp_k) / (temp_k * ref_temp_k))\n",
    "\n",
    "def oil_aggregate_kvis(imported_rec):\n",
    "    kvis_list = [(k.ref_temp_k, k.m_2_s)\n",
    "                 for k in imported_rec.kvis]\n",
    "    dvis_list = [(d.ref_temp_k,\n",
    "                  dvis_to_kvis(d.kg_ms,\n",
    "                               oil_density_at_temp(imported_rec, d.ref_temp_k)))\n",
    "                 for d in imported_rec.dvis]\n",
    "    agg = dict(dvis_list)\n",
    "    agg.update(kvis_list)\n",
    "\n",
    "    return [KVis(ref_temp_k=i[0], m_2_s=i[1]) \n",
    "            for i in agg.iteritems()]\n",
    "\n",
    "def oil_kvis_at_temp(imported_rec, temp_k, weathering=0.0):\n",
    "    kvis_list = [kv for kv in oil_aggregate_kvis(imported_rec)\n",
    "                 if (kv.weathering == weathering)]\n",
    "    closest_kvis = closest_to_temperature(kvis_list, temp_k)\n",
    "\n",
    "    if closest_kvis is not None:\n",
    "        kvis_ref, t_ref = (closest_kvis.m_2_s,\n",
    "                           closest_kvis.ref_temp_k)\n",
    "    else:\n",
    "        return None\n",
    "\n",
    "    return estimate_kvis_at_temp(temp_k, kvis_ref, t_ref)\n",
    "\n",
    "for obj in (ans_mp, ans_2002, bahia, arabian):\n",
    "    print 'oil = ', obj.oil_name\n",
    "    print 'oil.kvis = ', obj.kvis\n",
    "    print 'oil.dvis = ', obj.dvis\n",
    "    print 'aggregate kvis = ', oil_aggregate_kvis(obj)\n",
    "    print 'kvis at 288k = ', oil_kvis_at_temp(obj, 288.0)\n",
    "    print\n",
    "\n",
    "# TODO: Okay, the ANS (2002) oil record has a crazy list of dynamic viscosities\n",
    "#       This has got to be fixed."
   ]
  },
  {
   "cell_type": "markdown",
   "metadata": {},
   "source": [
    "### 3. Oil-Water Surface Tension:"
   ]
  },
  {
   "cell_type": "markdown",
   "metadata": {},
   "source": [
    "If the imported oil record does not contain a value for surface tension, then we will estimate it from the oil's API:"
   ]
  },
  {
   "cell_type": "markdown",
   "metadata": {},
   "source": [
    "$$\n",
    "\\begin{align}\n",
    "\\sigma_{o-w} &= \\text{oil/water surface tension at } 288.15^\\circ K \\,\\, (N/m) \\cr\n",
    "&= 0.001 \\cdot (39 - 0.2571 \\cdot API) \\qquad \\qquad \\qquad \\qquad \\boldsymbol{(eq. 4)} \\cr\n",
    "\\end{align}\n",
    "$$"
   ]
  },
  {
   "cell_type": "markdown",
   "metadata": {},
   "source": [
    "<i>\n",
    "Reference: Baker, O. and W. Swerdloff (1956), Calculation of Surface Tensions - Finding the Surface Tension of Hydrocarbon Liquids, Oil Gas J. (2 January 1956) pp. 125\n",
    "</i>"
   ]
  },
  {
   "cell_type": "code",
   "execution_count": 4,
   "metadata": {
    "collapsed": false
   },
   "outputs": [
    {
     "name": "stdout",
     "output_type": "stream",
     "text": [
      "oil =  ALASKA NORTH SLOPE (MIDDLE PIPELINE)\n",
      "oil/water surface tension =  0.03131271\n",
      "\n",
      "oil =  BAHIA\n",
      "oil/water surface tension =  0.02995008\n",
      "\n",
      "oil =  ARABIAN MEDIUM, AMOCO\n",
      "oil/water surface tension =  None\n",
      "\n"
     ]
    }
   ],
   "source": [
    "def o_w_surface_tension_from_api(api):\n",
    "    if api is not None:\n",
    "        return 0.001 * (39.0 - 0.2571 * api)\n",
    "    else:\n",
    "        return None\n",
    "\n",
    "for obj in (ans_mp, bahia, arabian):\n",
    "    print 'oil = ', obj.oil_name\n",
    "    print 'oil/water surface tension = ', o_w_surface_tension_from_api(obj.api)\n",
    "    print"
   ]
  },
  {
   "cell_type": "markdown",
   "metadata": {},
   "source": [
    "### 4. Pour Point:"
   ]
  },
  {
   "cell_type": "markdown",
   "metadata": {},
   "source": [
    "If the imported oil record contains a pour point property then we will simply use it when building the final oil record.<br>\n",
    "Otherwise, if we have measured molecular weights for the distillation fractions (unusual) then use method <b>(A)</b>.<br>\n",
    "Otherwise, use method <b>(B)</b>"
   ]
  },
  {
   "cell_type": "markdown",
   "metadata": {},
   "source": [
    "<b>(A)</b> If molecular weight and mass fractions are given for all the oil fractions $j = 1 \\dots jMAX$, then an average molecular weight for the whole oil $\\bar M_w$ can be estimated as:"
   ]
  },
  {
   "cell_type": "markdown",
   "metadata": {},
   "source": [
    "$$\n",
    "\\begin{align}\n",
    "N &= \\text{number of distillation cuts} \\cr\n",
    "jMAX &= 2 (N + 1) \\cr\n",
    "M_{w,j} &= \\text{molecular weight of component j} (kg/kmole)\\cr\n",
    "fmass_j &= \\text{mass fraction of component j} \\cr\n",
    "\\cr\n",
    "\\bar M_w &= \\sum_1^{jMAX} M_{w,j} \\cdot fmass_j \\qquad \\qquad \\qquad \\qquad \\boldsymbol{(eq. 5)} \\cr\n",
    "\\end{align}\n",
    "$$"
   ]
  },
  {
   "cell_type": "markdown",
   "metadata": {},
   "source": [
    "<i>(Note: The calculation for $jMAX$ may seem counterintuitive. It simply states that we sum over all the SARA fractions, each distillation cut represents 1 saturate and 1 aromatic fraction, and that resins and asphaltenes do not have distillation cut data.  So for $N$ distillation cuts, we would calculate $2 N + 2 \\rightarrow 2(N + 1)$)</i>"
   ]
  },
  {
   "cell_type": "markdown",
   "metadata": {},
   "source": [
    "Define $SG = \\rho_{oil} / 1000 \\cdot kg$ as specific gravity"
   ]
  },
  {
   "cell_type": "markdown",
   "metadata": {},
   "source": [
    "Then, using CPPF eq. 3.119, our pour point temperature is calculated as:"
   ]
  },
  {
   "cell_type": "markdown",
   "metadata": {},
   "source": [
    "$$\n",
    "\\begin{align}\n",
    "T_{API} &= \\text{reference temperature for oil kinematic viscosity} \\cr\n",
    "&= 311^\\circ K \\cr\n",
    "\\cr\n",
    "T_{pp} &= 130.47 SG^{2.97} \\cdot \\bar M_w^{0.61235 - 0.47357 SG} \\cdot v_{oil}^{0.31 - 0.3283 SG} \\cdot T_{API} \\qquad \\qquad \\boldsymbol{(eq. 6)} \\cr\n",
    "\\end{align}\n",
    "$$"
   ]
  },
  {
   "cell_type": "markdown",
   "metadata": {},
   "source": [
    "<b>(B)</b> Pour point is estimated by reversing the viscosity-temperature correction in Adios2 and assuming that, at the pour point, viscosity is equal to 1 million centistokes."
   ]
  },
  {
   "cell_type": "markdown",
   "metadata": {},
   "source": [
    "$$\n",
    "\\begin{align}\n",
    "c_{v1} &= 5000 K \\cr\n",
    "\\cr\n",
    "T_{pp} &= { c_{v1} \\cdot T_{ref} \\over c_{v1} - T_{ref} ln(v_{ref}) } \\qquad \\qquad \\qquad \\qquad \\boldsymbol{(eq. 7)} \\cr\n",
    "\\end{align}\n",
    "$$"
   ]
  },
  {
   "cell_type": "markdown",
   "metadata": {},
   "source": [
    "<center><b>--- Begin JamesM Comments ---</b></center>"
   ]
  },
  {
   "cell_type": "markdown",
   "metadata": {},
   "source": [
    "In <b>(A)</b>, we reference CPPF eq. 3.119, which seems to not include $T_{API}$ as an input.  Riazi describes this equation as:"
   ]
  },
  {
   "cell_type": "markdown",
   "metadata": {},
   "source": [
    "$$\n",
    "\\begin{align}\n",
    "SG &= \\text{oil specific gravity} \\cr\n",
    "M &= \\text{oil molecular weight} \\cr\n",
    "v_{38(100)} &= \\text{oil kinematic viscosity at } 37.8^\\circ C (100^\\circ F) \\cr\n",
    "\\cr\n",
    "T_P &= \\text{pour point (ASTM D 97) in } \\,^\\circ K \\cr\n",
    "&= 130.47 [SG^{2.970566}] \\cdot [M^{(0.61235 - 0.47357 SG)}] \\cdot [v_{38(100)}^{(0.310331 - 0.32834 SG)}] \\cr\n",
    "\\end{align}\n",
    "$$"
   ]
  },
  {
   "cell_type": "markdown",
   "metadata": {},
   "source": [
    "So I think that eq. 6 is not correct."
   ]
  },
  {
   "cell_type": "markdown",
   "metadata": {},
   "source": [
    "In <b>(B)</b>, exactly which $(T_{ref}, v_{ref})$ measurement should we use if multiple viscosity measurements exist?  Since we are calculating pour point, which I understand to mean the lowest temperature for which a finite viscosity exists, I believe we should use the lowest measured temperature and its associated viscosity."
   ]
  },
  {
   "cell_type": "markdown",
   "metadata": {},
   "source": [
    "Does the viscosity-temperature correction formula in Adios2 define what $c_{v1}$ is?"
   ]
  },
  {
   "cell_type": "markdown",
   "metadata": {},
   "source": [
    "<center><b>--- End JamesM Comments ---</b></center>"
   ]
  },
  {
   "cell_type": "code",
   "execution_count": 5,
   "metadata": {
    "collapsed": false
   },
   "outputs": [
    {
     "name": "stdout",
     "output_type": "stream",
     "text": [
      "oil =  ALASKA NORTH SLOPE (MIDDLE PIPELINE)\n",
      "pour point(min|max) =  219.15\n",
      "pour point (T_ref, v_ref) =  175.598251438\n",
      "\n",
      "oil =  BAHIA\n",
      "pour point(min|max) =  310.9278\n",
      "pour point (T_ref, v_ref) =  184.752720919\n",
      "\n",
      "oil =  ARABIAN MEDIUM, AMOCO\n",
      "pour point(min|max) =  257.15\n",
      "pour point (T_ref, v_ref) =  178.394617122\n",
      "\n"
     ]
    }
   ],
   "source": [
    "def lowest_temperature(obj_list):\n",
    "    '''\n",
    "        From a list of objects containing a ref_temp_k attribute,\n",
    "        return the object that has the lowest temperature\n",
    "    '''\n",
    "    if len(obj_list) > 0:\n",
    "        return sorted(obj_list, key=lambda d: d.ref_temp_k)[0]\n",
    "    else:\n",
    "        return None\n",
    "\n",
    "def estimate_pour_point_from_ref_temp(ref_temp_k, v_ref):\n",
    "    c_v1 = 5000.0\n",
    "    T_pp = (c_v1 * ref_temp_k) / (c_v1 - ref_temp_k * np.log(v_ref))\n",
    "    \n",
    "    return T_pp\n",
    "\n",
    "def get_pour_point_attr(imported_rec):\n",
    "    if imported_rec.pour_point_min_k is not None:\n",
    "        return imported_rec.pour_point_min_k\n",
    "    elif imported_rec.pour_point_max_k is not None:\n",
    "        return imported_rec.pour_point_max_k\n",
    "    else:\n",
    "        return None\n",
    "\n",
    "# pour point estimation based on (T_ref, v_ref)\n",
    "# seems a bit inaccurate\n",
    "for obj in (ans_mp, bahia, arabian):\n",
    "    print 'oil = ', obj.oil_name\n",
    "    print 'pour point(min|max) = ', get_pour_point_attr(obj)\n",
    "    lowest_kvis = lowest_temperature(oil_aggregate_kvis(obj))\n",
    "    ref_temp_k, v_ref = lowest_kvis.ref_temp_k, lowest_kvis.m_2_s\n",
    "    print 'pour point (T_ref, v_ref) = ', estimate_pour_point_from_ref_temp(ref_temp_k, v_ref)\n",
    "    print\n"
   ]
  },
  {
   "cell_type": "code",
   "execution_count": 6,
   "metadata": {
    "collapsed": false
   },
   "outputs": [
    {
     "ename": "NameError",
     "evalue": "name 'ans_mp_oil' is not defined",
     "output_type": "error",
     "traceback": [
      "\u001b[0;31m---------------------------------------------------------------------------\u001b[0m",
      "\u001b[0;31mNameError\u001b[0m                                 Traceback (most recent call last)",
      "\u001b[0;32m<ipython-input-6-f282683dc95c>\u001b[0m in \u001b[0;36m<module>\u001b[0;34m()\u001b[0m\n\u001b[1;32m      1\u001b[0m \u001b[0;31m# let's try the estimation based on molecular weights\u001b[0m\u001b[0;34m\u001b[0m\u001b[0;34m\u001b[0m\u001b[0m\n\u001b[0;32m----> 2\u001b[0;31m \u001b[0;32mfor\u001b[0m \u001b[0mobj\u001b[0m \u001b[0;32min\u001b[0m \u001b[0;34m(\u001b[0m\u001b[0mans_mp_oil\u001b[0m\u001b[0;34m,\u001b[0m\u001b[0;34m)\u001b[0m\u001b[0;34m:\u001b[0m\u001b[0;34m\u001b[0m\u001b[0m\n\u001b[0m\u001b[1;32m      3\u001b[0m     \u001b[0;32mprint\u001b[0m \u001b[0;34m'oil = '\u001b[0m\u001b[0;34m,\u001b[0m \u001b[0mobj\u001b[0m\u001b[0;34m.\u001b[0m\u001b[0mname\u001b[0m\u001b[0;34m\u001b[0m\u001b[0m\n\u001b[1;32m      4\u001b[0m     \u001b[0;32mfor\u001b[0m \u001b[0mfmass\u001b[0m \u001b[0;32min\u001b[0m \u001b[0mobj\u001b[0m\u001b[0;34m.\u001b[0m\u001b[0msara_fractions\u001b[0m\u001b[0;34m:\u001b[0m\u001b[0;34m\u001b[0m\u001b[0m\n\u001b[1;32m      5\u001b[0m         \u001b[0;32mprint\u001b[0m \u001b[0mfmass\u001b[0m\u001b[0;34m\u001b[0m\u001b[0m\n",
      "\u001b[0;31mNameError\u001b[0m: name 'ans_mp_oil' is not defined"
     ]
    }
   ],
   "source": [
    "# let's try the estimation based on molecular weights\n",
    "for obj in (ans_mp_oil,):\n",
    "    print 'oil = ', obj.name\n",
    "    for fmass in obj.sara_fractions:\n",
    "        print fmass\n",
    "\n",
    "    print\n",
    "    for mw in obj.molecular_weights:\n",
    "        print mw\n",
    "\n",
    "# OK, we have mass fractions for everything,\n",
    "# but we are missing molecular weights for our resins & asphaltenes\n",
    "# we will have to punt on this one for now."
   ]
  },
  {
   "cell_type": "markdown",
   "metadata": {},
   "source": [
    "### 5. Flash Point:"
   ]
  },
  {
   "cell_type": "markdown",
   "metadata": {},
   "source": [
    "If measured distillation cut data exists, use method <b>(A)</b>.<br>\n",
    "Otherwise, use method <b>(B)</b>."
   ]
  },
  {
   "cell_type": "markdown",
   "metadata": {},
   "source": [
    "<b>(A)</b> Flash point can be estimated from the first pseudo-component cut:"
   ]
  },
  {
   "cell_type": "markdown",
   "metadata": {},
   "source": [
    "$$\n",
    "\\begin{align}\n",
    "T_{cut1} &= \\text{the boiling point of the first pseudo-component cut } (^\\circ K) \\cr\n",
    "\\cr\n",
    "T_{flsh} &= 117 + 0.69 \\cdot T_{cut1} \\qquad \\qquad \\qquad \\qquad \\boldsymbol{(eq. 8)} \\cr\n",
    "\\end{align}\n",
    "$$"
   ]
  },
  {
   "cell_type": "markdown",
   "metadata": {},
   "source": [
    "<i>\n",
    "Reference: Chang A., K. Pashakanti, and Y. Liu (2012), Integrated Process Modeling and Optimization, Wiley Verlag.\n",
    "</i>"
   ]
  },
  {
   "cell_type": "markdown",
   "metadata": {},
   "source": [
    "<b>(B)</b> Flash point can be estimated from the API value:"
   ]
  },
  {
   "cell_type": "markdown",
   "metadata": {},
   "source": [
    "$$\n",
    "\\begin{align}\n",
    "T_{flsh} &= 457 - 3.34 \\cdot API \\qquad \\qquad \\qquad \\qquad \\boldsymbol{(eq. 9)} \\cr\n",
    "\\end{align}\n",
    "$$"
   ]
  },
  {
   "cell_type": "markdown",
   "metadata": {},
   "source": [
    "<center><b>--- Begin JamesM Comments ---</b></center>"
   ]
  },
  {
   "cell_type": "markdown",
   "metadata": {},
   "source": [
    "I have some reservations about simply using the first distillation cut boiling point.<br>\n",
    "It seems that the results could vary wildly depending on the quality of the cut data.\n",
    "\n",
    "I would be much more confident in a curve fit to the cuts, in which we take the temperature where a certain fraction is evaporated."
   ]
  },
  {
   "cell_type": "markdown",
   "metadata": {},
   "source": [
    "<center><b>--- End JamesM Comments ---</b></center>"
   ]
  },
  {
   "cell_type": "code",
   "execution_count": null,
   "metadata": {
    "collapsed": false
   },
   "outputs": [],
   "source": [
    "def estimate_flash_point_from_bp(ref_temp_k):\n",
    "    return 117.0 + 0.69 * ref_temp_k\n",
    "\n",
    "def estimate_flash_point_from_api(api):\n",
    "    return 457.0 - 3.34 * api\n",
    "\n",
    "def oil_flash_point(imported_rec):\n",
    "    if len(imported_rec.cuts) > 0:\n",
    "        return estimate_flash_point_from_bp(imported_rec.cuts[0].vapor_temp_k)\n",
    "    elif imported_rec.api is not None:\n",
    "        return estimate_flash_point_from_api(imported_rec.api)\n",
    "    else:\n",
    "        return None\n",
    "\n",
    "# ANS oil has both an api and distillation cuts.\n",
    "# For this oil, methods (A) and (B) estimate different results.\n",
    "# but the difference is only about 7%.  Probably acceptable.\n",
    "# we should try this on other oils to compare.\n",
    "for obj in (ans_mp, bahia, arabian):\n",
    "    print 'oil = ', obj.oil_name\n",
    "    if obj.api is not None:\n",
    "        print 'api flash point = ', estimate_flash_point_from_api(obj.api)\n",
    "    else:\n",
    "        print 'api = ', obj.api\n",
    "\n",
    "    if len(obj.cuts) > 0:\n",
    "        print 'cut flash point = ', estimate_flash_point_from_bp(obj.cuts[0].vapor_temp_k)\n",
    "    else:\n",
    "        print 'cuts = ', obj.cuts\n",
    "\n",
    "    print 'oil flash point = ', oil_flash_point(obj)\n",
    "    print"
   ]
  },
  {
   "cell_type": "markdown",
   "metadata": {},
   "source": [
    "### 6. Maximum water fraction of emulsion:"
   ]
  },
  {
   "cell_type": "markdown",
   "metadata": {},
   "source": [
    "This quantity will be set after the emulsification approach in Adios3 is finalized.  It will vary depending upon the emulsion stability.  For now the following rule will be applied:"
   ]
  },
  {
   "cell_type": "markdown",
   "metadata": {},
   "source": [
    "If our substance is a crude oil, then $f_{w max} = 0.9$<br>\n",
    "If our substance is a refined product, then $f_{w max} = 0$"
   ]
  },
  {
   "cell_type": "markdown",
   "metadata": {},
   "source": [
    "### 7. Bullwinkle (time):"
   ]
  },
  {
   "cell_type": "markdown",
   "metadata": {},
   "source": [
    "Adios3 needs to know when to initiate emulsification.  The Adios2 development team called this term Bullwinkle.  SINTEF has measured this parameter for some oils, and the new, not yet completed, analysis of emulsification may provide formulas for Bullwinkle.  Bullwinkle may be either a time value (i.e. time delay after which the emulsification formulas are turned on) or a fraction of the oil that needs to evaporate or dissolve before emulsification can start."
   ]
  },
  {
   "cell_type": "markdown",
   "metadata": {},
   "source": [
    "Bullwinkle(time) is undefined unless the user explicitly sets a value.  Then it overrides Bullwinkle(fraction) as the determining parameter for the onset of emulsification."
   ]
  },
  {
   "cell_type": "markdown",
   "metadata": {},
   "source": [
    "### 8. Bullwinkle (fraction):"
   ]
  },
  {
   "cell_type": "markdown",
   "metadata": {},
   "source": [
    "<i>\n",
    "Reference: Adios2\n",
    "</i>"
   ]
  },
  {
   "cell_type": "markdown",
   "metadata": {},
   "source": [
    "Bullwinkle is the mass fraction that must evaporate or dissolve before stable emulsification can begin.  This formula will change when we complete the emulsification module."
   ]
  },
  {
   "cell_type": "markdown",
   "metadata": {},
   "source": [
    "If $f_{asph} > 0$, then we use method <b>(A)</b><br>\n",
    "Otherwise, we use method <b>(B)</b><br>"
   ]
  },
  {
   "cell_type": "markdown",
   "metadata": {},
   "source": [
    "<b>(A)</b> $f_{bull}$ can be calculated from $f_{asph}$:\n",
    "$$\n",
    "\\begin{align}\n",
    "f_{bull} &= 0.32 - 3.59 \\cdot f_{asph} \\qquad \\qquad \\qquad \\boldsymbol{(eq. 10)} \\cr\n",
    "\\end{align}\n",
    "$$"
   ]
  },
  {
   "cell_type": "markdown",
   "metadata": {},
   "source": [
    "<b>(B)</b> $f_{bull}$ can be calculated from the oil's API:\n",
    "$$\n",
    "\\begin{align}\n",
    "f_{bull} &= 0.5762 \\cdot log10(API) - 0.6353 \\qquad \\qquad \\boldsymbol{(eq. 11)} \\cr\n",
    "\\end{align}\n",
    "$$"
   ]
  },
  {
   "cell_type": "markdown",
   "metadata": {},
   "source": [
    "A result of $f_{bull} < 0$ or $f_{bull} > 1$ indicates no emulsification."
   ]
  },
  {
   "cell_type": "code",
   "execution_count": null,
   "metadata": {
    "collapsed": false
   },
   "outputs": [],
   "source": [
    "def estimate_bullwinkle_fraction_from_asph(f_asph):\n",
    "    return 0.32 - 3.59 * f_asph\n",
    "\n",
    "def estimate_bullwinkle_fraction_from_api(api):\n",
    "    return 0.5762 * np.log10(api) - 0.6353\n",
    "\n",
    "def oil_bullwinkle_fraction(imported_rec):\n",
    "    if (imported_rec.asphaltenes is not None and\n",
    "            imported_rec.asphaltenes > 0.0):\n",
    "        return estimate_bullwinkle_fraction_from_asph(imported_rec.asphaltenes)\n",
    "    elif imported_rec.api is not None:\n",
    "        return estimate_bullwinkle_fraction_from_api(imported_rec.api)\n",
    "    else:\n",
    "        est_api = estimate_api_from_density(oil_density_at_temp(imported_rec, 288.15))\n",
    "        return estimate_bullwinkle_fraction_from_api(est_api)\n",
    "\n",
    "for obj in (ans_mp, ans_2002, bahia, arabian):\n",
    "    print 'oil = ', obj.oil_name\n",
    "    print 'oil.api = ', obj.api\n",
    "    print 'oil.asphaltenes = ', obj.asphaltenes\n",
    "    print 'oil.densities = ', obj.densities\n",
    "\n",
    "    print 'bullwinkle(fraction) = ', oil_bullwinkle_fraction(obj)\n",
    "    print\n"
   ]
  },
  {
   "cell_type": "markdown",
   "metadata": {},
   "source": [
    "### 9. Adhesion <i>(not currently used by model)</i>:"
   ]
  },
  {
   "cell_type": "markdown",
   "metadata": {},
   "source": [
    "If the imported oil record contains a valid value for adhesion, we will use that value when building our oil.<br>\n",
    "Otherwise, $Adh_{oil} = 0.035 kg/m^2$"
   ]
  },
  {
   "cell_type": "markdown",
   "metadata": {},
   "source": [
    "<i>\n",
    "Reference: ESTC data\n",
    "</i>"
   ]
  },
  {
   "cell_type": "markdown",
   "metadata": {},
   "source": [
    "### 10. Sulphur Mass Fraction <i>(not currently used by model)</i>:"
   ]
  },
  {
   "cell_type": "markdown",
   "metadata": {},
   "source": [
    "If the imported oil record contains a valid value for sulphur mass fraction, we will use that value when building our oil.<br>\n",
    "Otherwise, $f_{sulf} = 0$"
   ]
  },
  {
   "cell_type": "markdown",
   "metadata": {},
   "source": [
    "### 11. Solubility:"
   ]
  },
  {
   "cell_type": "markdown",
   "metadata": {},
   "source": [
    "If the imported oil record contains a valid value for solubility, we will use that value when building our oil.<br>\n",
    "Otherwise, $c_{solu} = 0 \\, kg/m^3$"
   ]
  },
  {
   "cell_type": "markdown",
   "metadata": {},
   "source": [
    "### 12. Distillation Cut Boiling Point:"
   ]
  },
  {
   "cell_type": "markdown",
   "metadata": {},
   "source": [
    "<i>\n",
    "<b>Note:</b> This and the following properties involve quantities that refer to only certain hydrocarbon groups in the oil.  Adios divides the oil up into $N$ distillation cuts and 4 structure groupings. Two of the structure groupings, resins and asphaltenes, are considered inert with regard to evaporation, biodegradation, and dissolution.  The other two groups, saturates and aromatics, do participate at different rates in these processes.\n",
    "</i>"
   ]
  },
  {
   "cell_type": "markdown",
   "metadata": {},
   "source": [
    "<i>\n",
    "<b>Note:</b> If the culled library data for a particular cut is given at a reduced temperature, this cut and any remaining cuts are considered non-volatile.  The boiling point can be set to an arbitrarily high value.\n",
    "</i>"
   ]
  },
  {
   "cell_type": "markdown",
   "metadata": {},
   "source": [
    "<center><b><i>A Note About Data Quality</i></b></center>"
   ]
  },
  {
   "cell_type": "markdown",
   "metadata": {},
   "source": [
    "Because there are so many calculations that propagate from the distillation cuts, it is important that we interpret them in such a way that results in a reasonable, or at least plausible, distillation curve.  And since we are dealing with records that were manually entered into a database, data entry errors need to be anticipated.\n",
    "\n",
    "We expect the evaporated fractions to be cumulative with rising temperature.  And if someone incorrectly entered a value when generating the imported oil record, then our cut data could fail to follow this cumulative trend, and our evaporation curve is thrown off.  Some specific errors and their implications are:\n",
    "\n",
    "- <b>Smaller fraction</b> entered than what it should have been: This will likely cause the fraction to be smaller than the previous one, and the $fmass_i$ value will go negative.\n",
    "- <b>Bigger fraction</b> entered than what it should have been: This will likely cause the next fraction to be smaller, and the next $fmass_i$ value will go negative.\n",
    "- <b>Smaller temperature</b> entered than what it should have been: Optimistically the series of $(T_i, fevap_i)$ could be reordered by temperature.  But if we reorder a mistaken temperature, then the fraction will be mistakenly reordered as well, and the error will manifest itself in a similar way as a <b>bigger fraction</b>.\n",
    "\n",
    "I don't think we can treat this in a naive way.  \n",
    "\n",
    "- We need to treat the temperatures and their associated fractions as atomic units of data\n",
    "- Temperatures are required to be in ascending order.  If the temperature of a particular cut is lower than the previous, we throw out the cut.\n",
    "- Cut fractions might seem to be less consequential.  This will happen only once per error in the series, and we could simply clip the value to be $\\geq 0$.  But this will have implications in that the sum of the differences will add up to something bigger than the total evaporated amount, which we don't want.  It's probably better to just throw out the cut."
   ]
  },
  {
   "cell_type": "markdown",
   "metadata": {},
   "source": [
    "If no distillation data exists, then we can estimate the distillation data from the oil's API:"
   ]
  },
  {
   "cell_type": "markdown",
   "metadata": {},
   "source": [
    "First we estimate our lower and upper temperature bounds:"
   ]
  },
  {
   "cell_type": "markdown",
   "metadata": {},
   "source": [
    "$$\n",
    "\\begin{align}\n",
    "T_0 &= \\text{the lower temperature boundary} \\cr\n",
    "&= 457 - 3.34 \\cdot API \\qquad \\qquad \\qquad \\qquad \\boldsymbol{(eq. 12)} \\cr\n",
    "T_G &= \\text{the upper temperature boundary} \\cr\n",
    "&= 1357 - 247.7 \\cdot ln(API) \\qquad \\qquad \\qquad \\boldsymbol{(eq. 13)} \\cr\n",
    "\\end{align}\n",
    "$$"
   ]
  },
  {
   "cell_type": "markdown",
   "metadata": {},
   "source": [
    "Next, we would like to generate a set of $N$ temperatures associated with our cuts $T_i$, where $1 \\leq i \\leq N$.  We will use a default of 5 cuts for this."
   ]
  },
  {
   "cell_type": "markdown",
   "metadata": {},
   "source": [
    "$$\n",
    "\\begin{align}\n",
    "N &= 5 \\cr\n",
    "T_i &= T_0 + T_G \\cdot {(i - 1) \\over N} \\qquad \\qquad \\qquad \\boldsymbol{(eq. 14)} \\cr\n",
    "\\end{align}\n",
    "$$"
   ]
  },
  {
   "cell_type": "markdown",
   "metadata": {},
   "source": [
    "<i>\n",
    "Reference: Adios2 and Jones R. (1997), A Simplified Pseudo-component Oil Evaporation Model, Proceedings of the 20th Arctic and Marine Oil Spill Program (AMOP), Vancouver, CA, Vol. 1, pp. 43-62\n",
    "</i>"
   ]
  },
  {
   "cell_type": "markdown",
   "metadata": {},
   "source": [
    "<center><b>--- Begin JamesM Comments ---</b></center>"
   ]
  },
  {
   "cell_type": "markdown",
   "metadata": {},
   "source": [
    "I think we need to clarify $i$ a bit further so there is no confusion here.  $i$ will be used as an index to generate N temperatures.  So $i$ needs to be an integer list of length $N$.  Stating the above equation more precisely along these terms, we might express the following:"
   ]
  },
  {
   "cell_type": "markdown",
   "metadata": {},
   "source": [
    "$$\n",
    "\\begin{align}\n",
    "T_i &= T_0 + T_G \\cdot {i - 1 \\over N} \\quad \\{ i \\in \\Bbb Z \\,\\,|\\,\\, 1 \\leq i \\leq N \\}\\cr\n",
    "\\end{align}\n",
    "$$"
   ]
  },
  {
   "cell_type": "markdown",
   "metadata": {},
   "source": [
    "But as a programmer, I like to index my lists starting at zero.  So \"I\" would state the equation as follows:"
   ]
  },
  {
   "cell_type": "markdown",
   "metadata": {},
   "source": [
    "$$\n",
    "\\begin{align}\n",
    "T_i &= T_0 + T_G \\cdot {i \\over N} \\quad \\{ i \\in \\Bbb Z \\,\\,|\\,\\, 0 \\leq i < N \\}\\cr\n",
    "\\end{align}\n",
    "$$"
   ]
  },
  {
   "cell_type": "markdown",
   "metadata": {},
   "source": [
    "<center><b>--- End JamesM Comments ---</b></center>"
   ]
  },
  {
   "cell_type": "code",
   "execution_count": null,
   "metadata": {
    "collapsed": false
   },
   "outputs": [],
   "source": [
    "def estimate_cut_temps_from_api(api, N=5):\n",
    "    T_0 = 457.0 - 3.34 * api\n",
    "    T_G = 1357.0 - 247.7 * np.log(api)\n",
    "    \n",
    "    return np.array([(T_0 + T_G * i / N)\n",
    "                     for i in range(N)])\n",
    "\n",
    "def oil_culled_cuts(imported_rec):\n",
    "    prev_temp = prev_fraction = 0.0\n",
    "    for c in imported_rec.cuts:\n",
    "        if c.vapor_temp_k < prev_temp:\n",
    "            continue\n",
    "\n",
    "        if c.fraction < prev_fraction:\n",
    "            continue\n",
    "\n",
    "        prev_temp = c.vapor_temp_k\n",
    "        prev_fraction = c.fraction\n",
    "\n",
    "        yield c\n",
    "        \n",
    "\n",
    "def oil_cut_temps(imported_rec):\n",
    "    culled_cuts = list(oil_culled_cuts(imported_rec))\n",
    "    if len(culled_cuts) > 0:\n",
    "        return np.array([c.vapor_temp_k\n",
    "                         for c in culled_cuts])\n",
    "    elif imported_rec.api is not None:\n",
    "        return estimate_cut_temps_from_api(imported_rec.api)\n",
    "    else:\n",
    "        est_api = estimate_api_from_density(oil_density_at_temp(imported_rec, 288.15))\n",
    "        return estimate_cut_temps_from_api(est_api)\n",
    "\n",
    "def oil_component_temps(imported_rec):\n",
    "    cut_temps = oil_cut_temps(imported_rec)\n",
    "    \n",
    "    component_temps = np.append([1015.0, 1015.0],\n",
    "                                zip(cut_temps, cut_temps))\n",
    "    return np.roll(component_temps, -2)\n",
    "\n",
    "for obj in (ans_mp, ans_2002, bahia, arabian, canola):\n",
    "    print 'oil = ', obj.oil_name\n",
    "    print 'oil.api = ', obj.api\n",
    "    print 'oil.densities = ', obj.densities\n",
    "    print 'oil.cut.vapor_temp_k = ', [c.vapor_temp_k for c in obj.cuts]\n",
    "    print 'oil.cut.fraction = ', [c.fraction for c in obj.cuts]\n",
    "    print 'cut temperatures = ', oil_cut_temps(obj)\n",
    "    print 'component temperatures = ', oil_component_temps(obj)\n",
    "    print\n"
   ]
  },
  {
   "cell_type": "markdown",
   "metadata": {},
   "source": [
    "### 13. Initial Component Molecular Weight <i>(required for each distillation cut)</i>:"
   ]
  },
  {
   "cell_type": "markdown",
   "metadata": {},
   "source": [
    "<i>\n",
    "Reference: CPPF eq. 2.48 and table 2.6\n",
    "</i>"
   ]
  },
  {
   "cell_type": "markdown",
   "metadata": {},
   "source": [
    "The saturate and aromatic component molecular weights can be calculated using the distillation cut temperatures as follows:"
   ]
  },
  {
   "cell_type": "markdown",
   "metadata": {},
   "source": [
    "$$\n",
    "\\begin{align}\n",
    "M_{w,sat,i} &= \\left( 49.677 \\cdot \\left[ 6.98291 - ln(1070 - T_i) \\right] \\right)^{3/2}\n",
    "\\qquad \\qquad \\qquad \\boldsymbol{(eq. 15)} \\cr\n",
    "M_{w,arom,i} &= \\left( 44.504 \\cdot \\left[ 6.911 - ln(1015 - T_i) \\right] \\right)^{3/2}\n",
    "\\qquad \\qquad \\qquad \\boldsymbol{(eq. 16)} \\cr\n",
    "\\end{align}\n",
    "$$"
   ]
  },
  {
   "cell_type": "markdown",
   "metadata": {},
   "source": [
    "<center><b>--- Begin JamesM Comments ---</b></center>"
   ]
  },
  {
   "cell_type": "markdown",
   "metadata": {},
   "source": [
    "So that we have a full complement of molecular weights for <u>all</u> components, I would like to see some estimation method for the following:\n",
    "$$\n",
    "\\begin{align}\n",
    "M_{w,res} &= \\text{molecular weight of our resin component} \\cr\n",
    "M_{w,asph} &= \\text{molecular weight of our asphaltene component} \\cr\n",
    "\\end{align}\n",
    "$$\n",
    "\n",
    "The calculation method for Pour Point (A) needs to have this.  Bill recommends using the following average values:\n",
    "$$\n",
    "\\begin{align}\n",
    "M_{w,res} &= 800 \\, g/mol \\text{ at } 1015^\\circ K \\cr\n",
    "M_{w,asph} &= 1000 \\, g/mol \\text{ at } 1015^\\circ K \\cr\n",
    "\\end{align}\n",
    "$$"
   ]
  },
  {
   "cell_type": "markdown",
   "metadata": {},
   "source": [
    "<center><b>--- End JamesM Comments ---</b></center>"
   ]
  },
  {
   "cell_type": "code",
   "execution_count": null,
   "metadata": {
    "collapsed": false
   },
   "outputs": [],
   "source": [
    "def estimate_saturate_mol_wt(boiling_point):\n",
    "    T_i = np.array(boiling_point)\n",
    "    return (49.677 * (6.98291 - np.log(1070.0 - T_i))) ** (3.0 / 2.0)\n",
    "\n",
    "def estimate_aromatic_mol_wt(boiling_point):\n",
    "    T_i = np.array(boiling_point)\n",
    "    return (44.504 * (6.911 - np.log(1015.0 - T_i))) ** (3.0 / 2.0)\n",
    "\n",
    "def estimate_resin_mol_wt():\n",
    "    return 800.0\n",
    "\n",
    "def estimate_asphaltene_mol_wt():\n",
    "    return 1000.0\n",
    "\n",
    "def estimate_component_mol_wt(boiling_points):\n",
    "    rho_list = np.append([estimate_resin_mol_wt(),\n",
    "                          estimate_asphaltene_mol_wt()],\n",
    "                         zip(estimate_saturate_mol_wt(boiling_points),\n",
    "                             estimate_aromatic_mol_wt(boiling_points)))\n",
    "    return np.roll(rho_list, -2)\n",
    "\n",
    "\n",
    "\n",
    "for obj in (ans_mp, ans_2002, bahia, arabian, canola):\n",
    "    print 'oil = ', obj.oil_name\n",
    "    cut_temps = oil_cut_temps(obj)\n",
    "    print 'cut temperatures = ', cut_temps\n",
    "    print 'saturate mol_wt = ', estimate_saturate_mol_wt(cut_temps)\n",
    "    print 'aromatic mol_wt = ', estimate_aromatic_mol_wt(cut_temps)\n",
    "    print 'component mol_wt = ', estimate_component_mol_wt(cut_temps)\n",
    "    print\n"
   ]
  },
  {
   "cell_type": "markdown",
   "metadata": {},
   "source": [
    "### 14. Initial Resin and Asphaltene Fractions and Densities:"
   ]
  },
  {
   "cell_type": "markdown",
   "metadata": {},
   "source": [
    "Resins and asphaltenes are two of the four structural divisions that separate the various hydrocarbons in the oil (the other two are saturates and aromatics).  Resins and asphaltene fractional groupings are NOT broken down further by distillation cuts."
   ]
  },
  {
   "cell_type": "markdown",
   "metadata": {},
   "source": [
    "<i>\n",
    "Reference: Fingas empirical formulas that are based upon analysis of ESTC oil properties database.\n",
    "</i>"
   ]
  },
  {
   "cell_type": "markdown",
   "metadata": {},
   "source": [
    "If the imported oil record contains valid values for resins and asphaltenes, we will use those values when building our oil.<br>\n",
    "Otherwise, we will need to estimate them."
   ]
  },
  {
   "cell_type": "markdown",
   "metadata": {},
   "source": [
    "First we define some values $A$ and $B$ that will be used for our component fraction formulas:"
   ]
  },
  {
   "cell_type": "markdown",
   "metadata": {},
   "source": [
    "$$\n",
    "\\begin{align}\n",
    "\\rho 0_{oil} &= \\text{oil aggregate density at } 288.15^\\circ K \\text{  (from eqs. 1,2)} \\cr\n",
    "v0_{oil} &= \\text{oil kinematic viscosity at } 288.15^\\circ K (source ???)\\cr\n",
    "\\cr\n",
    "A &= 10 \\cdot exp(0.001 \\cdot \\rho 0_{oil}) \\qquad \\qquad \\qquad \\qquad \\boldsymbol{(eq. 17)} \\cr\n",
    "B &= 10 \\cdot ln(1000 \\cdot \\rho 0_{oil} \\cdot v0_{oil}) \\qquad \\qquad \\qquad \\boldsymbol{(eq. 18)}\\cr\n",
    "\\end{align}\n",
    "$$"
   ]
  },
  {
   "cell_type": "markdown",
   "metadata": {},
   "source": [
    "Then our component fraction formulas:"
   ]
  },
  {
   "cell_type": "markdown",
   "metadata": {},
   "source": [
    "$$\n",
    "\\begin{align}\n",
    "f_{res} &= 0.033 \\cdot A + 0.00087 \\cdot B - 0.74,\n",
    "\\qquad \\text{if } f_{res} < 0 \\text{ then } f_{res} = 0\n",
    "\\qquad \\qquad \\qquad \\boldsymbol{(eq. 19)} \\cr\n",
    "f_{asph} &= 0.000014 \\cdot A^3 + 0.000004 \\cdot B^2 - 0.18,\n",
    "\\qquad \\text{if } f_{asph} < 0 \\text{ then } f_{asph} = 0\n",
    "\\qquad \\qquad \\boldsymbol{(eq. 20)} \\cr\n",
    "\\end{align}\n",
    "$$"
   ]
  },
  {
   "cell_type": "markdown",
   "metadata": {},
   "source": [
    "<center><b>--- Begin JamesM Comments ---</b></center>"
   ]
  },
  {
   "cell_type": "markdown",
   "metadata": {},
   "source": [
    "The above formulas describe a simple limit in that the resulting fractions must be greater than zero.  Stating this in simpler mathematical terms:"
   ]
  },
  {
   "cell_type": "markdown",
   "metadata": {},
   "source": [
    "$$\n",
    "\\begin{align}\n",
    "f_{res} &= (0.033 \\cdot A + 0.00087 \\cdot B - 0.74)_{\\bot 0} \\cr\n",
    "f_{asph} &= (0.000014 \\cdot A^3 + 0.000004 \\cdot B^2 - 0.18)_{\\bot 0} \\cr\n",
    "\\end{align}\n",
    "$$"
   ]
  },
  {
   "cell_type": "markdown",
   "metadata": {},
   "source": [
    "I believe that this is not enough to protect us from producing mass fractions that are inconsistent.  If we do not also have an upper limit, then we could end up with a fraction that is greater than 1.0, or a group of fractions that sum to a value greater than 1.0.<br>\n",
    "In this document, the resin and asphaltene fractions are described first, which implies that we will calculate them before calculating the saturate and aromatic fractions.  This is fine, but the order of calculation should probably be specified.  If we can assume the order of calculation is to first find the resin fraction, and then the asphaltene fraction, then the above formulas including upper and lower limits will look like this:"
   ]
  },
  {
   "cell_type": "markdown",
   "metadata": {},
   "source": [
    "$$\n",
    "\\begin{align}\n",
    "f_{res} &= (0.033 \\cdot A + 0.00087 \\cdot B - 0.74)_{\\bot 0}^{\\top 1} \\cr\n",
    "f_{asph} &= (0.000014 \\cdot A^3 + 0.000004 \\cdot B^2 - 0.18)_{\\bot 0}^{\\top (1 - f_{res})} \\cr\n",
    "\\end{align}\n",
    "$$"
   ]
  },
  {
   "cell_type": "markdown",
   "metadata": {},
   "source": [
    "<center><b>--- End JamesM Comments ---</b></center>"
   ]
  },
  {
   "cell_type": "code",
   "execution_count": null,
   "metadata": {
    "collapsed": false
   },
   "outputs": [],
   "source": [
    "def estimate_A_coeff(density):\n",
    "    return 10.0 * np.exp(0.001 * density)\n",
    "\n",
    "def estimate_B_coeff(density, viscosity):\n",
    "    return 10.0 * np.log(1000.0 * density * viscosity)\n",
    "\n",
    "def estimate_inert_fractions(density, viscosity):\n",
    "    A = estimate_A_coeff(density)\n",
    "    B = estimate_B_coeff(density, viscosity)\n",
    "\n",
    "    f_res = 0.033 * A + 0.00087 * B - 0.74\n",
    "    f_asph = (0.000014 * A ** 3.0 +\n",
    "              0.000004 * B ** 2.0 -\n",
    "              0.18)\n",
    "\n",
    "    f_res = np.clip(f_res, 0.0, 1.0)\n",
    "    f_asph = np.clip(f_asph, 0.0, 1.0 - f_res)\n",
    "    \n",
    "    return f_res, f_asph\n",
    "\n",
    "def oil_inert_fractions(imported_rec):\n",
    "    f_res, f_asph = imported_rec.resins, imported_rec.asphaltenes\n",
    "\n",
    "    if f_res is None or f_asph is None:\n",
    "        # if either value is missing from the record,\n",
    "        # then we toss both of them out and estimate so\n",
    "        # everything is consistent.\n",
    "        density = oil_density_at_temp(imported_rec, 288.15)\n",
    "        viscosity = oil_kvis_at_temp(imported_rec, 288.15)\n",
    "\n",
    "        f_res, f_asph = estimate_inert_fractions(density,\n",
    "                                                 viscosity)\n",
    "\n",
    "    return f_res, f_asph\n",
    "\n",
    "for obj in (ans_mp, ans_2002, bahia, arabian, canola):\n",
    "    print 'oil = ', obj.oil_name\n",
    "    print 'oil.resins = ', obj.resins\n",
    "    print 'oil.asphaltenes = ', obj.asphaltenes\n",
    "    obj_density = oil_density_at_temp(obj, 288.15)\n",
    "    obj_viscosity = oil_kvis_at_temp(obj, 288.15)\n",
    "    print 'oil density at temp = ', obj_density\n",
    "    print 'oil viscosity at temp = ', obj_viscosity\n",
    "    print 'f_res, f_asph = ', estimate_inert_fractions(obj_density,\n",
    "                                                       obj_viscosity)\n",
    "    print 'f_res, f_asph = ', oil_inert_fractions(obj)\n",
    "    print\n",
    "\n",
    "# TODO: maybe some graphs of this."
   ]
  },
  {
   "cell_type": "markdown",
   "metadata": {},
   "source": [
    "### 15. Distillation Cut Mass Fraction:"
   ]
  },
  {
   "cell_type": "markdown",
   "metadata": {},
   "source": [
    "The distillation cuts are a series of temperatures and mass fractions.  And each temperature $T_i$ is associated with a fractional value $fevap_i$ representing the portion of substance that was evaporated at that temperature. "
   ]
  },
  {
   "cell_type": "markdown",
   "metadata": {},
   "source": [
    "For any temperature below about $530^\\circ K$, we can assume that the portion of substance that was evaporated contains a mix of saturates and aromatics, and that no resins or asphaltenes have been released.  This mix of saturates and asphaltenes, the quantity that was evaporated at a distillation cut temperature, is what we would like to consider to be our distillation cut mass fractions."
   ]
  },
  {
   "cell_type": "markdown",
   "metadata": {},
   "source": [
    "<b>(A)</b> If the following prerequisites are true:"
   ]
  },
  {
   "cell_type": "markdown",
   "metadata": {},
   "source": [
    "- The culled oil library contains summed (both saturate and aromatic combined) mass fractions or weight %, $fevap_i$, for the distillation cuts.\n",
    "- At least two distillation cuts exist for which:\n",
    "  - $T_i < 530^\\circ K$\n",
    "  - $0 \\leq fevap_i \\leq (1 - (f_{res} + f_{asph}))$\n",
    "  - $fevap_i \\geq fevap_{i-1}$"
   ]
  },
  {
   "cell_type": "markdown",
   "metadata": {},
   "source": [
    "Then we will use the distillation cut fractional masses that are supplied to generate $fmass_i$."
   ]
  },
  {
   "cell_type": "markdown",
   "metadata": {},
   "source": [
    "The distillation cut mass fractions that we get in the imported oil record are cumulative in nature, so it is necessary to collect the differences in the distillation cut mass fractions when generating $fmass_i$"
   ]
  },
  {
   "cell_type": "markdown",
   "metadata": {},
   "source": [
    "$$\n",
    "\\begin{align}\n",
    "fmass_i &= {d \\over di} \\left( fevap_i \\right)\n",
    "\\qquad \\{ i \\in \\Bbb Z \\,\\,|\\,\\, 0 \\leq i \\leq N \\}\n",
    "\\qquad \\qquad \\boldsymbol{(eq. 21)} \\cr\n",
    "\\end{align}\n",
    "$$"
   ]
  },
  {
   "cell_type": "markdown",
   "metadata": {},
   "source": [
    "It is important that the component mass fractions sum up to 1.0, representing the total mass for the substance.  So the following equation needs to be true."
   ]
  },
  {
   "cell_type": "markdown",
   "metadata": {},
   "source": [
    "$$\n",
    "\\begin{align}\n",
    "1 &= f_{res} + f_{asph} + \\sum_{i=0}^{N-1} fmass_i \\cr\n",
    "\\end{align}\n",
    "$$"
   ]
  },
  {
   "cell_type": "markdown",
   "metadata": {},
   "source": [
    "If the fractions do not add up to 1.0, we may need to scale them. Exactly how is unclear.  Which ones will we scale, the inert ones or the volatile ones (or both)?  One possibility, in which we scale only the volatile fractions, is shown below:"
   ]
  },
  {
   "cell_type": "markdown",
   "metadata": {},
   "source": [
    "$$\n",
    "\\begin{align}\n",
    "S_{cf} &= \\text{cut fractions scaling factor} \\cr\n",
    "\\cr\n",
    "1 &= f_{res} + f_{asph} + \\sum_{i=0}^{N-1} fmass_i \\cr\n",
    "1 &= f_{res} + f_{asph} + S_{cf} \\left( \\sum_{i=0}^{N-1} fmass_i \\right) \\cr\n",
    "S_{cf} &= {1 - f_{res} - f_{asph} \\over \\sum_{i=0}^{N-1} fmass_i } \\cr\n",
    "\\end{align}\n",
    "$$"
   ]
  },
  {
   "cell_type": "markdown",
   "metadata": {},
   "source": [
    "<b>(B)</b> If distillation cut temperatures were generated by approximation (eq. 18), then it can be assumed that there were no measured mass fractions.  For this we will evenly distribute our fractional masses such that for all distillation cuts:"
   ]
  },
  {
   "cell_type": "markdown",
   "metadata": {},
   "source": [
    "$$\n",
    "\\begin{align}\n",
    "fmass_i &= {(1 - (f_{res} + f_{asph})) \\over N}\n",
    "\\qquad \\qquad \\boldsymbol{(eq. 22)} \\cr\n",
    "\\end{align}\n",
    "$$"
   ]
  },
  {
   "cell_type": "code",
   "execution_count": null,
   "metadata": {
    "collapsed": false
   },
   "outputs": [],
   "source": [
    "def estimate_fmasses_from_cuts(f_res, f_asph, f_evap_i):\n",
    "    fmass_i = np.array(f_evap_i)\n",
    "    fmass_i[1:] = np.diff(fmass_i)\n",
    "\n",
    "    if np.sum(fmass_i) > 0:\n",
    "        S_cf = (1.0 - f_res - f_asph) / np.sum(fmass_i)\n",
    "        return fmass_i * S_cf\n",
    "    else:\n",
    "        return fmass_i\n",
    "\n",
    "def estimate_n_fmasses(f_res, f_asph, N=5):\n",
    "    return np.array([(1.0 - f_res - f_asph) / N] * N)\n",
    "\n",
    "def oil_fmasses(imported_rec, f_res=None, f_asph=None):\n",
    "    if f_res is None or f_asph is None:\n",
    "        f_res, f_asph = oil_inert_fractions(imported_rec)\n",
    "\n",
    "    culled_cuts = list(oil_culled_cuts(imported_rec))\n",
    "    if len(culled_cuts) > 0:\n",
    "        fractions = [c.fraction for c in culled_cuts]\n",
    "        return estimate_fmasses_from_cuts(f_res, f_asph,\n",
    "                                          fractions\n",
    "                                          )\n",
    "    else:\n",
    "        return estimate_n_fmasses(f_res, f_asph)\n",
    "\n",
    "for obj in (ans_mp, ans_2002, bahia, arabian, canola):\n",
    "    print 'oil = ', obj.oil_name\n",
    "    print 'oil cut temps = ', oil_cut_temps(obj)\n",
    "    fractions = [c.fraction for c in oil_culled_cuts(obj)]\n",
    "    print 'oil.cuts.fractions = ', fractions\n",
    "    f_res, f_asph = oil_inert_fractions(obj)\n",
    "    print 'f_res, f_asph = ', f_res, f_asph\n",
    "\n",
    "    fmasses = estimate_fmasses_from_cuts(f_res, f_asph, fractions)\n",
    "    print 'sum(fmasses) = ', np.sum(fmasses) + f_res + f_asph\n",
    "\n",
    "    fmasses = estimate_n_fmasses(f_res, f_asph)\n",
    "    print 'N fmasses = ', fmasses\n",
    "    print 'sum(N fmasses) = ', np.sum(fmasses) + f_res + f_asph\n",
    "    \n",
    "    fmasses = oil_fmasses(obj)\n",
    "    print 'oil_fmasses = ', fmasses\n",
    "    print 'sum(oil_fmasses) = ', np.sum(fmasses) + f_res + f_asph\n",
    "    print\n"
   ]
  },
  {
   "cell_type": "markdown",
   "metadata": {},
   "source": [
    "### 16. Component Density <i>(required for each distillation cut)</i>:"
   ]
  },
  {
   "cell_type": "markdown",
   "metadata": {},
   "source": [
    "<i>\n",
    "Reference: CPPF eq. 2.13 and table 9.6\n",
    "</i>"
   ]
  },
  {
   "cell_type": "markdown",
   "metadata": {},
   "source": [
    "Initial density estimate for both resin and asphaltene fractional componens is set to:"
   ]
  },
  {
   "cell_type": "markdown",
   "metadata": {},
   "source": [
    "$$\n",
    "\\begin{align}\n",
    "\\rho_{res} &= \\rho_{asph} = 1100 \\, kg/m^3 \\cr\n",
    "\\end{align}\n",
    "$$"
   ]
  },
  {
   "cell_type": "markdown",
   "metadata": {},
   "source": [
    "Then we define Watson characterization factors for saturates and aromatics:"
   ]
  },
  {
   "cell_type": "markdown",
   "metadata": {},
   "source": [
    "$$\n",
    "\\begin{align}\n",
    "K_{arom,w} &= \\text{Watson characterization factor for aromatics} \\cr\n",
    "&= 10 \\cr\n",
    "K_{sat,w} &= \\text{Watson characterization factor for saturates} \\cr\n",
    "&= 12 \\cr\n",
    "\\end{align}\n",
    "$$"
   ]
  },
  {
   "cell_type": "markdown",
   "metadata": {},
   "source": [
    "Then we apply the appropriate Watson characterization to calculate an initial trial estimate for each density component:"
   ]
  },
  {
   "cell_type": "markdown",
   "metadata": {},
   "source": [
    "$$\n",
    "\\begin{align}\n",
    "\\rho try_{arom,i} &= 1000 \\cdot {\\root 3 \\of T_i \\over K_{arom,w} }\n",
    "\\qquad \\qquad \\boldsymbol{(eq. 23)} \\cr\n",
    "\\rho try_{sat,i} &= 1000 \\cdot {\\root 3 \\of T_i \\over K_{sat,w} }\n",
    "\\qquad \\qquad \\boldsymbol{(eq. 24)} \\cr\n",
    "\\end{align}\n",
    "$$"
   ]
  },
  {
   "cell_type": "markdown",
   "metadata": {},
   "source": [
    "This should be a reasonable estimate.  However, the average density (fractionally weighted average of the cut densities) must match the measured value or the value from approximation (eqs. 1, 2).<br>\n",
    "To find the scaling factor between our densities and the aggregate density, we do the following:"
   ]
  },
  {
   "cell_type": "markdown",
   "metadata": {},
   "source": [
    "$$\n",
    "\\begin{align}\n",
    "j &= \\text{index representing all oil components } \\{ j \\in \\Bbb Z \\} \\cr\n",
    "jMAX &= \\text{index of the last oil component} \\cr\n",
    "&= 2N + 2 \\cr\n",
    "fmass0_j &= \\text{the fractional mass of our jth component} \\cr\n",
    "\\cr\n",
    "Cf_{dens} &= { \\rho 0_{oil} \\over \\sum_{j=1}^{jMAX} fmass0_j \\cdot \\rho try_j}\n",
    "\\qquad \\qquad \\boldsymbol{(eq. 25)} \\cr\n",
    "\\end{align}\n",
    "$$"
   ]
  },
  {
   "cell_type": "markdown",
   "metadata": {},
   "source": [
    "Then we evenly apply this scaling factor to our trial densities to come up with densities that are consistent with the aggregate density."
   ]
  },
  {
   "cell_type": "markdown",
   "metadata": {},
   "source": [
    "$$\n",
    "\\begin{align}\n",
    "\\rho_j = Cf_{dens} \\cdot \\rho try_j \\qquad \\qquad \\boldsymbol{(eq. 26)} \\cr\n",
    "\\end{align}\n",
    "$$"
   ]
  },
  {
   "cell_type": "markdown",
   "metadata": {},
   "source": [
    "<center><b>--- Begin JamesM Comments ---</b></center>"
   ]
  },
  {
   "cell_type": "markdown",
   "metadata": {},
   "source": [
    "There is a bit of a catch 22 here in regards to scaling the densities.  In order to scale our densities, we need component mass fractions.  And in order to get our component mass fractions, we need component specific gravities and therefore densities.  Here is what we might be able to do.\n",
    "\n",
    "- calculate our trial densities\n",
    "- calculate trial specific gravities based on trial densities\n",
    "- calculate our component mass fractions based on trial specific gravities\n",
    "- scale our component densities based on component mass fractions, trial densities, and the overall oil density\n",
    "\n",
    "It may improve the top-down organization of these estimations if we put the density scaling in its own section."
   ]
  },
  {
   "cell_type": "markdown",
   "metadata": {},
   "source": [
    "<center><b>--- End JamesM Comments ---</b></center>"
   ]
  },
  {
   "cell_type": "code",
   "execution_count": null,
   "metadata": {
    "collapsed": false
   },
   "outputs": [],
   "source": [
    "def estimate_trial_densities(boiling_points, watson_factor):\n",
    "    return 1000.0 * boiling_points ** (1.0 / 3.0) / watson_factor\n",
    "\n",
    "def estimate_saturate_densities(boiling_points):\n",
    "    return estimate_trial_densities(boiling_points, 12)\n",
    "\n",
    "def estimate_aromatic_densities(boiling_points):\n",
    "    return estimate_trial_densities(boiling_points, 10)\n",
    "\n",
    "def estimate_resin_density():\n",
    "    return 1100.0\n",
    "\n",
    "def estimate_asphaltene_density():\n",
    "    return 1100.0\n",
    "\n",
    "def estimate_component_densities(boiling_points):\n",
    "    rho_list = np.append([estimate_resin_density(),\n",
    "                          estimate_asphaltene_density()],\n",
    "                         zip(estimate_saturate_densities(boiling_points),\n",
    "                             estimate_aromatic_densities(boiling_points)))\n",
    "    return np.roll(rho_list, -2)\n",
    "\n",
    "def oil_component_densities(imported_rec):\n",
    "    cut_temps = oil_cut_temps(imported_rec)\n",
    "    return estimate_component_densities(cut_temps)\n",
    "    \n",
    "\n",
    "for obj in (ans_mp, ans_2002, bahia, arabian, canola):\n",
    "    print 'oil = ', obj.oil_name\n",
    "    cut_temps = oil_cut_temps(obj)\n",
    "    print 'oil cut temps = ', cut_temps\n",
    "    print 'aromatic densities = ', estimate_aromatic_densities(cut_temps)\n",
    "    print 'saturate densities = ', estimate_saturate_densities(cut_temps)\n",
    "    print 'trial densities from oil = ', oil_component_densities(obj)\n",
    "    print\n"
   ]
  },
  {
   "cell_type": "markdown",
   "metadata": {},
   "source": [
    "### 17. Component Specific Gravity:"
   ]
  },
  {
   "cell_type": "markdown",
   "metadata": {},
   "source": [
    "Specific Gravity of a substance is the ratio of density of the substance to the density of water at a specified temperature.<br>"
   ]
  },
  {
   "cell_type": "markdown",
   "metadata": {},
   "source": [
    "<i>\n",
    "Reference: https://en.wikipedia.org/wiki/Specific_gravity\n",
    "</i>"
   ]
  },
  {
   "cell_type": "markdown",
   "metadata": {},
   "source": [
    "For simplicity, we will make the assumption that our water density is $1000 \\, kg/m^3$.  So our estimation of the specific gravity of our oil components will be:"
   ]
  },
  {
   "cell_type": "markdown",
   "metadata": {},
   "source": [
    "$$\n",
    "\\begin{align}\n",
    "SG_j &= \\rho_j / 1000 \\qquad \\qquad \\boldsymbol{(eq. 27)} \\cr\n",
    "\\end{align}\n",
    "$$"
   ]
  },
  {
   "cell_type": "code",
   "execution_count": null,
   "metadata": {
    "collapsed": false
   },
   "outputs": [],
   "source": [
    "def estimate_specific_gravity(density):\n",
    "    return density / 1000.0\n",
    "\n",
    "for obj in (ans_mp, ans_2002, bahia, arabian, canola):\n",
    "    print 'oil = ', obj.oil_name\n",
    "    rho_list = oil_component_densities(obj)\n",
    "    print 'trial densities = ', rho_list\n",
    "    print 'molecular weights = ', estimate_specific_gravity(rho_list)\n",
    "    print\n"
   ]
  },
  {
   "cell_type": "markdown",
   "metadata": {},
   "source": [
    "### 18-19. Initial Saturate and Aromatic Mass Fractions <i>(required for each distillation cut)</i>:"
   ]
  },
  {
   "cell_type": "markdown",
   "metadata": {},
   "source": [
    "<i>\n",
    "References:\n",
    "  <ul>\n",
    "    <li>CPPF eqs. 2.114, 2.115, 3.77 and 3.78</li>\n",
    "    <li>Huang, E K., Characterization and Thermodynamic Correlations for Undefined Hydrocarbon Mixtures, Ph.D. Dissertation, Pennsylvania State University, University Park, PA, 1977</li>\n",
    "  </ul>\n",
    "</i>"
   ]
  },
  {
   "cell_type": "markdown",
   "metadata": {},
   "source": [
    "Once we have either measured or estimated distillation cut mass fractions available to us, we can then compute our saturate mass fractions using the boiling point, specific gravity, and molecular weight of our saturate components:"
   ]
  },
  {
   "cell_type": "markdown",
   "metadata": {},
   "source": [
    "Using Riazi, we perform a number of intermediate calculations to finally come up with the estimation for saturate component fractional mass.\n",
    "\n",
    "First is a dimensionless parameter $I$, that was first used by Huang to correlate hydrocarbon properties.  This is necessary to calculate the saturate refractive index $n$.<br>\n",
    "\n",
    "Next is the calculation of refractive index $n$.  This is necessary to calculate $m$.\n",
    "\n",
    "The next intermediate calculation $m$ can be best described as a hydrocarbon grouping parameter, Riazi describes $m$ as a parameter that \"not only separates paraffins and aromatics but also identifies various hydrocarbon types\", and is (AFAIK) based on an observed correlation of refractive index and Molecular weight."
   ]
  },
  {
   "cell_type": "markdown",
   "metadata": {},
   "source": [
    "$$\n",
    "\\begin{align}\n",
    "T_i &= \\text{distillation cut boiling point} \\cr\n",
    "M_{w,sat,i} &= \\text{molecular weight of our saturate component} \\cr\n",
    "SG_{sat, i} &= \\text{specific gravity of saturate component} \\cr\n",
    "\\cr\n",
    "I &= \\text{hydrocarbon characterization parameter} \\cr\n",
    "&= 0.3773 T_i^{-0.02269} SG_{sat,i}^{0.9182} \\qquad \\qquad \\boldsymbol{(eq. 28)} \\cr\n",
    "\\cr\n",
    "n &= \\text{refractive index of our saturate component at } 20^\\circ C \\cr\n",
    "&= \\left( 1 + 2 I \\over 1 - I \\right)^{1/2} \\qquad \\qquad \\qquad \\qquad \\boldsymbol{(eq. 29)} \\cr\n",
    "\\cr\n",
    "m &= \\text{hydrocarbon grouping parameter} \\cr\n",
    "&= M_{w,sat,i}(n - 1.475) \\qquad \\qquad \\qquad \\boldsymbol{(eq. 30)} \\cr\n",
    "\\end{align}\n",
    "$$"
   ]
  },
  {
   "cell_type": "markdown",
   "metadata": {},
   "source": [
    "And finally, after these intermediate calculations are completed, we can estimate the saturate component fractional mass.\n"
   ]
  },
  {
   "cell_type": "markdown",
   "metadata": {},
   "source": [
    "$$\n",
    "\\begin{align}\n",
    "fmass_i &= \\text{distillation cut fractional mass} \\cr\n",
    "\\cr\n",
    "f_{sat,i} &= (fmass_i \\cdot (2.24 - 1.98 \\cdot SG_{sat,i} - 0.009 \\cdot m))_{\\bot 0}^{\\top fmass_i}\n",
    "\\qquad \\qquad \\boldsymbol{(eq. 31)} \\cr\n",
    "\\end{align}\n",
    "$$"
   ]
  },
  {
   "cell_type": "markdown",
   "metadata": {},
   "source": [
    "After our saturate mass fraction has been computed, we compute our aromatic mass fraction simply as:"
   ]
  },
  {
   "cell_type": "markdown",
   "metadata": {},
   "source": [
    "$$\n",
    "\\begin{align}\n",
    "f_{arom,i} &= fmass_i - f_{sat,i} \\qquad \\qquad \\qquad \\boldsymbol{(eq. 32)} \\cr\n",
    "\\end{align}\n",
    "$$"
   ]
  },
  {
   "cell_type": "code",
   "execution_count": null,
   "metadata": {
    "collapsed": false
   },
   "outputs": [],
   "source": [
    "def hydrocarbon_characterization_param(specific_gravity, temp_k):\n",
    "    T_i = temp_k\n",
    "    SG_i = specific_gravity\n",
    "    return 0.3773 * T_i ** (-0.02269) * SG_i ** (0.9182)\n",
    "\n",
    "def refractive_index(hc_char_param):\n",
    "    I = hc_char_param\n",
    "    return ((1 + 2 * I) / (1 - I)) ** (1.0 / 2.0)\n",
    "\n",
    "def hydrocarbon_grouping_param(mol_wt, specific_gravity, temp_k):\n",
    "    I = hydrocarbon_characterization_param(specific_gravity, temp_k)\n",
    "    n = refractive_index(I)\n",
    "\n",
    "    return mol_wt * (n - 1.475)\n",
    "\n",
    "def estimate_saturate_mass_fraction(fmass_i, mol_wt, specific_gravity, temp_k):\n",
    "    SG_sat_i = specific_gravity\n",
    "    m = hydrocarbon_grouping_param(mol_wt, SG_sat_i, temp_k)\n",
    "    \n",
    "    f_sat_i = fmass_i * (2.24 - 1.98 * SG_sat_i - 0.009 * m)\n",
    "\n",
    "    return np.clip(f_sat_i, 0.0, fmass_i)\n",
    "\n",
    "def oil_component_mass_fractions(imported_rec):\n",
    "    cut_temps = oil_cut_temps(imported_rec)\n",
    "\n",
    "    f_res, f_asph = oil_inert_fractions(imported_rec)\n",
    "    fmass_i = oil_fmasses(imported_rec, f_res, f_asph)\n",
    "\n",
    "    sat_mask = np.array(range(len(cut_temps))) * 2\n",
    "\n",
    "    sat_temps = oil_component_temps(imported_rec)[sat_mask]\n",
    "    sat_mol_wts = estimate_component_mol_wt(cut_temps)[sat_mask]\n",
    "    sat_rhos = estimate_component_densities(cut_temps)[sat_mask]\n",
    "    sat_SGs = estimate_specific_gravity(sat_rhos)\n",
    "\n",
    "    f_sat_i = estimate_saturate_mass_fraction(fmass_i,\n",
    "                                              sat_mol_wts,\n",
    "                                              sat_SGs,\n",
    "                                              sat_temps)\n",
    "    f_arom_i = fmass_i - f_sat_i\n",
    "\n",
    "    f_all = [n for l in zip(f_sat_i, f_arom_i) for n in l] + [f_res, f_asph]\n",
    "    \n",
    "    return np.array(f_all)\n",
    "\n",
    "for obj in (ans_mp, ans_2002, bahia, arabian, canola):\n",
    "    print 'oil = ', obj.oil_name\n",
    "    print 'oil.cuts.fractions = ', [c.fraction for c in obj.cuts]\n",
    "    print 'oil.cuts.vapor_temp_k = ', [c.vapor_temp_k for c in obj.cuts]\n",
    "    print 'component mass fractions = ', oil_component_mass_fractions(obj)\n",
    "    print\n"
   ]
  },
  {
   "cell_type": "code",
   "execution_count": null,
   "metadata": {
    "collapsed": true
   },
   "outputs": [],
   "source": []
  }
 ],
 "metadata": {
  "kernelspec": {
   "display_name": "Python 2",
   "language": "python",
   "name": "python2"
  },
  "language_info": {
   "codemirror_mode": {
    "name": "ipython",
    "version": 2
   },
   "file_extension": ".py",
   "mimetype": "text/x-python",
   "name": "python",
   "nbconvert_exporter": "python",
   "pygments_lexer": "ipython2",
   "version": "2.7.11"
  }
 },
 "nbformat": 4,
 "nbformat_minor": 0
}
