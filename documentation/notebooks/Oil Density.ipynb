{
 "cells": [
  {
   "cell_type": "code",
   "execution_count": 1,
   "metadata": {
    "collapsed": true
   },
   "outputs": [],
   "source": [
    "# imports\n",
    "import numpy as np\n",
    "import matplotlib.pyplot as plt\n",
    "% matplotlib inline"
   ]
  },
  {
   "cell_type": "markdown",
   "metadata": {},
   "source": [
    "# Oil Density Estimation\n",
    "\n",
    "## A Description of the Methods Used (Including Some Examples)\n",
    "\n",
    "### Background:\n",
    "\n",
    "The density of a substance is a fairly important piece of information to know in regards to oil spill response.  If an oil is released into a body of water, its relative density to that body of water will indicate whether the oil will float on top of the water surface, or whether it will gradually sink below the surface.\n",
    "\n",
    "There are two general properties in an oil record that indicate its initial density.  Those are the oils **API** gravity, and its **measured density**.\n",
    "\n",
    "An oil's API gravity is a measure of how heavy or light it is compared to water, as defined by the\n",
    "**A**merican **P**etroleum **I**nstitute. As such it is essentially a different unit for the density of the oil at standard temperature (and pressure). If there is a measured density (at 15C) and an API in a given record, the values should match, or there is an error in the record.\n",
    "\n",
    "\n",
    "**API** gravity is defined by the following formula:"
   ]
  },
  {
   "cell_type": "markdown",
   "metadata": {},
   "source": [
    "$$\n",
    "\\begin{align}\n",
    "\\rho_{0_{oil}} &= \\text{The initial oil density at } 15^\\circ C \\text{ and measured in } kg / m^3 \\\\\n",
    "1000 &= \\text{The initial density of fresh water measured in } kg / m^3 \\\\\n",
    "API &= \\frac{141.5 \\cdot 1000}{\\rho_{0_{oil}} } - 131.5 \\\\\n",
    "\\end{align}\n",
    "$$"
   ]
  },
  {
   "cell_type": "markdown",
   "metadata": {},
   "source": [
    "Conversely, the initial density of the oil can be calculated, if necessary, from the API value"
   ]
  },
  {
   "cell_type": "markdown",
   "metadata": {},
   "source": [
    "$$\n",
    "\\begin{align}\n",
    "\\rho_{0_{oil}} &= \\frac{141.5}{131.5 + API} \\cdot 1000 \\\\\n",
    "\\end{align}\n",
    "$$"
   ]
  },
  {
   "cell_type": "markdown",
   "metadata": {},
   "source": [
    "### Some Examples\n",
    "\n",
    "Ok, let's apply this to some examples using records in our oil library.\n",
    "\n",
    "First we will import some things from our oil library that we will need."
   ]
  },
  {
   "cell_type": "code",
   "execution_count": 2,
   "metadata": {
    "collapsed": false
   },
   "outputs": [],
   "source": [
    "from oil_library import get_oil, get_oil_props, _get_db_session\n",
    "from oil_library.models import (Base, ImportedRecord, Oil,\n",
    "                                Density, Toxicity, Category)\n",
    "from oil_library.oil_props import OilProps\n",
    "\n",
    "# The session object can be queried to get individual records using SQLAlchemy's quering mechanisms\n",
    "# http://www.sqlalchemy.org/\n",
    "\n",
    "session = _get_db_session()"
   ]
  },
  {
   "cell_type": "markdown",
   "metadata": {},
   "source": [
    "Now we can query for an oil that we are interested in."
   ]
  },
  {
   "cell_type": "markdown",
   "metadata": {},
   "source": [
    "#### Example 1:  Estimating Density "
   ]
  },
  {
   "cell_type": "markdown",
   "metadata": {},
   "source": [
    "For the first example we will use a reasonably heavy oil for which we have no measured density values. (i.e. only API)"
   ]
  },
  {
   "cell_type": "code",
   "execution_count": 3,
   "metadata": {
    "collapsed": false
   },
   "outputs": [
    {
     "name": "stdout",
     "output_type": "stream",
     "text": [
      "<Oil(\"BOSCAN, OIL & GAS\")>\n"
     ]
    }
   ],
   "source": [
    "oil_obj = (session.query(Oil)\n",
    "           .filter(Oil.name == 'BOSCAN, OIL & GAS')\n",
    "           .one())\n",
    "print oil_obj"
   ]
  },
  {
   "cell_type": "markdown",
   "metadata": {},
   "source": [
    "First, a little bit of background.  The records in the PyGnome oil library have been imported from a master copy of the NOAA oil library data, and the original values are stored in the 'imported' attribute of the oil object, so we can see the original imported data:"
   ]
  },
  {
   "cell_type": "code",
   "execution_count": 4,
   "metadata": {
    "collapsed": false
   },
   "outputs": [
    {
     "name": "stdout",
     "output_type": "stream",
     "text": [
      "[]\n",
      "10.1\n"
     ]
    }
   ],
   "source": [
    "print oil_obj.imported.densities\n",
    "print oil_obj.imported.api"
   ]
  },
  {
   "cell_type": "markdown",
   "metadata": {},
   "source": [
    "Here we can see that the original imported record contains no measured densities, but has a valid API value.<br>\n",
    "And as discussed above, the density at $ 15^\\circ C $ in $kg/m^3$ can be converted from the API as follows:"
   ]
  },
  {
   "cell_type": "code",
   "execution_count": 5,
   "metadata": {
    "collapsed": false
   },
   "outputs": [
    {
     "name": "stdout",
     "output_type": "stream",
     "text": [
      "999.293785311\n"
     ]
    }
   ],
   "source": [
    "density_at_15c = 141.5 / (131.5 + 10.1) * 1000\n",
    "print density_at_15c"
   ]
  },
  {
   "cell_type": "markdown",
   "metadata": {},
   "source": [
    "So for this oil, we give it a single density at $ 15^\\circ C $ since the imported record did not supply any."
   ]
  },
  {
   "cell_type": "code",
   "execution_count": 6,
   "metadata": {
    "collapsed": false
   },
   "outputs": [
    {
     "name": "stdout",
     "output_type": "stream",
     "text": [
      "[<Density(999.293785311 kg/m^3 at 288.15K)>]\n",
      "10.1\n"
     ]
    }
   ],
   "source": [
    "print oil_obj.densities\n",
    "print oil_obj.api"
   ]
  },
  {
   "cell_type": "markdown",
   "metadata": {},
   "source": [
    "At this point it is worth mentioning that internally, we use temperatures that are measured in Kelvin.<br>\n",
    "So $ 15^\\circ C $ converted into Kelvin would be:"
   ]
  },
  {
   "cell_type": "markdown",
   "metadata": {},
   "source": [
    "$$\n",
    "\\begin{align}\n",
    "273.15 + 15^\\circ C &= 288.15^\\circ K\n",
    "\\end{align}\n",
    "$$"
   ]
  },
  {
   "cell_type": "markdown",
   "metadata": {},
   "source": [
    "#### Example 2:  Estimating API\n",
    "\n",
    "Ok, now we will examine an oil that has no API, but does in fact have some measured densities."
   ]
  },
  {
   "cell_type": "code",
   "execution_count": 7,
   "metadata": {
    "collapsed": false
   },
   "outputs": [
    {
     "name": "stdout",
     "output_type": "stream",
     "text": [
      "<Oil(\"COOPER BASIN LIGHT NAPHTHA, SANTOS LTD\")>\n",
      "[<Density(660.0 kg/m^3 at 288.15K)>]\n",
      "None\n"
     ]
    }
   ],
   "source": [
    "oil_obj = (session.query(Oil)\n",
    "           .filter(Oil.name == 'COOPER BASIN LIGHT NAPHTHA, SANTOS LTD')\n",
    "           .one())\n",
    "print oil_obj\n",
    "print oil_obj.imported.densities\n",
    "print oil_obj.imported.api"
   ]
  },
  {
   "cell_type": "markdown",
   "metadata": {},
   "source": [
    "Here we can see that the original imported record contains a single measured density, but has no API value.<br>\n",
    "The API can be computed from the measured density.\n",
    "\n",
    "In this case, the measured density is a 288.15K, which is $ 15^\\circ C $, the standard tempuerature for API, so the conversion can be done directly.\n",
    "\n",
    "There are records in the oil library in which the densities are measured at temperatures quite far from the standard $ 15^\\circ C $ <br>\n",
    "\n",
    "In this case, the density at $ 15^\\circ C $ can be estimated from teh measured values using a standard expansion coefficient."
   ]
  },
  {
   "cell_type": "markdown",
   "metadata": {},
   "source": [
    "When interpolating a density value at a measured temperature to one at a desired temperature, we use the following formula(s):"
   ]
  },
  {
   "cell_type": "markdown",
   "metadata": {},
   "source": [
    "$$\n",
    "\\begin{align}\n",
    "k_{\\rho T} &= 0.008 K^{-1} \\cr\n",
    "T_{ref} &= \\text{our reference temperature} \\cr\n",
    "T_0 &= \\text{our desired temperature} \\cr\n",
    "\\rho_{ref} &= \\rho_0 \\cdot (1 - k_{\\rho T} \\cdot (T_{ref} - T_0)) \\cr\n",
    "&\\text{thus...} \\cr\n",
    "\\rho_0 &= {\\rho_{ref} \\over (1 - k_{\\rho T} \\cdot (T_{ref} - T_0))} \\cr\n",
    "\\end{align}\n",
    "$$"
   ]
  },
  {
   "cell_type": "markdown",
   "metadata": {},
   "source": [
    "Let's apply this method to our reference density."
   ]
  },
  {
   "cell_type": "code",
   "execution_count": 8,
   "metadata": {
    "collapsed": false
   },
   "outputs": [
    {
     "name": "stdout",
     "output_type": "stream",
     "text": [
      "659.208949261\n"
     ]
    }
   ],
   "source": [
    "density_at_temp = 660.0 / (1 - 0.008 * (288.0 - 288.15))\n",
    "print density_at_temp"
   ]
  },
  {
   "cell_type": "markdown",
   "metadata": {},
   "source": [
    "We now have the density at $ 15^\\circ C $, which we will use to estimate the API value.<br>\n",
    "And as it so happens, we have packaged this formula into a convenience function."
   ]
  },
  {
   "cell_type": "code",
   "execution_count": 9,
   "metadata": {
    "collapsed": false
   },
   "outputs": [
    {
     "name": "stdout",
     "output_type": "stream",
     "text": [
      "660.0 288.15\n",
      "660.0\n"
     ]
    }
   ],
   "source": [
    "from oil_library.utilities.estimations import density_at_temp\n",
    "rho = oil_obj.densities[0].kg_m_3\n",
    "ref_temp = oil_obj.densities[0].ref_temp_k\n",
    "print rho, ref_temp\n",
    "density_at_15 = density_at_temp(rho, ref_temp, 288.15)\n",
    "print density_at_15"
   ]
  },
  {
   "cell_type": "code",
   "execution_count": 10,
   "metadata": {
    "collapsed": false
   },
   "outputs": [
    {
     "name": "stdout",
     "output_type": "stream",
     "text": [
      "82.8939393939\n",
      "82.8939393939\n"
     ]
    }
   ],
   "source": [
    "api = (141.5 * 1000 / density_at_15) - 131.5\n",
    "print api\n",
    "\n",
    "# and the value in the processed record:\n",
    "print oil_obj.api"
   ]
  },
  {
   "cell_type": "markdown",
   "metadata": {},
   "source": [
    "...and as you can see, this is the API value that our oil object contains."
   ]
  },
  {
   "cell_type": "markdown",
   "metadata": {},
   "source": [
    "### Querying the database\n",
    "\n",
    "The datbase can be queried to find records of interest.\n",
    "\n",
    "a DB session was created above -- it can be accessed to find what is being looked for:"
   ]
  },
  {
   "cell_type": "code",
   "execution_count": 11,
   "metadata": {
    "collapsed": false
   },
   "outputs": [
    {
     "data": {
      "text/plain": [
       "[<Oil(\"ALASKA NORTH SLOPE, OIL & GAS\")>,\n",
       " <Oil(\"ALASKA NORTH SLOPE (MIDDLE PIPELINE)\")>,\n",
       " <Oil(\"ALASKA NORTH SLOPE (NORTHERN PIPELINE)\")>,\n",
       " <Oil(\"FUEL OIL NO.1 (JET B, ALASKA)\")>,\n",
       " <Oil(\"ALASKA NORTH SLOPE-PUMP STATION #9, BP\")>,\n",
       " <Oil(\"DIESEL FUEL OIL (ALASKA)\")>,\n",
       " <Oil(\"ALASKA NORTH SLOPE\")>,\n",
       " <Oil(\"ALASKA NORTH SLOPE (2002)\")>]"
      ]
     },
     "execution_count": 11,
     "metadata": {},
     "output_type": "execute_result"
    }
   ],
   "source": [
    "# all oils with \"alaska\" in the name\n",
    "session.query(Oil).filter(Oil.name.like(\"%alaska%\")).all()"
   ]
  },
  {
   "cell_type": "code",
   "execution_count": 12,
   "metadata": {
    "collapsed": false
   },
   "outputs": [],
   "source": [
    "# all the oils as an iterable object\n",
    "oils = session.query(Oil)"
   ]
  },
  {
   "cell_type": "markdown",
   "metadata": {},
   "source": [
    "In this case, there are only three."
   ]
  },
  {
   "cell_type": "code",
   "execution_count": 13,
   "metadata": {
    "collapsed": false
   },
   "outputs": [
    {
     "data": {
      "text/plain": [
       "[(u'ARABIAN HEAVY, AMOCO', None),\n",
       " (u'ARABIAN MEDIUM, AMOCO', None),\n",
       " (u'BCF 17, AMOCO', None),\n",
       " (u'BONNY MEDIUM, AMOCO', None),\n",
       " (u'BOSCAN, AMOCO', None),\n",
       " (u'BRENT SPAR', None),\n",
       " (u'CORMORANT', None),\n",
       " (u'DANMARK', None),\n",
       " (u'DUNLIN', None),\n",
       " (u'EMPIRE ISLAND, AMOCO', None),\n",
       " (u'ESCRAVOS, AMOCO', None),\n",
       " (u'FLOTTA', None),\n",
       " (u'FORCADOS, AMOCO', None),\n",
       " (u'FORKED ISLAND TERMINAL, AMOCO', None),\n",
       " (u'HIGH ISLAND, AMOCO', None),\n",
       " (u'KIRKUK', None),\n",
       " (u'KOLE MARINE, AMOCO', None),\n",
       " (u'LIUHUA, AMOCO', None),\n",
       " (u'MAYA, AMOCO', None),\n",
       " (u'NIGERIAN EXP. B1', None),\n",
       " (u'NIGERIAN LGT G', None),\n",
       " (u'NIGERIAN LGT M', None),\n",
       " (u'NIGERIAN LIGHT', None),\n",
       " (u'NIGERIAN MEDIUM', None),\n",
       " (u'OGUENDJO, AMOCO', None),\n",
       " (u'OMAN', None),\n",
       " (u'PECAN ISLAND, AMOCO', None),\n",
       " (u'SANTA MARIA', None),\n",
       " (u'SCHOONEBEEK', None),\n",
       " (u'SIRTICA', None),\n",
       " (u'SOYO', None),\n",
       " (u'TIA JUANA PESADO', None),\n",
       " (u'URAL', None),\n",
       " (u'WEST NEDERLAND', None),\n",
       " (u'YOMBO, AMOCO', None),\n",
       " (u'ZAKUM', None),\n",
       " (u'ROSSIIELF, RUSSIAN JOINT STOCK CO', None),\n",
       " (u'JET A-1,  MARITIME SAFETY AUTHORITY OF NEW ZEALAND', None),\n",
       " (u'DUAL PURPOSE KEROSINE,  MARITIME SAFETY AUTHORITY OF NEW ZEALAND', None),\n",
       " (u'BRENT, SUN', None),\n",
       " (u'MOTOR GASOLINE-PREMIUM UNLEADED, SHELL REFINING PTY', None),\n",
       " (u'MOTOR GASOLINE-UNLEADED, SHELL REFINING PTY', None),\n",
       " (u'MOTOR GASOLINE-LEADED, SHELL REFINING PTY', None),\n",
       " (u'AUTOMOTIVE DIESEL FUEL, SHELL REFINING PTY', None),\n",
       " (u'AVIATION TURBINE FUEL, SHELL REFINING PTY', None),\n",
       " (u'MINERAL TURPS, SHELL REFINING PTY', None),\n",
       " (u'WHITE SPIRIT, SHELL REFINING PTY', None),\n",
       " (u'COOPER BASIN, SANTOS LTD', None),\n",
       " (u'COOPER BASIN LIGHT NAPHTHA, SANTOS LTD', None),\n",
       " (u'COOPER BASIN FULL RANGE NAPHTHA, SANTOS LTD', None),\n",
       " (u'COOPER BASIN HEAVY NAPHTHA, SANTOS LTD', None),\n",
       " (u'ALASKA NORTH SLOPE-PUMP STATION #9, BP', None),\n",
       " (u'CHERVIL, NOVUS WA PTY LTD', None),\n",
       " (u'CRACKER FEED, MOBIL OIL AUSTRALIA', None),\n",
       " (u'COLD LAKE, OIL & GAS', None),\n",
       " (u'ARGYLL, OIL & GAS', None),\n",
       " (u'CANOLA OIL', None),\n",
       " (u'CRACKER FEED, AMSA', None),\n",
       " (u'LOW SULPHUR WAXY RESIDUE, AMSA', None),\n",
       " (u'BIODIESEL', None),\n",
       " (u'LUCKENBACH FUEL OIL', None),\n",
       " (u'LISBURNE', None),\n",
       " (u'FUEL OIL No.1', None),\n",
       " (u'GASOLINE', None),\n",
       " (u'IFO 180', None),\n",
       " (u'SPRAY OIL', None),\n",
       " (u'CANOLA OIL (REFERENCE)', None)]"
      ]
     },
     "execution_count": 13,
     "metadata": {},
     "output_type": "execute_result"
    }
   ],
   "source": [
    "# find the oils with no api in the original record -- quite a few.\n",
    "[(o.name, o.imported.api) for o in oils if o.imported.api is None]"
   ]
  },
  {
   "cell_type": "code",
   "execution_count": 14,
   "metadata": {
    "collapsed": false
   },
   "outputs": [
    {
     "data": {
      "text/plain": [
       "[(27.84684684684686, [<Density(888.0 kg/m^3 at 288.15K)>]),\n",
       " (30.214285714285722, [<Density(875.0 kg/m^3 at 288.15K)>]),\n",
       " (18.196828752642716, [<Density(946.0 kg/m^3 at 287.15K)>]),\n",
       " (27.667604049493804, [<Density(889.0 kg/m^3 at 288.15K)>]),\n",
       " (12.911522633744852, [<Density(972.0 kg/m^3 at 298.15K)>]),\n",
       " (37.48561151079136, [<Density(834.0 kg/m^3 at 293.15K)>]),\n",
       " (34.30470588235295, [<Density(850.0 kg/m^3 at 293.15K)>]),\n",
       " (29.200114025085526, [<Density(877.0 kg/m^3 at 293.15K)>]),\n",
       " (34.30470588235295, [<Density(850.0 kg/m^3 at 293.15K)>]),\n",
       " (33.418414918414925, [<Density(858.0 kg/m^3 at 288.15K)>]),\n",
       " (36.810526315789474, [<Density(836.0 kg/m^3 at 295.15K)>]),\n",
       " (34.89197166469893, [<Density(847.0 kg/m^3 at 293.15K)>]),\n",
       " (29.771232876712332, [<Density(876.0 kg/m^3 at 290.15K)>]),\n",
       " (42.97595561035757, [<Density(811.0 kg/m^3 at 288.15K)>]),\n",
       " (38.30000000000001, [<Density(836.0 kg/m^3 at 284.15K)>]),\n",
       " (35.48341232227489, [<Density(844.0 kg/m^3 at 293.15K)>]),\n",
       " (33.22642607683352, [<Density(859.0 kg/m^3 at 288.15K)>]),\n",
       " (18.432979851537652, [<Density(943.0 kg/m^3 at 289.15K)>]),\n",
       " (21.11675734494014, [<Density(919.0 kg/m^3 at 299.15K)>]),\n",
       " (28.65227272727273, [<Density(880.0 kg/m^3 at 293.15K)>]),\n",
       " (35.68149466192173, [<Density(843.0 kg/m^3 at 293.15K)>]),\n",
       " (33.33508771929826, [<Density(855.0 kg/m^3 at 293.15K)>]),\n",
       " (37.081339712918634, [<Density(836.0 kg/m^3 at 293.15K)>]),\n",
       " (24.919533851276356, [<Density(901.0 kg/m^3 at 293.15K)>]),\n",
       " (35.757683215130015, [<Density(846.0 kg/m^3 at 288.15K)>]),\n",
       " (33.915492957746494, [<Density(852.0 kg/m^3 at 293.15K)>]),\n",
       " (48.499492385786766, [<Density(788.0 kg/m^3 at 285.15K)>]),\n",
       " (22.022875816993462, [<Density(918.0 kg/m^3 at 293.15K)>]),\n",
       " (24.57308970099669, [<Density(903.0 kg/m^3 at 293.15K)>]),\n",
       " (41.425153374233105, [<Density(815.0 kg/m^3 at 293.15K)>]),\n",
       " (32.56752037252619, [<Density(859.0 kg/m^3 at 293.15K)>]),\n",
       " (11.290273556231, [<Density(987.0 kg/m^3 at 293.15K)>]),\n",
       " (31.996519721577727, [<Density(862.0 kg/m^3 at 293.15K)>]),\n",
       " (20.041935483870958, [<Density(930.0 kg/m^3 at 293.15K)>]),\n",
       " (17.707234042553182, [<Density(940.0 kg/m^3 at 299.15K)>]),\n",
       " (38.71014492753622, [<Density(828.0 kg/m^3 at 293.15K)>]),\n",
       " (23.551501205347364, [<Density(912.6 kg/m^3 at 288.15K)>]),\n",
       " (45.308696738723, [<Density(800.3 kg/m^3 at 288.15K)>]),\n",
       " (44.86794216627197, [<Density(802.3 kg/m^3 at 288.15K)>]),\n",
       " (38.286417086633094, [<Density(833.4 kg/m^3 at 288.15K)>]),\n",
       " (59.04672771343925, [<Density(742.6 kg/m^3 at 288.15K)>]),\n",
       " (64.18524408795463, [<Density(723.1 kg/m^3 at 288.15K)>]),\n",
       " (61.80601092896174, [<Density(732.0 kg/m^3 at 288.15K)>]),\n",
       " (34.892285983066785, [<Density(850.4 kg/m^3 at 288.15K)>]),\n",
       " (47.27447883765001, [<Density(791.5 kg/m^3 at 288.15K)>]),\n",
       " (42.67528311176761, [<Density(812.4 kg/m^3 at 288.15K)>]),\n",
       " (49.19212105733624, [<Density(783.1 kg/m^3 at 288.15K)>]),\n",
       " (45.375, [<Density(800.0 kg/m^3 at 288.15K)>]),\n",
       " (82.89393939393938, [<Density(660.0 kg/m^3 at 288.15K)>]),\n",
       " (65.02777777777777, [<Density(720.0 kg/m^3 at 288.15K)>]),\n",
       " (59.716216216216196, [<Density(740.0 kg/m^3 at 288.15K)>]),\n",
       " (30.214285714285722,\n",
       "  [<Density(888.0 kg/m^3 at 274.15K)>, <Density(875.0 kg/m^3 at 288.15K)>]),\n",
       " (43.19135802469134, [<Density(810.0 kg/m^3 at 288.15K)>]),\n",
       " (24.57765276858592, [<Density(906.6 kg/m^3 at 288.15K)>]),\n",
       " (25.18253792492527, [<Density(903.1 kg/m^3 at 288.15K)>]),\n",
       " (37.98137501497186, [<Density(834.9 kg/m^3 at 288.15K)>]),\n",
       " (22.711803278688535, [<Density(915.0 kg/m^3 at 291.65K)>]),\n",
       " (24.57765276858592, [<Density(906.6 kg/m^3 at 288.15K)>]),\n",
       " (21.274778665515015, [<Density(926.2 kg/m^3 at 288.15K)>]),\n",
       " (28.206546275395056, [<Density(886.0 kg/m^3 at 288.15K)>]),\n",
       " (12.887755102040813, [<Density(980.0 kg/m^3 at 288.15K)>]),\n",
       " (30.214285714285722, [<Density(875.0 kg/m^3 at 288.15K)>]),\n",
       " (45.39622499999999, [<Density(800.0 kg/m^3 at 288.0K)>]),\n",
       " (57.18930666666668, [<Density(750.0 kg/m^3 at 288.0K)>]),\n",
       " (12.905081632653065, [<Density(980.0 kg/m^3 at 288.0K)>]),\n",
       " (41.29240537240534, [<Density(819.0 kg/m^3 at 288.0K)>]),\n",
       " (22.15578718783928,\n",
       "  [<Density(930.0 kg/m^3 at 273.0K)>,\n",
       "   <Density(921.0 kg/m^3 at 288.0K)>,\n",
       "   <Density(914.0 kg/m^3 at 298.0K)>])]"
      ]
     },
     "execution_count": 14,
     "metadata": {},
     "output_type": "execute_result"
    }
   ],
   "source": [
    "# find the oils with no api in the original record\n",
    "# but get their measured densities \n",
    "# the api has been computed from the measured density\n",
    "[(o.api, o.densities) for o in oils if o.imported.api is None]"
   ]
  },
  {
   "cell_type": "markdown",
   "metadata": {},
   "source": [
    "Many are at 288.15K (15C), the standard temp for API, but not all are."
   ]
  },
  {
   "cell_type": "markdown",
   "metadata": {},
   "source": [
    "For one that is not, the API was computed from the measured density using the:\n",
    "\n",
    "`oil_library.utilities.estimations.density_at_temp()`\n",
    "\n",
    "function -- which is a linear interpolation based on a \"representative\" coefficient of thermal expansion.\n",
    "\n",
    "NOTE: we need a reference for that value (it is currently 0.0008 1/C"
   ]
  },
  {
   "cell_type": "markdown",
   "metadata": {},
   "source": [
    "## Comparing approximation to measured values\n",
    "\n",
    "## Interpolation:\n",
    "\n",
    "When there are multiple measured values, the value at a given temp is computed by interpolation\n",
    "\n"
   ]
  },
  {
   "cell_type": "code",
   "execution_count": 15,
   "metadata": {
    "collapsed": false
   },
   "outputs": [
    {
     "data": {
      "text/plain": [
       "[u'BUNKER C FUEL OIL', u'SOYBEAN OIL', u'CANOLA OIL (REFERENCE)']"
      ]
     },
     "execution_count": 15,
     "metadata": {},
     "output_type": "execute_result"
    }
   ],
   "source": [
    "# iterate through all oils to find the ones with 3 density values\n",
    "[o.name for o in oils if len(o.densities) == 3]"
   ]
  },
  {
   "cell_type": "code",
   "execution_count": 16,
   "metadata": {
    "collapsed": false
   },
   "outputs": [
    {
     "name": "stdout",
     "output_type": "stream",
     "text": [
      "<Oil(\"BUNKER C FUEL OIL\")>\n",
      "[<Density(980.0 kg/m^3 at 273.0K)>, <Density(976.0 kg/m^3 at 278.0K)>, <Density(969.0 kg/m^3 at 288.0K)>]\n",
      "14.1\n",
      "14.1\n"
     ]
    }
   ],
   "source": [
    "# Picking one of those:\n",
    "oil = (session.query(Oil).filter(Oil.name == 'BUNKER C FUEL OIL').one())\n",
    "print oil\n",
    "print oil.densities\n",
    "print oil.imported.api\n",
    "print oil.api\n",
    "\n",
    "    "
   ]
  },
  {
   "cell_type": "markdown",
   "metadata": {},
   "source": [
    "Note that the api was in the original data, but that it doesn't quite match the density at 288K:"
   ]
  },
  {
   "cell_type": "code",
   "execution_count": 17,
   "metadata": {
    "collapsed": false
   },
   "outputs": [
    {
     "name": "stdout",
     "output_type": "stream",
     "text": [
      "14.5268317853\n",
      "(971.8406593406594, 288.15)\n",
      "14.1\n"
     ]
    }
   ],
   "source": [
    "from oil_library.utilities.estimations import api_from_density, density_from_api\n",
    "print api_from_density(969)\n",
    "print density_from_api(14.1)\n",
    "print api_from_density(density_from_api(14.1)[0])\n"
   ]
  },
  {
   "cell_type": "code",
   "execution_count": 18,
   "metadata": {
    "collapsed": false
   },
   "outputs": [
    {
     "data": {
      "text/plain": [
       "1.0029308565531476"
      ]
     },
     "execution_count": 18,
     "metadata": {},
     "output_type": "execute_result"
    }
   ],
   "source": [
    "971.84 / 969.0"
   ]
  },
  {
   "cell_type": "markdown",
   "metadata": {},
   "source": [
    "It's only 0.2 percent different but more than floating point error and will show up if we show more than 2 significant figures -- but maybe should be normalized on import?\n",
    "\n",
    "As it is, when the density is queried at 288.15, it ends up slighlty different than the measured value:"
   ]
  },
  {
   "cell_type": "code",
   "execution_count": 19,
   "metadata": {
    "collapsed": false
   },
   "outputs": [
    {
     "data": {
      "text/plain": [
       "968.8837339519258"
      ]
     },
     "execution_count": 19,
     "metadata": {},
     "output_type": "execute_result"
    }
   ],
   "source": [
    "density_at_temp(969.0, 288.0, 288.15)"
   ]
  },
  {
   "cell_type": "markdown",
   "metadata": {},
   "source": [
    "So the calculated density will be different than the density converted directly from the api:"
   ]
  },
  {
   "cell_type": "code",
   "execution_count": 20,
   "metadata": {
    "collapsed": false
   },
   "outputs": [
    {
     "name": "stdout",
     "output_type": "stream",
     "text": [
      "(971.8406593406594, 288.15)\n"
     ]
    }
   ],
   "source": [
    "print density_from_api(14.1)"
   ]
  },
  {
   "cell_type": "markdown",
   "metadata": {},
   "source": [
    "**NOTE:** This really should get normalized in the database."
   ]
  },
  {
   "cell_type": "markdown",
   "metadata": {},
   "source": [
    "### interpolation for multiple measured densities\n",
    "\n",
    "Using an example oil with multiple values (there are not many of them):\n",
    "\n",
    "\"BUNKER C FUEL OIL\"\n",
    "\n",
    "for a range of environmentally relevant tmeperatures 0C -- 30C (273.15, 303.16)\n",
    "\n"
   ]
  },
  {
   "cell_type": "code",
   "execution_count": 21,
   "metadata": {
    "collapsed": false
   },
   "outputs": [
    {
     "data": {
      "text/plain": [
       "[<Density(980.0 kg/m^3 at 273.0K)>,\n",
       " <Density(976.0 kg/m^3 at 278.0K)>,\n",
       " <Density(969.0 kg/m^3 at 288.0K)>]"
      ]
     },
     "execution_count": 21,
     "metadata": {},
     "output_type": "execute_result"
    }
   ],
   "source": [
    "import oil_library\n",
    "temps = np.linspace(273, 300)\n",
    "oil = oil_library.get_oil(\"BUNKER C FUEL OIL\")\n",
    "# it's got three densities\n",
    "oil.densities"
   ]
  },
  {
   "cell_type": "code",
   "execution_count": 22,
   "metadata": {
    "collapsed": false
   },
   "outputs": [],
   "source": [
    "# the measured values\n",
    "densities = oil.densities\n",
    "ref_t = [d.ref_temp_k for d in densities]\n",
    "ref_d = [d.kg_m_3 for d in densities]\n",
    "\n",
    "# the estimated values\n",
    "# we want a oil_props object for this\n",
    "oil_props = oil_library.get_oil_props(\"BUNKER C FUEL OIL\")\n",
    "densities = [oil_props.density_at_temp(t) for t in temps]\n"
   ]
  },
  {
   "cell_type": "code",
   "execution_count": 23,
   "metadata": {
    "collapsed": false
   },
   "outputs": [
    {
     "data": {
      "text/plain": [
       "<matplotlib.text.Text at 0x114116890>"
      ]
     },
     "execution_count": 23,
     "metadata": {},
     "output_type": "execute_result"
    },
    {
     "data": {
      "image/png": "[encoded data removed]",
      "text/plain": [
       "<matplotlib.figure.Figure at 0x113f95dd0>"
      ]
     },
     "metadata": {},
     "output_type": "display_data"
    }
   ],
   "source": [
    "fig, ax = plt.subplots()\n",
    "ax.plot(ref_t, ref_d, 'o')\n",
    "ax.plot(temps, densities, '-')\n",
    "ax.set_xlabel('temp (K)')\n",
    "ax.set_ylabel('density ($kg/m^3$)')"
   ]
  },
  {
   "cell_type": "markdown",
   "metadata": {},
   "source": [
    "**NOTE:** The slope looks pretty good, but there is a kink between the second and third points. I think that's because the code finds the nearest value, and then extrapolates using teh standard expansion coeff -- rather than interpolation between these values."
   ]
  },
  {
   "cell_type": "markdown",
   "metadata": {},
   "source": [
    "## trying the slope against oils with two density values."
   ]
  },
  {
   "cell_type": "code",
   "execution_count": 24,
   "metadata": {
    "collapsed": false
   },
   "outputs": [
    {
     "name": "stdout",
     "output_type": "stream",
     "text": [
      "[0.0006249999999999981, 0.000357142857142856, 0.0007200000000000021, 0.0007266666666666606, 0.0007399999999999999, 0.0009285714285714294, 0.0006666666666666673, 0.000733333333333334, 0.0006000000000000005, 0.0008666666666666674]\n",
      "mean: 0.000696404761905\n",
      "standard deviation: 0.000147649169354\n",
      "minimum: 0.000357142857143\n",
      "maximum: 0.000928571428571\n",
      "number of samples: 10\n"
     ]
    }
   ],
   "source": [
    "# all the oils with two density values:\n",
    "oils = [o for o in oils if len(o.densities) == 2]\n",
    "\n",
    "# get all their densities with temps\n",
    "oils[0].densities\n",
    "\n",
    "def compute_exp_coeff(oil):\n",
    "    \"\"\"\n",
    "    compute the exansion coeff for two known densities\n",
    "    \"\"\"\n",
    "    d1 = oil.densities[0].kg_m_3\n",
    "    t1 = oil.densities[0].ref_temp_k\n",
    "    d2 = oil.densities[1].kg_m_3\n",
    "    t2 = oil.densities[1].ref_temp_k\n",
    "\n",
    "    # 1000 to convert to SG (close enough, anyway)\n",
    "    exp_coeff = - (d2/1000 - d1/1000) / (t2-t1)\n",
    "    return exp_coeff\n",
    "\n",
    "coeffs = [compute_exp_coeff(oil) for oil in oils]\n",
    "print coeffs\n",
    "print \"mean:\", np.average(coeffs)\n",
    "print \"standard deviation:\", np.std(coeffs)\n",
    "print \"minimum:\", np.min(coeffs)\n",
    "print \"maximum:\", np.max(coeffs)\n",
    "print \"number of samples:\", len(coeffs)"
   ]
  },
  {
   "cell_type": "markdown",
   "metadata": {},
   "source": [
    "#### These are more or less in the same ballpark with one outlier - let's look at that one:"
   ]
  },
  {
   "cell_type": "code",
   "execution_count": 25,
   "metadata": {
    "collapsed": false
   },
   "outputs": [
    {
     "name": "stdout",
     "output_type": "stream",
     "text": [
      "POUI, AMOCO\n",
      "api: 32.5\n",
      "<Density(863.0 kg/m^3 at 288.65K)>\n",
      "<Density(859.0 kg/m^3 at 299.85K)>\n",
      "quality index: 0.696428571429\n"
     ]
    }
   ],
   "source": [
    "\n",
    "minimum = oils[1]\n",
    "print minimum.name\n",
    "print \"api:\", minimum.api\n",
    "# meaasured densities\n",
    "for d in minimum.densities:\n",
    "    print d\n",
    "print \"quality index:\", minimum.quality_index"
   ]
  },
  {
   "cell_type": "markdown",
   "metadata": {},
   "source": [
    "Nothing looks off here -- odd."
   ]
  },
  {
   "cell_type": "code",
   "execution_count": null,
   "metadata": {
    "collapsed": false
   },
   "outputs": [],
   "source": [
    "\n"
   ]
  }
 ],
 "metadata": {
  "kernelspec": {
   "display_name": "Python 2",
   "language": "python",
   "name": "python2"
  },
  "language_info": {
   "codemirror_mode": {
    "name": "ipython",
    "version": 2
   },
   "file_extension": ".py",
   "mimetype": "text/x-python",
   "name": "python",
   "nbconvert_exporter": "python",
   "pygments_lexer": "ipython2",
   "version": "2.7.12"
  }
 },
 "nbformat": 4,
 "nbformat_minor": 0
}
