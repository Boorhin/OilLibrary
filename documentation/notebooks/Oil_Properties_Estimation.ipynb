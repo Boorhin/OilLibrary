{
 "cells": [
  {
   "cell_type": "markdown",
   "metadata": {},
   "source": [
    "# <center>Oil Properties Estimation</center>"
   ]
  },
  {
   "cell_type": "markdown",
   "metadata": {},
   "source": [
    "### <center>Sept 2014<br>Author: Bill Lehr<br>Edited By: James L. Makela</center>"
   ]
  },
  {
   "cell_type": "markdown",
   "metadata": {},
   "source": [
    "## <u>Minimum Requirements</u>"
   ]
  },
  {
   "cell_type": "markdown",
   "metadata": {},
   "source": [
    "Adios 3 requires certain minimum amounts of data for any oil to be included in the library"
   ]
  },
  {
   "cell_type": "markdown",
   "metadata": {},
   "source": [
    "Crude Oil:\n",
    "<ul>\n",
    "<li>API and/or density at a reference temperature</li>\n",
    "<li>Viscosity (either kinematic or dynamic) at a reference temperature</li>\n",
    "</ul>"
   ]
  },
  {
   "cell_type": "markdown",
   "metadata": {},
   "source": [
    "Refined Product or 'Other' oil:\n",
    "<ul>\n",
    "<li>API and/or density at a reference temperature</li>\n",
    "<li>Viscosity (either kinematic or dynamic) at a reference temperature</li>\n",
    "<li>At least three distillation cuts giving mass or volume fraction at boiling(bubble) point</li>\n",
    "</ul>"
   ]
  },
  {
   "cell_type": "markdown",
   "metadata": {},
   "source": [
    "Unlike Adios 2, Adios 3 stores both structural and distillation fractional components <b><u>(see figure 1)</u></b>.\n",
    "Certain properties are valid for the whole oil while others may be defined for each structural fraction and still others vary for both the distillation and chemical structural fraction."
   ]
  },
  {
   "cell_type": "markdown",
   "metadata": {},
   "source": [
    "The SQL oil database needs a complete set of oil data.  If measured data exists, it takes priority over estimated values.  Many of the more complex estimation formulas are based upon Adios 2 calculations and/or the following reference:"
   ]
  },
  {
   "cell_type": "markdown",
   "metadata": {},
   "source": [
    "<b><i>Characterization and Properties of Petroleum Fractions</b></i><br>\n",
    "<b>Author:</b> Dr. M. R. Riazi, Professor of Chemical Engineering, Kuwait University<br>\n",
    "<b>Published:</b> 2005<br>\n",
    "<b>Publisher:</b> American Society for Testing and Materials (ASTM), International<br>\n",
    "<b>Stock No.:</b> MNL50<br>"
   ]
  },
  {
   "cell_type": "markdown",
   "metadata": {},
   "source": [
    "This will be abbreviated further in this document as CPPF."
   ]
  },
  {
   "cell_type": "markdown",
   "metadata": {},
   "source": [
    "## <u>Setting Up for our Estimations</u>"
   ]
  },
  {
   "cell_type": "markdown",
   "metadata": {},
   "source": [
    "This is just a bit of setup so that we may verify our estimations with code snippets."
   ]
  },
  {
   "cell_type": "code",
   "execution_count": 1,
   "metadata": {
    "collapsed": false
   },
   "outputs": [
    {
     "name": "stdout",
     "output_type": "stream",
     "text": [
      "Populating the interactive namespace from numpy and matplotlib\n",
      "<ImportedRecord('ALASKA NORTH SLOPE (MIDDLE PIPELINE)')>\n",
      "<ImportedRecord('ALASKA NORTH SLOPE (2002)')>\n",
      "<ImportedRecord('BAHIA')>\n",
      "<ImportedRecord('ARABIAN MEDIUM, AMOCO')>\n",
      "<ImportedRecord('CANOLA OIL (REFERENCE)')>\n"
     ]
    }
   ],
   "source": [
    "%pylab inline\n",
    "import numpy as np\n",
    "from scipy.optimize import curve_fit\n",
    "\n",
    "import oil_library\n",
    "from oil_library.models import Oil, ImportedRecord, KVis\n",
    "\n",
    "session = oil_library._get_db_session()\n",
    "\n",
    "# these are some reasonable samples of oil records in the oil library\n",
    "ans_mp = session.query(ImportedRecord).filter(ImportedRecord.oil_name == 'ALASKA NORTH SLOPE (MIDDLE PIPELINE)').one()\n",
    "ans_2002 = session.query(ImportedRecord).filter(ImportedRecord.oil_name == 'ALASKA NORTH SLOPE (2002)').one()\n",
    "bahia = session.query(ImportedRecord).filter(ImportedRecord.oil_name == 'BAHIA').one()\n",
    "arabian = session.query(ImportedRecord).filter(ImportedRecord.oil_name == 'ARABIAN MEDIUM, AMOCO').one()\n",
    "\n",
    "# These samples are problematic in some way or another\n",
    "canola = session.query(ImportedRecord).filter(ImportedRecord.oil_name == 'CANOLA OIL (REFERENCE)').one()\n",
    "abu_safah = session.query(ImportedRecord).filter(ImportedRecord.oil_name == 'ABU SAFAH').one()\n",
    "sajaa = session.query(ImportedRecord).filter(ImportedRecord.oil_name == 'SAJAA CONDENSATE, BP').one()\n",
    "bontang = session.query(ImportedRecord).filter(ImportedRecord.oil_name == 'BONTANG MIX, BP').one()\n",
    "geisum = session.query(ImportedRecord).filter(ImportedRecord.oil_name == 'NORTH GEISUM, GEISUM OIL').one()\n",
    "cl_bitumen = session.query(ImportedRecord).filter(ImportedRecord.oil_name == 'COLD LAKE BITUMEN').one()\n",
    "bonny_light = session.query(ImportedRecord).filter(ImportedRecord.oil_name == 'BONNY LIGHT').one()\n",
    "petro_star = session.query(ImportedRecord).filter(ImportedRecord.oil_name ==\n",
    "                                                  'FUEL OIL NO.1 (DIESEL/HEATING FUEL), PETRO STAR').one()\n",
    "\n",
    "print ans_mp\n",
    "print ans_2002\n",
    "print bahia\n",
    "print arabian\n",
    "print canola\n"
   ]
  },
  {
   "cell_type": "markdown",
   "metadata": {},
   "source": [
    "## <u>Procedural Order of Oil Estimation</u>"
   ]
  },
  {
   "cell_type": "markdown",
   "metadata": {},
   "source": [
    "Our estimations of properties for an input oil record are based on a set of minimal data requirements.\n",
    "We necessarily build upon this minimal set in an ordered fashion because some calculations are needed to provide input to later calculations.\n",
    "\n",
    "If we could describe the general flow of calculations it might be something like this.\n",
    "\n",
    "- Foundational Aggregate Oil Properties\n",
    "- Oil Distillation Fractional Properties\n",
    "- Oil SARA Component Properties\n",
    "- Oil Miscellaneous Properties"
   ]
  },
  {
   "cell_type": "markdown",
   "metadata": {},
   "source": [
    "## <u>Foundational Aggregate Oil Properties</u>"
   ]
  },
  {
   "cell_type": "markdown",
   "metadata": {},
   "source": [
    "These are the baseline oil property estimations which take the properties supplied by the input oil record and produce the minimum set of whole oil properties necessary to estimate the more complex properties, such as the distillation fractions and SARA component properties.  These are:\n",
    "\n",
    "- Density\n",
    "- API\n",
    "- Viscosity"
   ]
  },
  {
   "cell_type": "markdown",
   "metadata": {},
   "source": [
    "### 1. Density:"
   ]
  },
  {
   "cell_type": "markdown",
   "metadata": {},
   "source": [
    "(A) If no density value exists, estimate it from the oil's API using the following equation:"
   ]
  },
  {
   "cell_type": "markdown",
   "metadata": {},
   "source": [
    "$$\n",
    "\\begin{align}\n",
    "\\rho0_{oil} &= \\text{density of the oil at a } T_{ref} \\text{of } 288.15^\\circ K \\,\\, (kg/m^3) \\cr\n",
    "&= {141.5 \\over 131.5 + API} \\cdot 1000 \\qquad \\qquad \\qquad \\qquad \\qquad \\qquad \\boldsymbol{(eq. 1)} \\cr\n",
    "\\end{align}\n",
    "$$"
   ]
  },
  {
   "cell_type": "markdown",
   "metadata": {},
   "source": [
    "(B) If a density measurement $\\rho_0$ at some temperature $T_0$ exists, but no API, then (eq. 1) can be inverted to give an API."
   ]
  },
  {
   "cell_type": "markdown",
   "metadata": {},
   "source": [
    "$$\n",
    "\\begin{align}\n",
    "API &= \\left( {141.5 \\over \\rho0_{oil}} \\cdot 1000 \\right) - 131.5 \n",
    "\\qquad \\qquad \\qquad \\qquad \\qquad \\boldsymbol{(eq. 2)} \\cr\n",
    "\\end{align}\n",
    "$$"
   ]
  },
  {
   "cell_type": "markdown",
   "metadata": {},
   "source": [
    "But this can only be done after the density value has been adjusted to be a density at $T_{ref} = 288.15^\\circ K (15^\\circ C)$.  The density conversion formula for different temperatures is:"
   ]
  },
  {
   "cell_type": "markdown",
   "metadata": {},
   "source": [
    "$$\n",
    "\\begin{align}\n",
    "\\rho_0 &= \\text{measured density} \\cr\n",
    "T_0 &= \\text{temperature at which density is measured} \\cr\n",
    "k_{\\rho T} &= 0.008 K^{-1} \\cr\n",
    "\\cr\n",
    "\\rho_{ref} &= \\rho_0 \\cdot (1 - k_{\\rho T} \\cdot (T_{ref} - T_0 ))\n",
    "\\qquad \\qquad \\qquad \\qquad \\qquad \\boldsymbol{(eq. 3)} \\cr\n",
    "\\end{align}\n",
    "$$"
   ]
  },
  {
   "cell_type": "markdown",
   "metadata": {},
   "source": [
    "<i>(Referenced Source: Adios2)</i>"
   ]
  },
  {
   "cell_type": "code",
   "execution_count": 2,
   "metadata": {
    "collapsed": false
   },
   "outputs": [
    {
     "name": "stdout",
     "output_type": "stream",
     "text": [
      "oil =  ALASKA NORTH SLOPE (MIDDLE PIPELINE)\n",
      "oil.api =  29.9\n",
      "oil.densities =  [<Density(886.9 kg/m^3 at 273.15K)>, <Density(876.1 kg/m^3 at 288.15K)>]\n",
      "density(api) =  (876.7038413878562, 288.15)\n",
      "API(density) =  30.0112430088\n",
      "density at 288.15K =  (876.1, 288.15)\n",
      "\n"
     ]
    }
   ],
   "source": [
    "def lowest_temperature(obj_list):\n",
    "    '''\n",
    "        General utility function.\n",
    "\n",
    "        From a list of objects containing a ref_temp_k attribute,\n",
    "        return the object that has the lowest temperature\n",
    "    '''\n",
    "    if len(obj_list) > 0:\n",
    "        return sorted(obj_list, key=lambda d: d.ref_temp_k)[0]\n",
    "    else:\n",
    "        return None\n",
    "\n",
    "def closest_to_temperature(obj_list, temperature):\n",
    "    '''\n",
    "        General Utility Function\n",
    "\n",
    "        From a list of objects containing a ref_temp_k attribute,\n",
    "        return the object that is closest to the specified temperature\n",
    "    '''\n",
    "    temp_diffs = [(obj, abs(obj.ref_temp_k - temperature))\n",
    "                  for obj in obj_list\n",
    "                  if obj.ref_temp_k is not None]\n",
    "    if len(temp_diffs) > 0:\n",
    "        return sorted(temp_diffs, key=lambda d: d[1])[0][0]\n",
    "    else:\n",
    "        return None\n",
    "\n",
    "def estimate_density_from_api(api):\n",
    "    kg_m_3 = 141.5 / (131.5 + api) * 1000.0\n",
    "    ref_temp_k = 273.15 + 15.0\n",
    "\n",
    "    return kg_m_3, ref_temp_k\n",
    "\n",
    "def estimate_api_from_density(density):\n",
    "    return (141.5 / density * 1000.0) - 131.5\n",
    "    \n",
    "def estimate_density_at_temp(ref_density, ref_temp_k,\n",
    "                             temperature):\n",
    "    k_pt = 0.008\n",
    "    return ref_density / (1 - k_pt * (ref_temp_k - temperature))\n",
    "\n",
    "def oil_density_at_temp(imported_rec, temperature, weathering=0.0):\n",
    "    density_list = [d for d in imported_rec.densities\n",
    "                    if (d.kg_m_3 is not None and\n",
    "                        d.ref_temp_k is not None and\n",
    "                        d.weathering == weathering)]\n",
    "    closest_density = closest_to_temperature(density_list, temperature)\n",
    "    \n",
    "    if closest_density is not None:\n",
    "        d_ref, t_ref = (closest_density.kg_m_3,\n",
    "                        closest_density.ref_temp_k)\n",
    "    elif imported_rec.api is not None:\n",
    "        d_ref, t_ref = estimate_density_from_api(imported_rec.api)\n",
    "    else:\n",
    "        return None\n",
    "\n",
    "    return estimate_density_at_temp(d_ref, t_ref, temperature)\n",
    "\n",
    "#for obj in (ans_mp, ans_2002, bahia, arabian, canola):\n",
    "for obj in (ans_mp,):\n",
    "    print 'oil = ', obj.oil_name\n",
    "    print 'oil.api = ', obj.api\n",
    "    print 'oil.densities = ', obj.densities\n",
    "\n",
    "    if obj.api is not None:\n",
    "        print 'density(api) = ', estimate_density_from_api(obj.api)\n",
    "    else:\n",
    "        print 'density(api) = N/A'\n",
    "\n",
    "    if len(obj.densities) > 0:\n",
    "        print 'API(density) = ', estimate_api_from_density(oil_density_at_temp(obj, 288.15))\n",
    "    else:\n",
    "        print 'API(density) = N/A'\n",
    "\n",
    "    print 'density at 288.15K = ', (oil_density_at_temp(obj, 288.15), 288.15)\n",
    "    print"
   ]
  },
  {
   "cell_type": "markdown",
   "metadata": {},
   "source": [
    "### 2. Kinematic Viscosity:"
   ]
  },
  {
   "cell_type": "markdown",
   "metadata": {},
   "source": [
    "The input oil record could contain a number of viscosity properties, measured as either dynamic viscosity, kinematic viscosity, or a mix of both.  Each viscosity property in the oil record is accompanied by a reference temperature $\\,^\\circ K$ which is the temperature at which the viscosity was measured at.  We want to deal exclusively in kinematic viscosity.\n",
    "\n",
    "Converting a dynamic viscosity value into a kinematic viscosity value is done as follows."
   ]
  },
  {
   "cell_type": "markdown",
   "metadata": {},
   "source": [
    "$$\n",
    "\\begin{align}\n",
    "\\eta 0_{oil} &= \\text{measured dynamic viscosity } (kg/(m \\cdot s)) \\cr\n",
    "\\rho 0_{oil} &= \\text{measured density } (kg/m^3) \\cr\n",
    "\\cr\n",
    "v0_{oil} &= \\text{kinematic viscosity } (m^2/s) \\cr\n",
    "&= {\\eta 0_{oil} \\over \\rho 0_{oil} }\n",
    "\\qquad \\qquad \\qquad \\qquad \\qquad \\qquad \\boldsymbol{(eq. 4)} \\cr\n",
    "\\end{align}\n",
    "$$"
   ]
  },
  {
   "cell_type": "markdown",
   "metadata": {},
   "source": [
    "Basically we want to take advantage of any and all measured viscosities that are available.  We will of course prefer the kinematic measurements, but we will want to use any dynamic viscosity measurements that are not redundant.  So the basic program flow will be as follows:"
   ]
  },
  {
   "cell_type": "markdown",
   "metadata": {},
   "source": [
    "<ul>\n",
    "<li>Collect all existing measured kinematic viscosities and their associated reference temperatures</li>\n",
    "<li>Collect any dynamic viscosities measured at temperatures not already represented in the kinematic measurements</li>\n",
    "<li>Convert the dynamic viscosities into kinematic viscosities using (eq. 3)</li>\n",
    "<li>Combine our kinematic and converted dynamic viscosities into one aggregate list</li>\n",
    "</ul>"
   ]
  },
  {
   "cell_type": "markdown",
   "metadata": {},
   "source": [
    "Using the measured kinematic viscosities, we should be able to estimate the oil kinematic viscosity at an arbitrary temperature.  I believe this is what Adios2 does:\n",
    "$$\n",
    "\\begin{align}\n",
    "T &= \\text{temperature in } \\,^\\circ K \\cr\n",
    "k_{v2} &= 5000^\\circ K \\cr\n",
    "T_{ref} &= \\text{measured reference temperature} \\cr\n",
    "v_{ref} &= \\text{measured reference viscosity} \\cr\n",
    "\\cr\n",
    "v_T &= \\text{the viscosity at a specified temperature} \\cr\n",
    "&= v_{ref} \\cdot exp \\left( {k_{v2} \\over T} - {k_{v2} \\over T_{ref}} \\right)\n",
    "\\qquad \\qquad \\qquad \\qquad \\qquad \\qquad \\boldsymbol{(eq. 5)} \\cr\n",
    "\\end{align}\n",
    "$$"
   ]
  },
  {
   "cell_type": "code",
   "execution_count": 3,
   "metadata": {
    "collapsed": false
   },
   "outputs": [
    {
     "name": "stdout",
     "output_type": "stream",
     "text": [
      "oil =  ALASKA NORTH SLOPE (MIDDLE PIPELINE)\n",
      "oil.kvis =  []\n",
      "oil.dvis =  [<DVis(0.034 kg/ms at 273.15K)>, <DVis(0.016 kg/ms at 288.15K)>]\n",
      "aggregate kvis =  [<KVis(3.83357762995e-05 m^2/s at 273.15K)>, <KVis(1.82627553932e-05 m^2/s at 288.15K)>]\n",
      "kvis at 288k =  1.84285538212e-05\n",
      "\n"
     ]
    }
   ],
   "source": [
    "def dvis_to_kvis(dvis, density):\n",
    "    return dvis / density\n",
    "\n",
    "def estimate_kvis_at_temp(temp_k, kvis_ref, ref_temp_k):\n",
    "    k_v2 = 5000.0\n",
    "    return kvis_ref * np.exp(k_v2 / temp_k - k_v2 / ref_temp_k)\n",
    "\n",
    "def oil_aggregate_kvis(imported_rec):\n",
    "    kvis_list = [(k.ref_temp_k, k.m_2_s)\n",
    "                 for k in imported_rec.kvis\n",
    "                 if k.m_2_s is not None and\n",
    "                 k.ref_temp_k is not None]\n",
    "    dvis_list = [(d.ref_temp_k,\n",
    "                  dvis_to_kvis(d.kg_ms,\n",
    "                               oil_density_at_temp(imported_rec, d.ref_temp_k)))\n",
    "                 for d in imported_rec.dvis\n",
    "                 if d.kg_ms is not None and\n",
    "                 d.ref_temp_k is not None]\n",
    "\n",
    "    agg = dict(dvis_list)\n",
    "    agg.update(kvis_list)\n",
    "\n",
    "    return [KVis(ref_temp_k=i[0], m_2_s=i[1]) \n",
    "            for i in agg.iteritems()]\n",
    "\n",
    "def oil_kvis_at_temp(imported_rec, temp_k, weathering=0.0):\n",
    "    kvis_list = [kv for kv in oil_aggregate_kvis(imported_rec)\n",
    "                 if (kv.weathering == weathering)]\n",
    "    closest_kvis = closest_to_temperature(kvis_list, temp_k)\n",
    "\n",
    "    if closest_kvis is not None:\n",
    "        kvis_ref, t_ref = (closest_kvis.m_2_s,\n",
    "                           closest_kvis.ref_temp_k)\n",
    "    else:\n",
    "        return None\n",
    "\n",
    "    return estimate_kvis_at_temp(temp_k, kvis_ref, t_ref)\n",
    "\n",
    "#for obj in (ans_mp, ans_2002, bahia, arabian, canola):\n",
    "for obj in (ans_mp,):\n",
    "    print 'oil = ', obj.oil_name\n",
    "    print 'oil.kvis = ', obj.kvis\n",
    "    print 'oil.dvis = ', obj.dvis\n",
    "    print 'aggregate kvis = ', oil_aggregate_kvis(obj)\n",
    "    print 'kvis at 288k = ', oil_kvis_at_temp(obj, 288.0)\n",
    "    print\n",
    "\n",
    "# TODO: Okay, the ANS (2002) oil record has a crazy list of dynamic viscosities\n",
    "#       This has got to be fixed."
   ]
  },
  {
   "cell_type": "markdown",
   "metadata": {},
   "source": [
    "## <u>Oil Distillation Fractional Properties</u>"
   ]
  },
  {
   "cell_type": "markdown",
   "metadata": {},
   "source": [
    "A large number of our estimations depend upon a characterization of the fractional amounts of compounds that fit somewhere in a high level classification named SARA.  SARA is an acronym meaning Saturates, Aromatics, Resins, and Asphaltenes.  There is much literature on the characterization of these petroleum hydrocarbons, but generally:\n",
    "\n",
    "- Saturates are volatile, and evaporate at an estimable rate with increasing temperature.\n",
    "- Aromatics are similarly volatile, but at different rates.\n",
    "- Resins are considered inert.  That is to say they will not evaporate at any reasonable temperature.\n",
    "- Asphaltenes are also considered inert.\n",
    "\n",
    "Most oil records do not contain precise information regarding these fractional amounts.  But they do often contain fractional distillation cut properties.  The distillation cuts describe the rate at which the volatile portions of the oil evaporate.  And from this we can attempt to estimate the SARA fractional amounts.\n",
    "\n",
    "The steps involved in getting our distillation data are as follows:\n",
    "\n",
    "- We will first get the fraction of the oil that is inert.  That is the resins and asphaltenes.\n",
    "- We will then get the data points that represent the fractions of oil that are evaporated at associated temperatures.\n",
    "- We will then try to normalize the inert and volatile fractions so that they measure up to the total fraction of oil."
   ]
  },
  {
   "cell_type": "markdown",
   "metadata": {},
   "source": [
    "### 3. Initial Resin and Asphaltene Fractions and Densities:"
   ]
  },
  {
   "cell_type": "markdown",
   "metadata": {},
   "source": [
    "<i>\n",
    "Reference: Fingas empirical formulas that are based upon analysis of ESTC oil properties database.\n",
    "</i>"
   ]
  },
  {
   "cell_type": "markdown",
   "metadata": {},
   "source": [
    "If the imported oil record contains valid values for resins and asphaltenes, we will use those values when building our oil.<br>\n",
    "Otherwise, we will need to estimate them."
   ]
  },
  {
   "cell_type": "markdown",
   "metadata": {},
   "source": [
    "First we define some values $A$ and $B$ that will be used for our component fraction formulas:"
   ]
  },
  {
   "cell_type": "markdown",
   "metadata": {},
   "source": [
    "$$\n",
    "\\begin{align}\n",
    "\\rho 0_{oil} &= \\text{oil aggregate density at } 288.15^\\circ K \\text{  (from eqs. 1,2)} \\cr\n",
    "v0_{oil} &= \\text{oil kinematic viscosity at } 288.15^\\circ K \\text{  (from eq. 5)} \\cr\n",
    "\\cr\n",
    "A &= 10 \\cdot exp(0.001 \\cdot \\rho 0_{oil}) \\qquad \\qquad \\qquad \\qquad \\boldsymbol{(eq. 6)} \\cr\n",
    "B &= 10 \\cdot ln(1000 \\cdot \\rho 0_{oil} \\cdot v0_{oil}) \\qquad \\qquad \\qquad \\boldsymbol{(eq. 7)}\\cr\n",
    "\\end{align}\n",
    "$$"
   ]
  },
  {
   "cell_type": "markdown",
   "metadata": {},
   "source": [
    "Then our component fraction formulas:"
   ]
  },
  {
   "cell_type": "markdown",
   "metadata": {},
   "source": [
    "$$\n",
    "\\begin{align}\n",
    "f_{res} &= (0.033 \\cdot A + 0.00087 \\cdot B - 0.74)_{\\bot 0}^{\\top 1}\n",
    "\\qquad \\qquad \\qquad \\qquad \\qquad \\boldsymbol{(eq. 8)} \\cr\n",
    "f_{asph} &= (0.000014 \\cdot A^3 + 0.000004 \\cdot B^2 - 0.18)_{\\bot 0}^{\\top (1 - f_{res})}\n",
    "\\qquad \\qquad \\qquad \\boldsymbol{(eq. 9)} \\cr\n",
    "\\end{align}\n",
    "$$"
   ]
  },
  {
   "cell_type": "code",
   "execution_count": 4,
   "metadata": {
    "collapsed": false
   },
   "outputs": [
    {
     "name": "stdout",
     "output_type": "stream",
     "text": [
      "oil =  ALASKA NORTH SLOPE (MIDDLE PIPELINE)\n",
      "oil.api =  29.9\n",
      "oil.resins =  None\n",
      "oil.asphaltenes =  None\n",
      "oil density at temp =  876.1\n",
      "oil viscosity at temp =  1.82627553932e-05\n",
      "f_res, f_asph =  0.0766216397354 0.0169777627026\n",
      "f_res, f_asph =  (0.076621639735448888, 0.016977762702612892)\n",
      "sum of inert fractions =  0.0935994024381\n",
      "\n"
     ]
    }
   ],
   "source": [
    "def estimate_A_coeff(density):\n",
    "    return 10.0 * np.exp(0.001 * density)\n",
    "\n",
    "def estimate_B_coeff(density, viscosity):\n",
    "    return 10.0 * np.log(1000.0 * density * viscosity)\n",
    "\n",
    "def estimate_resin_fraction(density, viscosity, f_other=0.0):\n",
    "    A = estimate_A_coeff(density)\n",
    "    B = estimate_B_coeff(density, viscosity)\n",
    "\n",
    "    f_res = 0.033 * A + 0.00087 * B - 0.74\n",
    "    f_res = np.clip(f_res, 0.0, 1.0 - f_other)\n",
    "    \n",
    "    return f_res\n",
    "\n",
    "\n",
    "def estimate_asphaltene_fraction(density, viscosity, f_other=0.0):\n",
    "    A = estimate_A_coeff(density)\n",
    "    B = estimate_B_coeff(density, viscosity)\n",
    "\n",
    "    f_asph = (0.000014 * A ** 3.0 +\n",
    "              0.000004 * B ** 2.0 -\n",
    "              0.18)\n",
    "    f_asph = np.clip(f_asph, 0.0, 1.0 - f_other)\n",
    "    \n",
    "    return f_asph\n",
    "\n",
    "def oil_inert_fractions(imported_rec):\n",
    "    f_res, f_asph = imported_rec.resins, imported_rec.asphaltenes\n",
    "\n",
    "    if f_res is not None and f_asph is not None:\n",
    "        return f_res, f_asph\n",
    "    else:\n",
    "        density = oil_density_at_temp(imported_rec, 288.15)\n",
    "        viscosity = oil_kvis_at_temp(imported_rec, 288.15)\n",
    "\n",
    "    if f_res is None:\n",
    "        f_res = estimate_resin_fraction(density, viscosity)\n",
    "\n",
    "    if f_asph is None:\n",
    "        f_asph = estimate_asphaltene_fraction(density, viscosity,\n",
    "                                              f_res)\n",
    "\n",
    "    return f_res, f_asph\n",
    "\n",
    "#for obj in (ans_mp, ans_2002, bahia, arabian, canola):\n",
    "for obj in (ans_mp,):\n",
    "    print 'oil = ', obj.oil_name\n",
    "    print 'oil.api = ', obj.api\n",
    "    print 'oil.resins = ', obj.resins\n",
    "    print 'oil.asphaltenes = ', obj.asphaltenes\n",
    "    obj_density = oil_density_at_temp(obj, 288.15)\n",
    "    obj_viscosity = oil_kvis_at_temp(obj, 288.15)\n",
    "    print 'oil density at temp = ', obj_density\n",
    "    print 'oil viscosity at temp = ', obj_viscosity\n",
    "    print 'f_res, f_asph = ',\n",
    "    print estimate_resin_fraction(obj_density, obj_viscosity),\n",
    "    print estimate_asphaltene_fraction(obj_density, obj_viscosity)\n",
    "    print 'f_res, f_asph = ', oil_inert_fractions(obj)\n",
    "    print 'sum of inert fractions = ', np.sum(oil_inert_fractions(obj))\n",
    "    print\n"
   ]
  },
  {
   "cell_type": "markdown",
   "metadata": {},
   "source": [
    "### 4. Distillation Cut Boiling Point:"
   ]
  },
  {
   "cell_type": "markdown",
   "metadata": {},
   "source": [
    "<i>\n",
    "<b>Reference:</b> Adios2 and Jones R. (1997), A Simplified Pseudo-component Oil Evaporation Model, Proceedings of the 20th Arctic and Marine Oil Spill Program (AMOP), Vancouver, CA, Vol. 1, pp. 43-62\n",
    "</i>"
   ]
  },
  {
   "cell_type": "markdown",
   "metadata": {},
   "source": [
    "If the oil record contains distillation data, then we can use the distillation cut temperatures.<br>\n",
    "Otherwise, if no distillation data exists, then we can estimate the distillation data from the oil's API.\n",
    "\n",
    "This is done as follows:"
   ]
  },
  {
   "cell_type": "markdown",
   "metadata": {},
   "source": [
    "First we estimate our lower and upper temperature bounds:"
   ]
  },
  {
   "cell_type": "markdown",
   "metadata": {},
   "source": [
    "$$\n",
    "\\begin{align}\n",
    "T_0 &= \\text{the lower temperature boundary} \\cr\n",
    "&= 457 - 3.34 \\cdot API \\qquad \\qquad \\qquad \\qquad \\boldsymbol{(eq. 10)} \\cr\n",
    "T_G &= \\text{the upper temperature boundary} \\cr\n",
    "&= 1357 - 247.7 \\cdot ln(API) \\qquad \\qquad \\qquad \\boldsymbol{(eq. 11)} \\cr\n",
    "\\end{align}\n",
    "$$"
   ]
  },
  {
   "cell_type": "markdown",
   "metadata": {},
   "source": [
    "Next, we would like to generate a set of $N$ temperatures associated with our cuts $T_i$.  We will use a default of 5 cuts for this."
   ]
  },
  {
   "cell_type": "markdown",
   "metadata": {},
   "source": [
    "$$\n",
    "\\begin{align}\n",
    "N &= 5 \\cr\n",
    "T_i &= T_0 + T_G \\cdot {i \\over N} \\quad \\{ i \\in \\Bbb Z \\,\\,|\\,\\, 0 \\leq i < N \\}\n",
    "\\qquad \\boldsymbol{(eq. 12)} \\cr\n",
    "\\end{align}\n",
    "$$"
   ]
  },
  {
   "cell_type": "code",
   "execution_count": 5,
   "metadata": {
    "collapsed": false
   },
   "outputs": [
    {
     "name": "stdout",
     "output_type": "stream",
     "text": [
      "oil =  ALASKA NORTH SLOPE (MIDDLE PIPELINE)\n",
      "oil.api =  29.9\n",
      "oil.densities =  [<Density(886.9 kg/m^3 at 273.15K)>, <Density(876.1 kg/m^3 at 288.15K)>]\n",
      "oil.cut.vapor_temp_k =  [313.15, 353.15, 393.15, 433.15, 473.15, 573.15, 673.15, 773.15, 873.15, 973.15]\n",
      "oil.cut.fraction =  [0.03, 0.07, 0.13, 0.19, 0.25, 0.42, 0.6, 0.76, 0.88, 0.95]\n",
      "cut temperatures =  [ 313.15  353.15  393.15  433.15  473.15  573.15  673.15  773.15  873.15\n",
      "  973.15]\n",
      "\n"
     ]
    }
   ],
   "source": [
    "def estimate_cut_temps_from_api(api, N=5):\n",
    "    T_0 = 457.0 - 3.34 * api\n",
    "    T_G = 1357.0 - 247.7 * np.log(api)\n",
    "    \n",
    "    return np.array([(T_0 + T_G * i / N)\n",
    "                     for i in range(N)])\n",
    "\n",
    "def oil_cut_temps(imported_rec):\n",
    "    culled_cuts = imported_rec.cuts\n",
    "    if len(culled_cuts) > 0:\n",
    "        return np.array([c.vapor_temp_k\n",
    "                         for c in culled_cuts])\n",
    "    elif imported_rec.api is not None:\n",
    "        return estimate_cut_temps_from_api(imported_rec.api)\n",
    "    else:\n",
    "        est_api = estimate_api_from_density(oil_density_at_temp(imported_rec, 288.15))\n",
    "        return estimate_cut_temps_from_api(est_api)\n",
    "\n",
    "#for obj in (ans_mp, ans_2002, bahia, arabian, canola):\n",
    "for obj in (ans_mp,):\n",
    "    print 'oil = ', obj.oil_name\n",
    "    print 'oil.api = ', obj.api\n",
    "    print 'oil.densities = ', obj.densities\n",
    "    print 'oil.cut.vapor_temp_k = ', [c.vapor_temp_k for c in obj.cuts]\n",
    "    print 'oil.cut.fraction = ', [c.fraction for c in obj.cuts]\n",
    "    print 'cut temperatures = ', oil_cut_temps(obj)\n",
    "    print\n"
   ]
  },
  {
   "cell_type": "markdown",
   "metadata": {},
   "source": [
    "### 5. Distillation Cut Mass Fraction:"
   ]
  },
  {
   "cell_type": "markdown",
   "metadata": {},
   "source": [
    "The distillation cuts are a series of temperatures and mass fractions.  And each temperature $T_i$ is associated with a fractional value $fevap_i$ representing the portion of substance that was evaporated at that temperature. "
   ]
  },
  {
   "cell_type": "markdown",
   "metadata": {},
   "source": [
    "For any temperature below about $530^\\circ K$, we can assume that the portion of substance that was evaporated contains a mix of saturates and aromatics, and that no resins or asphaltenes have been released.\n",
    "The fractional quantity that was evaporated at a distillation cut temperature, is what we would like to consider to be our distillation cut mass fractions."
   ]
  },
  {
   "cell_type": "markdown",
   "metadata": {},
   "source": [
    "<b>(A)</b> If the oil record contains at least two distillation cuts exist for which $T_i < 530^\\circ K$, then we will use the supplied distillation cut fractional masses to generate $fmass_i$."
   ]
  },
  {
   "cell_type": "markdown",
   "metadata": {},
   "source": [
    "The distillation cut mass fractions that we get in the imported oil record are cumulative in nature, so it is necessary to collect the differences in the distillation cut mass fractions when generating $fmass_i$"
   ]
  },
  {
   "cell_type": "markdown",
   "metadata": {},
   "source": [
    "$$\n",
    "\\begin{align}\n",
    "fmass_i &= {d \\over di} \\left( fevap_i \\right)\n",
    "\\qquad \\{ i \\in \\Bbb Z \\,\\,|\\,\\, 0 \\leq i \\leq N \\}\n",
    "\\qquad \\qquad \\boldsymbol{(eq. 13)} \\cr\n",
    "\\end{align}\n",
    "$$"
   ]
  },
  {
   "cell_type": "markdown",
   "metadata": {},
   "source": [
    "<b>(B)</b> If distillation cut temperatures were generated by approximation (eq. 18), then it can be assumed that there were no measured mass fractions.  For this we will evenly distribute our fractional masses such that for all distillation cuts:"
   ]
  },
  {
   "cell_type": "markdown",
   "metadata": {},
   "source": [
    "$$\n",
    "\\begin{align}\n",
    "fmass_i &= {(1 - (f_{res} + f_{asph})) \\over N}\n",
    "\\qquad \\qquad \\boldsymbol{(eq. 14)} \\cr\n",
    "\\end{align}\n",
    "$$"
   ]
  },
  {
   "cell_type": "code",
   "execution_count": 6,
   "metadata": {
    "collapsed": false
   },
   "outputs": [
    {
     "name": "stdout",
     "output_type": "stream",
     "text": [
      "oil =  ALASKA NORTH SLOPE (MIDDLE PIPELINE)\n",
      "oil cut temps =  [ 313.15  353.15  393.15  433.15  473.15  573.15  673.15  773.15  873.15\n",
      "  973.15]\n",
      "oil.cuts.fractions =  [0.03, 0.07, 0.13, 0.19, 0.25, 0.42, 0.6, 0.76, 0.88, 0.95]\n",
      "f_res, f_asph =  0.0766216397354 0.0169777627026\n",
      "sum(fmasses) =  1.04359940244\n",
      "sum(N fmasses) =  1.0\n",
      "sum(oil_fmasses()) =  1.04359940244\n",
      "\n"
     ]
    }
   ],
   "source": [
    "def estimate_fmasses_from_cuts(f_evap_i):\n",
    "    fmass_i = np.array(f_evap_i)\n",
    "    fmass_i[1:] = np.diff(fmass_i)\n",
    "\n",
    "    return fmass_i\n",
    "\n",
    "def estimate_n_fmasses(f_res, f_asph, N=5):\n",
    "    return np.array([(1.0 - f_res - f_asph) / N] * N)\n",
    "\n",
    "def oil_fmasses(imported_rec):\n",
    "    f_res, f_asph = oil_inert_fractions(imported_rec)\n",
    "    culled_cuts = imported_rec.cuts\n",
    "\n",
    "    if len(culled_cuts) > 0:\n",
    "        fractions = [c.fraction for c in culled_cuts]\n",
    "        return estimate_fmasses_from_cuts(fractions)\n",
    "    else:\n",
    "        return estimate_n_fmasses(f_res, f_asph)\n",
    "\n",
    "#for obj in (ans_mp, ans_2002, bahia, arabian, canola):\n",
    "for obj in (ans_mp,):\n",
    "    print 'oil = ', obj.oil_name\n",
    "    print 'oil cut temps = ', oil_cut_temps(obj)\n",
    "    fractions = [c.fraction for c in obj.cuts]\n",
    "    print 'oil.cuts.fractions = ', fractions\n",
    "    f_res, f_asph = oil_inert_fractions(obj)\n",
    "    print 'f_res, f_asph = ', f_res, f_asph\n",
    "\n",
    "    fmasses = estimate_fmasses_from_cuts(fractions)\n",
    "    print 'sum(fmasses) = ', np.sum(fmasses) + f_res + f_asph\n",
    "\n",
    "    fmasses = estimate_n_fmasses(f_res, f_asph)\n",
    "    print 'sum(N fmasses) = ', np.sum(fmasses) + f_res + f_asph\n",
    "    \n",
    "    fmasses = oil_fmasses(obj)\n",
    "    print 'sum(oil_fmasses()) = ', np.sum(fmasses) + f_res + f_asph\n",
    "    print\n"
   ]
  },
  {
   "cell_type": "markdown",
   "metadata": {},
   "source": [
    "### 16. Normalizing our Distillation Cut Data:"
   ]
  },
  {
   "cell_type": "markdown",
   "metadata": {},
   "source": [
    "Because there are so many calculations that propagate from the distillation cuts, it is important that we interpret them in such a way that results in a reasonable, or at least plausible, distillation curve.  And since we are dealing with records that were manually entered into a database, data entry errors need to be anticipated.\n",
    "\n",
    "We expect the evaporated fractions to be cumulative with rising temperature.  And if someone incorrectly entered a value when generating the imported oil record, then our cut data could fail to follow this cumulative trend, and our evaporation curve is thrown off.  Some specific errors and their implications are:\n",
    "\n",
    "- <b>Smaller fraction</b> entered than what it should have been: This will likely cause the fraction to be smaller than the previous one, and the $fmass_i$ value will go negative.\n",
    "- <b>Bigger fraction</b> entered than what it should have been: This will likely cause the next fraction to be smaller, and the next $fmass_i$ value will go negative.\n",
    "- <b>Smaller temperature</b> entered than what it should have been: Optimistically the series of $(T_i, fevap_i)$ could be reordered by temperature.  But if we reorder a mistaken temperature, then the fraction will be mistakenly reordered as well, and the error will manifest itself in a similar way as a <b>bigger fraction</b>.\n",
    "\n",
    "I don't think we can treat this in a naive way.  \n",
    "\n",
    "- We need to treat the temperatures and their associated fractions as atomic units of data\n",
    "- Temperatures are required to be in ascending order.  If the temperature of a particular cut is lower than the previous, we throw out the cut.\n",
    "- Cut fractions might seem to be less consequential.  This will happen only once per error in the series, and we could simply clip the value to be $\\geq 0$.  But this will have implications in that the sum of the differences will add up to something bigger than the total evaporated amount, which we don't want.  It's probably better to just throw out the cut."
   ]
  },
  {
   "cell_type": "code",
   "execution_count": 7,
   "metadata": {
    "collapsed": false
   },
   "outputs": [
    {
     "data": {
      "text/plain": [
       "<matplotlib.legend.Legend at 0x1116320d0>"
      ]
     },
     "execution_count": 7,
     "metadata": {},
     "output_type": "execute_result"
    },
    {
     "data": {
      "image/png": "[encoded data removed]",
      "text/plain": [
       "<matplotlib.figure.Figure at 0x105ea7c90>"
      ]
     },
     "metadata": {},
     "output_type": "display_data"
    }
   ],
   "source": [
    "def oil_culled_cuts(imported_rec):\n",
    "    prev_temp = prev_fraction = 0.0\n",
    "    for c in imported_rec.cuts:\n",
    "        if c.vapor_temp_k < prev_temp:\n",
    "            continue\n",
    "\n",
    "        if c.fraction < prev_fraction:\n",
    "            continue\n",
    "\n",
    "        prev_temp = c.vapor_temp_k\n",
    "        prev_fraction = c.fraction\n",
    "\n",
    "        yield c\n",
    "\n",
    "# we need to redefine our cut temperatures function\n",
    "# to utilize our culled cuts instead of raw cuts.\n",
    "def oil_cut_temps(imported_rec):\n",
    "    culled_cuts = list(oil_culled_cuts(imported_rec))\n",
    "\n",
    "    if len(culled_cuts) > 0:\n",
    "        return np.array([c.vapor_temp_k\n",
    "                         for c in culled_cuts])\n",
    "    elif imported_rec.api is not None:\n",
    "        return estimate_cut_temps_from_api(imported_rec.api)\n",
    "    else:\n",
    "        est_api = estimate_api_from_density(oil_density_at_temp(imported_rec, 288.15))\n",
    "        return estimate_cut_temps_from_api(est_api)\n",
    "\n",
    "# we need to redefine our cut fractions function\n",
    "# to utilize our culled cuts instead of raw cuts.\n",
    "def oil_fmasses(imported_rec):\n",
    "    f_res, f_asph = oil_inert_fractions(imported_rec)\n",
    "    culled_cuts = list(oil_culled_cuts(imported_rec))\n",
    "\n",
    "    if len(culled_cuts) > 0:\n",
    "        fractions = [c.fraction for c in culled_cuts]\n",
    "        return estimate_fmasses_from_cuts(f_res, f_asph,\n",
    "                                          fractions\n",
    "                                          )\n",
    "    else:\n",
    "        return estimate_n_fmasses(f_res, f_asph)\n",
    "\n",
    "obj = ans_2002\n",
    "plt.figure(1, figsize=(12,6))\n",
    "plt.subplot(111)\n",
    "\n",
    "plt.plot(*zip(*[(c.vapor_temp_k, c.fraction) for c in obj.cuts]) + ['ro'],\n",
    "         label=ans_2002.oil_name)\n",
    "plt.plot(*zip(*[(c.vapor_temp_k, c.fraction) for c in obj.cuts]) + ['r-'])\n",
    "\n",
    "plt.plot(*zip(*[(c.vapor_temp_k, c.fraction) for c in oil_culled_cuts(obj)]) + ['bo'],\n",
    "         label=ans_2002.oil_name + ' culled')\n",
    "plt.plot(*zip(*[(c.vapor_temp_k, c.fraction) for c in oil_culled_cuts(obj)]) + ['b-'])\n",
    "\n",
    "plt.xlabel(r'$T_i$')\n",
    "plt.ylabel('% Evap')\n",
    "plt.grid()\n",
    "plt.title(r'Distillation Cuts Comparison', fontsize=18)\n",
    "\n",
    "plt.legend(loc='upper left')"
   ]
  },
  {
   "cell_type": "markdown",
   "metadata": {},
   "source": [
    "Not only do we seem to have typographic errors in the distillation cut data, but we have incomplete representation of distillation.  The cut data of some oil records have a maximum distillation amount that is considerably less than the total oil, and the inert fractions, calculated or read from the record, do not account for a complete fraction (1.0) of oil mass.\n",
    "\n",
    "I will suggest this for our distillation curves.  I think we need to calculate the maximum amount we expect to be evaporated with our distillation cuts.  Call it $fevap_{max}$.  We can obtain this from the following equation:\n",
    "$$\n",
    "\\begin{align}\n",
    "fevap_{max} &= 1 - f_{res} - f_{asph} \\cr\n",
    "\\end{align}\n",
    "$$\n"
   ]
  },
  {
   "cell_type": "markdown",
   "metadata": {},
   "source": [
    "Then we take the culled distillation cuts that exist, and use them to approximate a linear curve of our fractional distillation.  I believe Bill, Robert, and Chris would agree that the distillation data approximates a linear curve of the form $(ax + b)_{\\bot 0}^{\\top 1}$.  But just for fun, we will also try a sigmoid."
   ]
  },
  {
   "cell_type": "code",
   "execution_count": 8,
   "metadata": {
    "collapsed": false
   },
   "outputs": [
    {
     "data": {
      "text/plain": [
       "<matplotlib.legend.Legend at 0x1122b4250>"
      ]
     },
     "execution_count": 8,
     "metadata": {},
     "output_type": "execute_result"
    },
    {
     "data": {
      "image/png": "[encoded data removed]",
      "text/plain": [
       "<matplotlib.figure.Figure at 0x105ebf910>"
      ]
     },
     "metadata": {},
     "output_type": "display_data"
    }
   ],
   "source": [
    "plt.figure(1, figsize=(12,6))\n",
    "plt.subplot(111)\n",
    "\n",
    "obj = ans_2002\n",
    "\n",
    "boiling_points = [c.vapor_temp_k for c in oil_culled_cuts(obj)]\n",
    "cum_fractions = [c.fraction for c in oil_culled_cuts(obj)]\n",
    "plt.plot(boiling_points, cum_fractions, '.b', label=\"Cut Fractions\")\n",
    "\n",
    "plt.xlabel(r'$T_i$', fontsize=16)\n",
    "plt.ylabel(r'$f_{evap}$', fontsize=16)\n",
    "plt.grid()\n",
    "\n",
    "#def func(x, a, b, c, d):\n",
    "#    return a*x**3 + b*x**2 +c*x + d\n",
    "\n",
    "def sigmoid(x, j, k, lamb):\n",
    "    # intuitively, our cut fractions could approximate\n",
    "    # a similar shape as a cumulative distribution function\n",
    "    # or sigmoid.\n",
    "    return (1.0 - j ** (-1.0 * (x / lamb) ** k))\n",
    "\n",
    "def linear(x, a, b):\n",
    "    # intuitively, our cut fractions could approximate\n",
    "    # a similar shape as a linear function.\n",
    "    return (a * x + b)\n",
    "\n",
    "\n",
    "new_bps = np.linspace(100., 1200., 100)\n",
    "\n",
    "\"\"\"\n",
    "    curve_fit the sigmoid\n",
    "\"\"\"\n",
    "if len(boiling_points) >= 3:\n",
    "    popt, pcov = curve_fit(sigmoid, boiling_points, cum_fractions)\n",
    "    plt.title(r'$f(T_i)= '\n",
    "              '1 - {0}^{{-(T_i / {2})^{{{1}}} }} + '\n",
    "              '$'.format(*popt),\n",
    "              fontsize=18)\n",
    "\n",
    "    # now plot our sigmoid curve with a bunch of boiling points from 273K to 1015K\n",
    "    plt.plot(new_bps, sigmoid(new_bps, *popt), '-r', label=\"Fitted Sigmoid Curve\")\n",
    "else:\n",
    "    print 'not enough data for a sigmoid!'\n",
    "\n",
    "\"\"\"\n",
    "    curve_fit the linear\n",
    "\"\"\"\n",
    "popt, pcov = curve_fit(linear, boiling_points, cum_fractions)\n",
    "\n",
    "# now plot our linear curve with a bunch of boiling points from 273K to 1015K\n",
    "plt.plot(new_bps, np.clip(linear(new_bps, *popt), 0.0, 1.0), '-g', label=\"Fitted Linear Curve\")\n",
    "\n",
    "plt.legend(loc='upper left')\n"
   ]
  },
  {
   "cell_type": "markdown",
   "metadata": {},
   "source": [
    "Okay, the linear curve seems to fit somewhat better, although it would be interesting to test this with a lot of oils.  We'll go with the linear fit for now.\n",
    "\n",
    "What we would like to do now is inverse the linear curve function so that it will calculate the temperature at which a certain fraction has boiled off.  Then we can take a set of N fractions that represent equidistant intervals between 0.0 and $fevap_{max}$.\n",
    "\n",
    "Our inverse linear function looks like this:\n",
    "$$\n",
    "\\begin{align}\n",
    "x &= {y - b \\over a} \\cr\n",
    "\\end{align}\n",
    "$$"
   ]
  },
  {
   "cell_type": "code",
   "execution_count": 10,
   "metadata": {
    "collapsed": false
   },
   "outputs": [
    {
     "data": {
      "text/plain": [
       "<matplotlib.legend.Legend at 0x112561c10>"
      ]
     },
     "execution_count": 10,
     "metadata": {},
     "output_type": "execute_result"
    },
    {
     "data": {
      "image/png": "[encoded data removed]",
      "text/plain": [
       "<matplotlib.figure.Figure at 0x10f167c10>"
      ]
     },
     "metadata": {},
     "output_type": "display_data"
    }
   ],
   "source": [
    "plt.figure(1, figsize=(12,6))\n",
    "ax = plt.subplot(111)\n",
    "\n",
    "obj = ans_2002\n",
    "#print list(oil_culled_cuts(ans_2002))\n",
    "num_cuts = 10\n",
    "boiling_points = [c.vapor_temp_k for c in oil_culled_cuts(obj)]\n",
    "cum_fractions = [c.fraction for c in oil_culled_cuts(obj)]\n",
    "f_res, f_asph = oil_inert_fractions(obj)\n",
    "\n",
    "\n",
    "'''\n",
    "    plot the cut points\n",
    "'''\n",
    "plt.plot(cum_fractions, boiling_points, 'ro', label=\"Measured Cuts\")\n",
    "\n",
    "plt.xlabel(r'$f_{evap,i}$', fontsize=18)\n",
    "plt.ylabel(r'$T_i$', fontsize=18)\n",
    "plt.grid()\n",
    "\n",
    "def linear(x, a, b):\n",
    "    return (a * x + b)\n",
    "\n",
    "def inverse_linear(y, a, b):\n",
    "    return (y - b) / a\n",
    "\n",
    "\"\"\"\n",
    "    curve_fit the linear\n",
    "\"\"\"\n",
    "popt, pcov = curve_fit(linear, boiling_points, cum_fractions)\n",
    "plt.title(r'$T_i = '\n",
    "          '(f_{{evap,i}} - {1}) / {0}'\n",
    "          '$'.format(*popt),\n",
    "          fontsize=18)\n",
    "\n",
    "# now plot our inverse linear curve with a bunch of fractions from 0.0001 to 0.9999\n",
    "new_fracs = np.linspace(0.0001, 0.9999, 100)\n",
    "plt.plot(new_fracs, inverse_linear(new_fracs, *popt), '-c', label=\"Fitted Curve\")\n",
    "\n",
    "# now plot our inverse linear curve with the N fractions we intend to use\n",
    "new_fracs = np.linspace(0.0, 1.0 - f_res - f_asph, num_cuts + 1)[1:]\n",
    "plt.plot(new_fracs, inverse_linear(new_fracs, *popt), 'go', label=\"Estimated Cuts\")\n",
    "\n",
    "# make the shaded region\n",
    "low, high = 1.0 - f_res - f_asph, 1.0\n",
    "ix = (low, high)\n",
    "iy = (1000.0, 1000.0)\n",
    "verts = [(low,0)] + list(zip(ix,iy)) + [(high,0)]\n",
    "poly = Polygon(verts, facecolor='0.8', edgecolor='k')\n",
    "ax.add_patch(poly)\n",
    "\n",
    "# ticks for the shaded region\n",
    "extraticks = [low,]\n",
    "extralabels = [r'${f_{inert}}$',]\n",
    "plt.xticks(list(plt.xticks()[0]) + extraticks,\n",
    "           list(plt.xticks()[0]) + extralabels)\n",
    "\n",
    "for tick in ax.xaxis.get_major_ticks():\n",
    "    if tick.label.get_text().find('inert') >= 0:\n",
    "        tick.label.set_fontsize(14)\n",
    "        tick.label.set_rotation('vertical')\n",
    "\n",
    "plt.legend(loc='upper left')\n"
   ]
  },
  {
   "cell_type": "markdown",
   "metadata": {},
   "source": [
    "Alright, that doesn't look too bad, but we are still missing something.\n",
    "\n",
    "First, it is possible for us to fit a curve that will give negative kelvin temperatures.  Negative Kelvin temperatures, are of course impossible.  We need to make sure our curve fit anticipates that.\n",
    "\n",
    "What we have works ok for total evaporated amounts, and differencing them should give us reasonable values for $fmass_i$.  But the temperatures we get from our curve represent only the maximum slice of distilled components within $fmass_i$.  What we really need is the average temperature from $T_{i-1}$ to $T_i$"
   ]
  },
  {
   "cell_type": "code",
   "execution_count": 11,
   "metadata": {
    "collapsed": false
   },
   "outputs": [
    {
     "name": "stdout",
     "output_type": "stream",
     "text": [
      "boiling_points: [313.0, 333.0, 353.0, 373.0, 393.0, 413.0, 433.0, 453.0, 523.0, 573.0, 623.0, 673.0, 723.0, 773.0]\n",
      "cum_fractions: [0.025, 0.039, 0.065, 0.1, 0.134, 0.166, 0.198, 0.226, 0.326, 0.407, 0.495, 0.577, 0.66, 0.721]\n",
      "inert_fractions: 0.061 0.04\n"
     ]
    },
    {
     "data": {
      "text/plain": [
       "<matplotlib.legend.Legend at 0x1132d3b10>"
      ]
     },
     "execution_count": 11,
     "metadata": {},
     "output_type": "execute_result"
    },
    {
     "data": {
      "image/png": "[encoded data removed]",
      "text/plain": [
       "<matplotlib.figure.Figure at 0x10f14e690>"
      ]
     },
     "metadata": {},
     "output_type": "display_data"
    }
   ],
   "source": [
    "plt.figure(1, figsize=(12,6))\n",
    "ax = plt.subplot(111)\n",
    "\n",
    "obj = ans_2002\n",
    "#print list(oil_culled_cuts(ans_2002))\n",
    "num_cuts = 10\n",
    "boiling_points = [c.vapor_temp_k for c in oil_culled_cuts(obj)]\n",
    "cum_fractions = [c.fraction for c in oil_culled_cuts(obj)]\n",
    "f_res, f_asph = oil_inert_fractions(obj)\n",
    "print 'boiling_points:', boiling_points\n",
    "print 'cum_fractions:', cum_fractions\n",
    "print 'inert_fractions:', f_res, f_asph\n",
    "\n",
    "plt.xlabel('% Evap')\n",
    "plt.ylabel(r'$T_i$', fontsize=16)\n",
    "plt.grid()\n",
    "\n",
    "def linear(x, a, b):\n",
    "    return (a * x + b)\n",
    "\n",
    "def inverse_linear(y, a, b):\n",
    "    return (y - b) / a\n",
    "\n",
    "\"\"\"\n",
    "    curve_fit the linear\n",
    "\"\"\"\n",
    "popt, pcov = curve_fit(linear, boiling_points, cum_fractions)\n",
    "\n",
    "# plot our distillation curve\n",
    "new_fracs = np.linspace(0.0001, 0.9999, 100)\n",
    "new_temps = np.clip(inverse_linear(new_fracs, *popt), 0.0, 5000.0)\n",
    "plt.plot(new_fracs, new_temps, '-b', label=\"Distillation Curve\")\n",
    "\n",
    "# now plot the N fractions we intend to use\n",
    "new_fracs = np.linspace(0.0, 1.0 - f_res - f_asph, (num_cuts * 2) + 1)[1:]\n",
    "new_temps = inverse_linear(new_fracs, *popt)\n",
    "\n",
    "new_fracs = new_fracs.reshape(-1,2)[:,1]\n",
    "new_temps = new_temps.reshape(-1,2)[:,0]\n",
    "above_zero = new_temps > 0.0\n",
    "new_temps = new_temps[above_zero]\n",
    "new_fracs = new_fracs[above_zero]\n",
    "\n",
    "plt.plot(new_fracs, new_temps, 'go', label=\"Estimated Cuts\")\n",
    "\n",
    "# plot our inert fraction\n",
    "plt.plot(1.0, 1015.0, 'go')\n",
    "\n",
    "# now we would like to graph the quantized \"areas\"\n",
    "# that our fractional masses represent\n",
    "def make_shaded_region(f_low, f_high,\n",
    "                       t_low, t_high,\n",
    "                      facecolor='0.8'):\n",
    "    ix = (f_low, f_high)\n",
    "    iy = (t_low, t_high)\n",
    "    verts = [(x, y) for x in ix for y in iy]\n",
    "    verts[2:] = reversed(verts[2:])\n",
    "    poly = Polygon(verts, facecolor=facecolor, edgecolor='k')\n",
    "    ax.add_patch(poly)\n",
    "\n",
    "for r in zip([0.0] + new_fracs.tolist(),\n",
    "             new_fracs,\n",
    "             [inverse_linear(0.0, *popt)] + new_temps.tolist(),\n",
    "             new_temps):\n",
    "    make_shaded_region(*r, facecolor='#ddeeff')\n",
    "\n",
    "# make the shaded region for our inert fraction\n",
    "make_shaded_region(new_fracs[-1], 1.0,\n",
    "                   new_temps[-1], 1015.0)\n",
    "\n",
    "# ticks for the shaded region\n",
    "extraticks = [low,]\n",
    "extralabels = [r'${f_{inert}}$',]\n",
    "plt.xticks(list(plt.xticks()[0]) + extraticks,\n",
    "           list(plt.xticks()[0]) + extralabels)\n",
    "\n",
    "for tick in ax.xaxis.get_major_ticks():\n",
    "    if tick.label.get_text().find('inert') >= 0:\n",
    "        tick.label.set_fontsize(16)\n",
    "        tick.label.set_rotation('vertical')\n",
    "\n",
    "plt.legend(loc='upper left')\n"
   ]
  },
  {
   "cell_type": "markdown",
   "metadata": {},
   "source": [
    "Alright, **now** this looks like a reasonable quantization of our distillation curve.\n",
    "\n",
    "putting it all together in code..."
   ]
  },
  {
   "cell_type": "code",
   "execution_count": 12,
   "metadata": {
    "collapsed": false
   },
   "outputs": [
    {
     "name": "stdout",
     "output_type": "stream",
     "text": [
      "oil =  ALASKA NORTH SLOPE (MIDDLE PIPELINE)\n",
      "oil.api =  29.9\n",
      "oil cut temps =  [ 313.15  353.15  393.15  433.15  473.15  573.15  673.15  773.15  873.15\n",
      "  973.15]\n",
      "oil.cuts.fractions =  [0.03, 0.07, 0.13, 0.19, 0.25, 0.42, 0.6, 0.76, 0.88, 0.95]\n",
      "f_res, f_asph =  0.0766216397354 0.0169777627026\n",
      "sum of all non-normalized fractions = 1.04359940244\n",
      "sum of all normalized fmasses = 1.0\n",
      "\n"
     ]
    }
   ],
   "source": [
    "def linear_curve(x, a, b):\n",
    "    return (a * x + b)\n",
    "\n",
    "def inverse_linear_curve(y, a, b):\n",
    "    return (y - b) / a\n",
    "\n",
    "def oil_normalized_cut_values(imported_rec, num_cuts=10):\n",
    "    f_res, f_asph = oil_inert_fractions(imported_rec)\n",
    "    \n",
    "    culled_cuts = list(oil_culled_cuts(imported_rec))\n",
    "\n",
    "    if len(culled_cuts) == 0:\n",
    "        if imported_rec.api is not None:\n",
    "            oil_api = imported_rec.api\n",
    "        else:\n",
    "            oil_rho = oil_density_at_temp(imported_rec, 288.15)\n",
    "            oil_api = estimate_api_from_density(oil_rho)\n",
    "\n",
    "        BP_i = estimate_cut_temps_from_api(oil_api)\n",
    "        fevap_i = np.cumsum(estimate_n_fmasses(f_res, f_asph))\n",
    "    else:\n",
    "        BP_i, fevap_i = zip(*[(c.vapor_temp_k, c.fraction)\n",
    "                              for c in culled_cuts])\n",
    "\n",
    "    popt, pcov = curve_fit(linear_curve, BP_i, fevap_i)\n",
    "\n",
    "    fevap_i = np.linspace(0.0, 1.0 - f_res - f_asph, (num_cuts * 2) + 1)[1:]\n",
    "    T_i = np.clip(inverse_linear(fevap_i, *popt), 0.0, 5000.0)\n",
    "\n",
    "    fevap_i = fevap_i.reshape(-1,2)[:,1]\n",
    "    T_i = T_i.reshape(-1,2)[:,0]\n",
    "\n",
    "    above_zero = T_i > 0.0\n",
    "    T_i = T_i[above_zero]\n",
    "    fevap_i = fevap_i[above_zero]\n",
    "\n",
    "    return T_i, fevap_i\n",
    "\n",
    "def oil_normalized_cut_temps(imported_rec, num_cuts=10):\n",
    "    cut_temps, _f_evap_i = oil_normalized_cut_values(imported_rec)\n",
    "    \n",
    "    return cut_temps\n",
    "\n",
    "def oil_normalized_cut_fmasses(imported_rec, num_cuts=10):\n",
    "    _cut_temps, f_evap_i = oil_normalized_cut_values(imported_rec)\n",
    "    \n",
    "    return estimate_fmasses_from_cuts(f_evap_i)\n",
    "\n",
    "def oil_normalized_cut_temps_fmasses(imported_rec, num_cuts=10):\n",
    "    cut_temps, f_evap_i = oil_normalized_cut_values(imported_rec)\n",
    "    \n",
    "    return cut_temps, estimate_fmasses_from_cuts(f_evap_i)\n",
    "\n",
    "\n",
    "\n",
    "#for obj in (ans_mp, ans_2002, bahia, arabian, canola):\n",
    "for obj in (ans_mp,):\n",
    "    print 'oil = ', obj.oil_name\n",
    "    print 'oil.api = ', obj.api\n",
    "    print 'oil cut temps = ', oil_cut_temps(obj)\n",
    "    fractions = [c.fraction for c in oil_culled_cuts(obj)]\n",
    "    print 'oil.cuts.fractions = ', fractions\n",
    "    f_res, f_asph = oil_inert_fractions(obj)\n",
    "    print 'f_res, f_asph = ', f_res, f_asph\n",
    "    if len(fractions) > 0:\n",
    "        print ('sum of all non-normalized fractions = {}'\n",
    "               .format(fractions[-1] + f_res + f_asph))\n",
    "    else:\n",
    "        print 'No measured fractions found.'\n",
    "\n",
    "    print ('sum of all normalized fmasses = {}'\n",
    "           .format(np.sum(oil_normalized_cut_fmasses(obj)) + f_res + f_asph))\n",
    "    print\n"
   ]
  },
  {
   "cell_type": "markdown",
   "metadata": {},
   "source": [
    "## <u>Oil Component Fractional Properties</u>"
   ]
  },
  {
   "cell_type": "markdown",
   "metadata": {},
   "source": [
    "Once we have estimated the distilled and inert fractions of our oil, we can then begin to break it down even further, into SARA component fractional properties.  This will include:\n",
    "\n",
    "- Component Molecular Weight\n",
    "- Component Density\n",
    "- Component Specific Gravity <i>(basically a representation of density)</i>\n",
    "- Saturate and Aromatic Mass Fractions <i>(we have already estimated our resins & asphaltenes, and they will not change)</i>"
   ]
  },
  {
   "cell_type": "markdown",
   "metadata": {},
   "source": [
    "We will organize our components in arrays that are consistently ordered so that all properties of any particular component will share a common index.  The ordering will be as follows:\n",
    "\n",
    "$$\n",
    "\\begin{align}\n",
    "[\n",
    "&C_{sat,0} \\, C_{arom,0} \\cr\n",
    "&C_{sat,1} \\, C_{arom,1} \\cr\n",
    "&C_{sat,2} \\, C_{arom,2} \\cr\n",
    "&... \\cr\n",
    "&C_{sat,N} \\, C_{arom,N} \\cr\n",
    "&C_{res} \\, C_{asph} ] \\cr\n",
    "\\end{align}\n",
    "$$"
   ]
  },
  {
   "cell_type": "markdown",
   "metadata": {},
   "source": [
    "### 17. Component Temperatures:"
   ]
  },
  {
   "cell_type": "markdown",
   "metadata": {},
   "source": [
    "Here we will define a temperature for each of our components.  This is a fairly straight forward copy of the cut temperatures in regards to the saturate and aromatic components.\n",
    "\n",
    "But our resins and asphaltenes need a temperature too.  We will choose a default value of $1015^\\circ K$ for them."
   ]
  },
  {
   "cell_type": "code",
   "execution_count": 13,
   "metadata": {
    "collapsed": true
   },
   "outputs": [],
   "source": [
    "def oil_component_temps(imported_rec):\n",
    "    cut_temps = oil_normalized_cut_temps(imported_rec)\n",
    "\n",
    "    component_temps = np.append([1015.0, 1015.0],\n",
    "                                zip(cut_temps, cut_temps))\n",
    "    return np.roll(component_temps, -2)\n"
   ]
  },
  {
   "cell_type": "markdown",
   "metadata": {},
   "source": [
    "### 18. Initial Component Molecular Weight:"
   ]
  },
  {
   "cell_type": "markdown",
   "metadata": {},
   "source": [
    "<i>\n",
    "Reference: CPPF eq. 2.48 and table 2.6\n",
    "</i>"
   ]
  },
  {
   "cell_type": "markdown",
   "metadata": {},
   "source": [
    "The saturate and aromatic component molecular weights can be calculated using the distillation cut temperatures as follows:"
   ]
  },
  {
   "cell_type": "markdown",
   "metadata": {},
   "source": [
    "$$\n",
    "\\begin{align}\n",
    "M_{w,sat,i} &= \\left( 49.677 \\cdot \\left[ 6.98291 - ln(1070 - T_i) \\right] \\right)^{3/2}\n",
    "\\qquad \\qquad \\qquad \\boldsymbol{(eq. 15)} \\cr\n",
    "M_{w,arom,i} &= \\left( 44.504 \\cdot \\left[ 6.911 - ln(1015 - T_i) \\right] \\right)^{3/2}\n",
    "\\qquad \\qquad \\qquad \\boldsymbol{(eq. 16)} \\cr\n",
    "\\end{align}\n",
    "$$"
   ]
  },
  {
   "cell_type": "markdown",
   "metadata": {},
   "source": [
    "So that we have a full complement of molecular weights for <u>all</u> components, We need some estimation method for our resins and asphaltenes.  Bill recommends using the following average values:\n",
    "$$\n",
    "\\begin{align}\n",
    "M_{w,res} &= \\text{molecular weight of our resin component} \\cr\n",
    "&= 800 \\, g/mol \\text{ at } 1015^\\circ K \\cr\n",
    "M_{w,asph} &= \\text{molecular weight of our asphaltene component} \\cr\n",
    "&= 1000 \\, g/mol \\text{ at } 1015^\\circ K \\cr\n",
    "\\end{align}\n",
    "$$"
   ]
  },
  {
   "cell_type": "code",
   "execution_count": 14,
   "metadata": {
    "collapsed": false
   },
   "outputs": [
    {
     "name": "stdout",
     "output_type": "stream",
     "text": [
      "oil =  ALASKA NORTH SLOPE (MIDDLE PIPELINE)\n",
      "component mol_wt =  [[   79.87780305    69.12113917]\n",
      " [  108.64997116    95.83581338]\n",
      " [  143.29934679   128.44923122]\n",
      " [  185.03374123   168.31003924]\n",
      " [  235.5421871    217.36221559]\n",
      " [  297.24730182   278.50203314]\n",
      " [  373.75782192   356.26148978]\n",
      " [  470.73764917   458.24068943]\n",
      " [  597.74261583   598.52643549]\n",
      " [  772.66404782   807.61243414]\n",
      " [  800.          1000.        ]]\n",
      "\n"
     ]
    }
   ],
   "source": [
    "def estimate_saturate_mol_wt(boiling_point):\n",
    "    T_i = np.array(boiling_point)\n",
    "    return (49.677 * (6.98291 - np.log(1070.0 - T_i))) ** (3.0 / 2.0)\n",
    "\n",
    "def estimate_aromatic_mol_wt(boiling_point):\n",
    "    T_i = np.array(boiling_point)\n",
    "    return (44.504 * (6.911 - np.log(1015.0 - T_i))) ** (3.0 / 2.0)\n",
    "\n",
    "def estimate_resin_mol_wt():\n",
    "    return 800.0\n",
    "\n",
    "def estimate_asphaltene_mol_wt():\n",
    "    return 1000.0\n",
    "\n",
    "def estimate_component_mol_wt(boiling_points):\n",
    "    rho_list = np.append([estimate_resin_mol_wt(),\n",
    "                          estimate_asphaltene_mol_wt()],\n",
    "                         zip(estimate_saturate_mol_wt(boiling_points),\n",
    "                             estimate_aromatic_mol_wt(boiling_points)))\n",
    "    return np.roll(rho_list, -2)\n",
    "\n",
    "def oil_component_mol_wt(imported_rec):\n",
    "    cut_temps = oil_normalized_cut_temps(imported_rec)\n",
    "\n",
    "    return estimate_component_mol_wt(cut_temps)\n",
    "\n",
    "\n",
    "#for obj in (ans_mp, ans_2002, bahia, arabian, canola):\n",
    "for obj in (ans_mp,):\n",
    "    print 'oil = ', obj.oil_name\n",
    "    print 'component mol_wt = ', oil_component_mol_wt(obj).reshape(-1,2)\n",
    "    print\n"
   ]
  },
  {
   "cell_type": "markdown",
   "metadata": {},
   "source": [
    "### 19. Component Density:"
   ]
  },
  {
   "cell_type": "markdown",
   "metadata": {},
   "source": [
    "<i>\n",
    "Reference: CPPF eq. 2.13 and table 9.6\n",
    "</i>"
   ]
  },
  {
   "cell_type": "markdown",
   "metadata": {},
   "source": [
    "Initial density estimate for both resin and asphaltene fractional componens is set to:"
   ]
  },
  {
   "cell_type": "markdown",
   "metadata": {},
   "source": [
    "$$\n",
    "\\begin{align}\n",
    "\\rho_{res} &= \\rho_{asph} = 1100 \\, kg/m^3 \\cr\n",
    "\\end{align}\n",
    "$$"
   ]
  },
  {
   "cell_type": "markdown",
   "metadata": {},
   "source": [
    "Then we define Watson characterization factors for saturates and aromatics:"
   ]
  },
  {
   "cell_type": "markdown",
   "metadata": {},
   "source": [
    "$$\n",
    "\\begin{align}\n",
    "K_{arom,w} &= \\text{Watson characterization factor for aromatics} \\cr\n",
    "&= 10 \\cr\n",
    "K_{sat,w} &= \\text{Watson characterization factor for saturates} \\cr\n",
    "&= 12 \\cr\n",
    "\\end{align}\n",
    "$$"
   ]
  },
  {
   "cell_type": "markdown",
   "metadata": {},
   "source": [
    "Then we apply the appropriate Watson characterization to calculate an initial trial estimate for each density component:"
   ]
  },
  {
   "cell_type": "markdown",
   "metadata": {},
   "source": [
    "$$\n",
    "\\begin{align}\n",
    "T_i &= \\text{component boiling point } (\\,^\\circ K) \\cr\n",
    "\\cr\n",
    "\\rho try_{arom,i} &= 1000 \\cdot {\\root 3 \\of { 1.8 \\cdot T_i} \\over K_{arom,w} }\n",
    "\\qquad \\qquad \\boldsymbol{(eq. 17)} \\cr\n",
    "\\rho try_{sat,i} &= 1000 \\cdot {\\root 3 \\of { 1.8 \\cdot T_i} \\over K_{sat,w} }\n",
    "\\qquad \\qquad \\boldsymbol{(eq. 18)} \\cr\n",
    "\\end{align}\n",
    "$$"
   ]
  },
  {
   "cell_type": "markdown",
   "metadata": {},
   "source": [
    "This should be a reasonable estimate.  However, the average density (fractionally weighted average of the component densities) must match the measured value or the value from approximation (eqs. 1, 2).<br>\n",
    "To find the scaling factor between our densities and the aggregate density, we do the following:"
   ]
  },
  {
   "cell_type": "markdown",
   "metadata": {},
   "source": [
    "$$\n",
    "\\begin{align}\n",
    "j &= \\text{index representing all oil components } \\{ j \\in \\Bbb Z \\} \\cr\n",
    "jMAX &= \\text{index of the last oil component} \\cr\n",
    "&= 2N + 2 \\cr\n",
    "fmass0_j &= \\text{the fractional mass of our jth component} \\cr\n",
    "\\cr\n",
    "Cf_{dens} &= { \\rho 0_{oil} \\over \\sum_{j=1}^{jMAX} fmass0_j \\cdot \\rho try_j}\n",
    "\\qquad \\qquad \\boldsymbol{(eq. 19)} \\cr\n",
    "\\end{align}\n",
    "$$"
   ]
  },
  {
   "cell_type": "markdown",
   "metadata": {},
   "source": [
    "Then we evenly apply this scaling factor to our trial densities to come up with densities that are consistent with the aggregate density."
   ]
  },
  {
   "cell_type": "markdown",
   "metadata": {},
   "source": [
    "$$\n",
    "\\begin{align}\n",
    "\\rho_j = Cf_{dens} \\cdot \\rho try_j \\qquad \\qquad \\boldsymbol{(eq. 20)} \\cr\n",
    "\\end{align}\n",
    "$$"
   ]
  },
  {
   "cell_type": "markdown",
   "metadata": {},
   "source": [
    "<center><b>--- Begin JamesM Comments ---</b></center>"
   ]
  },
  {
   "cell_type": "markdown",
   "metadata": {},
   "source": [
    "Well, I don't know about the resin & asphaltene densities.  It seems that at the higher temperatures, the Aromatic densities get slightly denser than the inert components.  This doesn't seem right."
   ]
  },
  {
   "cell_type": "markdown",
   "metadata": {},
   "source": [
    "<center><b>--- End JamesM Comments ---</b></center>"
   ]
  },
  {
   "cell_type": "code",
   "execution_count": 15,
   "metadata": {
    "collapsed": false
   },
   "outputs": [
    {
     "name": "stdout",
     "output_type": "stream",
     "text": [
      "oil =  ALASKA NORTH SLOPE (MIDDLE PIPELINE)\n",
      "component densities from oil =  [[  698.98635463   838.78362555]\n",
      " [  739.55939262   887.47127114]\n",
      " [  776.11098612   931.33318334]\n",
      " [  809.51024975   971.41229971]\n",
      " [  840.3598753   1008.43185036]\n",
      " [  869.09696831  1042.91636197]\n",
      " [  896.04981383  1075.25977659]\n",
      " [  921.47197405  1105.76636886]\n",
      " [  945.56384999  1134.67661999]\n",
      " [  968.48689805  1162.18427766]\n",
      " [ 1100.          1100.        ]]\n",
      "\n"
     ]
    }
   ],
   "source": [
    "def estimate_trial_densities(boiling_points, watson_factor):\n",
    "    return 1000.0 * (1.8 * boiling_points) ** (1.0 / 3.0) / watson_factor\n",
    "\n",
    "def estimate_saturate_densities(boiling_points):\n",
    "    return estimate_trial_densities(boiling_points, 12)\n",
    "\n",
    "def estimate_aromatic_densities(boiling_points):\n",
    "    return estimate_trial_densities(boiling_points, 10)\n",
    "\n",
    "def estimate_resin_density():\n",
    "    return 1100.0\n",
    "\n",
    "def estimate_asphaltene_density():\n",
    "    return 1100.0\n",
    "\n",
    "def estimate_component_densities(boiling_points):\n",
    "    rho_list = np.append([estimate_resin_density(),\n",
    "                          estimate_asphaltene_density()],\n",
    "                         zip(estimate_saturate_densities(boiling_points),\n",
    "                             estimate_aromatic_densities(boiling_points)))\n",
    "    return np.roll(rho_list, -2)\n",
    "\n",
    "def oil_component_densities(imported_rec):\n",
    "    cut_temps = oil_normalized_cut_temps(imported_rec)\n",
    "    return estimate_component_densities(cut_temps)\n",
    "    \n",
    "\n",
    "#for obj in (ans_mp, ans_2002, bahia, arabian, canola):\n",
    "for obj in (ans_mp,):\n",
    "    print 'oil = ', obj.oil_name\n",
    "    print 'component densities from oil = ', oil_component_densities(obj).reshape(-1, 2)\n",
    "    print\n"
   ]
  },
  {
   "cell_type": "markdown",
   "metadata": {},
   "source": [
    "### 20. Component Specific Gravity:"
   ]
  },
  {
   "cell_type": "markdown",
   "metadata": {},
   "source": [
    "Specific Gravity of a substance is the ratio of density of the substance to the density of another substance (typically water) at a specified temperature.<br>"
   ]
  },
  {
   "cell_type": "markdown",
   "metadata": {},
   "source": [
    "<i>\n",
    "Reference: https://en.wikipedia.org/wiki/Specific_gravity\n",
    "</i>"
   ]
  },
  {
   "cell_type": "markdown",
   "metadata": {},
   "source": [
    "For simplicity, we will make the assumption that our water density is $1000 \\, kg/m^3$.  This is water's density at $4^\\circ C$, Which is the maximum density it can achieve.<br>\n",
    "So our estimation of the specific gravity of our oil components will be:"
   ]
  },
  {
   "cell_type": "markdown",
   "metadata": {},
   "source": [
    "$$\n",
    "\\begin{align}\n",
    "SG_j &= \\rho_j / 1000 \\qquad \\qquad \\boldsymbol{(eq. 21)} \\cr\n",
    "\\end{align}\n",
    "$$"
   ]
  },
  {
   "cell_type": "code",
   "execution_count": 16,
   "metadata": {
    "collapsed": false
   },
   "outputs": [
    {
     "name": "stdout",
     "output_type": "stream",
     "text": [
      "oil =  ALASKA NORTH SLOPE (MIDDLE PIPELINE)\n",
      "specific gravity =  [[ 0.69898635  0.83878363]\n",
      " [ 0.73955939  0.88747127]\n",
      " [ 0.77611099  0.93133318]\n",
      " [ 0.80951025  0.9714123 ]\n",
      " [ 0.84035988  1.00843185]\n",
      " [ 0.86909697  1.04291636]\n",
      " [ 0.89604981  1.07525978]\n",
      " [ 0.92147197  1.10576637]\n",
      " [ 0.94556385  1.13467662]\n",
      " [ 0.9684869   1.16218428]\n",
      " [ 1.1         1.1       ]]\n",
      "\n"
     ]
    }
   ],
   "source": [
    "def estimate_specific_gravity(rho_kg_m_3):\n",
    "    return rho_kg_m_3 / 1000.0\n",
    "\n",
    "def oil_component_specific_gravity(imported_rec):\n",
    "    rho_list = oil_component_densities(imported_rec)\n",
    "    \n",
    "    return estimate_specific_gravity(rho_list)\n",
    "\n",
    "\n",
    "#for obj in (ans_mp, ans_2002, bahia, arabian, canola):\n",
    "for obj in (ans_mp,):\n",
    "    print 'oil = ', obj.oil_name\n",
    "    print 'specific gravity = ', oil_component_specific_gravity(obj).reshape(-1, 2)\n",
    "    print\n"
   ]
  },
  {
   "cell_type": "markdown",
   "metadata": {},
   "source": [
    "### 21. Initial Saturate and Aromatic Mass Fractions:"
   ]
  },
  {
   "cell_type": "markdown",
   "metadata": {},
   "source": [
    "<i>\n",
    "References:\n",
    "  <ul>\n",
    "    <li>CPPF eqs. 2.114, 2.115, 3.77 and 3.78</li>\n",
    "    <li>Huang, E K., Characterization and Thermodynamic Correlations for Undefined Hydrocarbon Mixtures, Ph.D. Dissertation, Pennsylvania State University, University Park, PA, 1977</li>\n",
    "  </ul>\n",
    "</i>"
   ]
  },
  {
   "cell_type": "markdown",
   "metadata": {},
   "source": [
    "We start by computing our saturate mass fractions.  This is done using the distillation cuts, and the specific gravity, and molecular weight of our saturate components."
   ]
  },
  {
   "cell_type": "markdown",
   "metadata": {},
   "source": [
    "Using Riazi, we perform a number of intermediate calculations to finally come up with the estimation for saturate component fractional mass.\n",
    "\n",
    "First is a dimensionless parameter $I$, that was first used by Huang to correlate hydrocarbon properties.  This is necessary to calculate the saturate refractive index $n$.<br>\n",
    "\n",
    "Next is the calculation of refractive index $n$.  This is necessary to calculate $m$.\n",
    "\n",
    "The next intermediate calculation $m$ can be best described as a hydrocarbon grouping parameter, Riazi describes $m$ as a parameter that \"not only separates paraffins and aromatics but also identifies various hydrocarbon types\", and is (AFAIK) based on an observed correlation of refractive index and Molecular weight."
   ]
  },
  {
   "cell_type": "markdown",
   "metadata": {},
   "source": [
    "$$\n",
    "\\begin{align}\n",
    "T_i &= \\text{distillation cut boiling point} \\cr\n",
    "M_{w,sat,i} &= \\text{molecular weight of our saturate component} \\cr\n",
    "SG_{sat, i} &= \\text{specific gravity of saturate component} \\cr\n",
    "\\cr\n",
    "I &= \\text{hydrocarbon characterization parameter} \\cr\n",
    "&= 0.3773 T_i^{-0.02269} SG_{sat,i}^{0.9182} \\qquad \\qquad \\boldsymbol{(eq. 22)} \\cr\n",
    "\\cr\n",
    "n &= \\text{refractive index of our saturate component at } 20^\\circ C \\cr\n",
    "&= \\left( 1 + 2 I \\over 1 - I \\right)^{1/2} \\qquad \\qquad \\qquad \\qquad \\boldsymbol{(eq. 23)} \\cr\n",
    "\\cr\n",
    "m &= \\text{hydrocarbon grouping parameter} \\cr\n",
    "&= M_{w,sat,i}(n - 1.475) \\qquad \\qquad \\qquad \\boldsymbol{(eq. 24)} \\cr\n",
    "\\end{align}\n",
    "$$"
   ]
  },
  {
   "cell_type": "markdown",
   "metadata": {},
   "source": [
    "And finally, after these intermediate calculations are completed, we can estimate the saturate component fractional mass.\n"
   ]
  },
  {
   "cell_type": "markdown",
   "metadata": {},
   "source": [
    "$$\n",
    "\\begin{align}\n",
    "fmass_i &= \\text{distillation cut fractional mass} \\cr\n",
    "\\cr\n",
    "f_{sat,i} &= (fmass_i \\cdot (2.24 - 1.98 \\cdot SG_{sat,i} - 0.009 \\cdot m))_{\\bot 0}^{\\top fmass_i}\n",
    "\\qquad \\qquad \\boldsymbol{(eq. 25)} \\cr\n",
    "\\end{align}\n",
    "$$"
   ]
  },
  {
   "cell_type": "markdown",
   "metadata": {},
   "source": [
    "After our saturate mass fraction has been computed, we compute our aromatic mass fraction simply as:"
   ]
  },
  {
   "cell_type": "markdown",
   "metadata": {},
   "source": [
    "$$\n",
    "\\begin{align}\n",
    "f_{arom,i} &= fmass_i - f_{sat,i} \\qquad \\qquad \\qquad \\boldsymbol{(eq. 26)} \\cr\n",
    "\\end{align}\n",
    "$$"
   ]
  },
  {
   "cell_type": "code",
   "execution_count": 17,
   "metadata": {
    "collapsed": false
   },
   "outputs": [
    {
     "name": "stdout",
     "output_type": "stream",
     "text": [
      "oil =  ALASKA NORTH SLOPE (MIDDLE PIPELINE)\n",
      "oil.cuts.fractions =  [0.03, 0.07, 0.13, 0.19, 0.25, 0.42, 0.6, 0.76, 0.88, 0.95]\n",
      "oil.cuts.vapor_temp_k =  [313.15, 353.15, 393.15, 433.15, 473.15, 573.15, 673.15, 773.15, 873.15, 973.15]\n",
      "component mass fractions =  [[ 0.08261257  0.00802749]\n",
      " [ 0.07533448  0.01530558]\n",
      " [ 0.06816963  0.02247043]\n",
      " [ 0.06080267  0.02983739]\n",
      " [ 0.05291778  0.03772228]\n",
      " [ 0.04415324  0.04648682]\n",
      " [ 0.0340444   0.05659566]\n",
      " [ 0.02192987  0.06871019]\n",
      " [ 0.00676619  0.08387387]\n",
      " [ 0.          0.09064006]\n",
      " [ 0.07662164  0.01697776]]\n",
      "sum(component mass fractions) =  1.0\n",
      "\n"
     ]
    }
   ],
   "source": [
    "def hydrocarbon_characterization_param(specific_gravity, temp_k):\n",
    "    T_i = temp_k\n",
    "    SG_i = specific_gravity\n",
    "    return 0.3773 * (T_i ** -0.02269) * (SG_i ** 0.9182)\n",
    "\n",
    "def refractive_index(hc_char_param):\n",
    "    I = hc_char_param\n",
    "    return ((1 + 2 * I) / (1 - I)) ** (1.0 / 2.0)\n",
    "\n",
    "def hydrocarbon_grouping_param(mol_wt, specific_gravity, temp_k):\n",
    "    I = hydrocarbon_characterization_param(specific_gravity, temp_k)\n",
    "    n = refractive_index(I)\n",
    "\n",
    "    return mol_wt * (n - 1.475)\n",
    "\n",
    "def estimate_saturate_mass_fraction(fmass_i, mol_wt, specific_gravity, temp_k):\n",
    "    SG_sat_i = specific_gravity\n",
    "    m = hydrocarbon_grouping_param(mol_wt, SG_sat_i, temp_k)\n",
    "    \n",
    "    X_P = 3.7387 - 4.0829 * SG_sat_i + 0.014772 * m\n",
    "    X_N = -1.5027 + 2.10152 * SG_sat_i - 0.02388 * m\n",
    "\n",
    "    f_sat_i = fmass_i * (X_P + X_N)\n",
    "    f_sat_i = np.clip(f_sat_i, 0.0, fmass_i)\n",
    "\n",
    "    return f_sat_i\n",
    "\n",
    "def oil_component_mass_fractions(imported_rec):\n",
    "    f_res, f_asph = oil_inert_fractions(imported_rec)\n",
    "    cut_temps, fmass_i = oil_normalized_cut_temps_fmasses(imported_rec)\n",
    "\n",
    "    sat_mask = np.array(range(len(cut_temps))) * 2\n",
    "\n",
    "    sat_temps = oil_component_temps(imported_rec)[sat_mask]\n",
    "    sat_mol_wts = estimate_component_mol_wt(cut_temps)[sat_mask]\n",
    "    sat_rhos = estimate_component_densities(cut_temps)[sat_mask]\n",
    "    sat_SGs = estimate_specific_gravity(sat_rhos)\n",
    "\n",
    "    f_sat_i = estimate_saturate_mass_fraction(fmass_i,\n",
    "                                              sat_mol_wts,\n",
    "                                              sat_SGs,\n",
    "                                              sat_temps)\n",
    "    f_arom_i = fmass_i - f_sat_i\n",
    "\n",
    "    f_all = [n for l in zip(f_sat_i, f_arom_i) for n in l] + [f_res, f_asph]\n",
    "    \n",
    "    return np.array(f_all)\n",
    "\n",
    "#for obj in (ans_mp, ans_2002, bahia, arabian, canola):\n",
    "for obj in (ans_mp,):\n",
    "    print 'oil = ', obj.oil_name\n",
    "    print 'oil.cuts.fractions = ', [c.fraction for c in obj.cuts]\n",
    "    print 'oil.cuts.vapor_temp_k = ', [c.vapor_temp_k for c in obj.cuts]\n",
    "    print 'component mass fractions = ', oil_component_mass_fractions(obj).reshape(-1, 2)\n",
    "    print 'sum(component mass fractions) = ', np.sum(oil_component_mass_fractions(obj))\n",
    "    print\n"
   ]
  },
  {
   "cell_type": "markdown",
   "metadata": {},
   "source": [
    "<center><b>--- Begin JamesM Comments ---</b></center>"
   ]
  },
  {
   "cell_type": "markdown",
   "metadata": {},
   "source": [
    "After staring at Riazi's equations for awhile and reading the surrounding descriptions, I am not convinced that we should be using $M_{w,sat,i}$ and $SG_{sat,i}$ for computing the saturate fractional mass.  Instead, I think it is possible that we should use the average molecular weight and specific gravity of the distillation cut.<br>\n",
    "That is, if we can determine it.\n",
    "$$\n",
    "\\begin{align}\n",
    "fmass_i &= \\text{distillation cut fractional mass} \\cr\n",
    "T_i &= \\text{distillation cut boiling point} \\cr\n",
    "M_{w,i} &= \\text{distillation cut molecular weight} \\cr\n",
    "SG_i &= \\text{distillation cut specific gravity} \\cr\n",
    "\\cr\n",
    "I &= 0.3773 T_i^{-0.02269} SG_i^{0.9182} \\cr\n",
    "\\cr\n",
    "n &= \\left( 1 + 2 I \\over 1 - I \\right)^{1/2} \\cr\n",
    "\\cr\n",
    "m &= M_{w,i}(n - 1.475) \\cr\n",
    "\\cr\n",
    "f_{sat,i} &= (fmass_i \\cdot (2.24 - 1.98 \\cdot SG_i - 0.009 \\cdot m))_{\\bot 0}^{\\top fmass_i} \\cr\n",
    "\\end{align}\n",
    "$$"
   ]
  },
  {
   "cell_type": "markdown",
   "metadata": {},
   "source": [
    "I am not sure, but it might be possible to do the following:\n",
    "\n",
    "- Start by assuming a 50/50 mix of saturates and aromatics for a particular cut\n",
    "- Estimate the aggregate molecular weight and specific gravity of our mix\n",
    "- Figure out the saturate and aromatic fractions using the Riazi correlation\n",
    "- Repeat using the newly calculated mix until the mix converges (will it converge?)"
   ]
  },
  {
   "cell_type": "code",
   "execution_count": 18,
   "metadata": {
    "collapsed": false
   },
   "outputs": [
    {
     "name": "stdout",
     "output_type": "stream",
     "text": [
      "0.5 0.5\n",
      "0.765877772496 0.234122227504\n",
      "0.853589462036 0.146410537964\n",
      "0.882725805954 0.117274194046\n",
      "0.892426356465 0.107573643535\n",
      "0.895658449095 0.104341550905\n",
      "0.896735607832 0.103264392168\n",
      "0.897094622141 0.102905377859\n",
      "0.897214284029 0.102785715971\n",
      "0.897254168511 0.102745831489\n",
      "0.897267462441 0.102732537559\n",
      "0.897271893457 0.102728106543\n",
      "0.897273370364 0.102726629636\n",
      "0.897273862634 0.102726137366\n",
      "0.897274026714 0.102725973286\n",
      "0.897274081403 0.102725918597\n",
      "0.897274099632 0.102725900368\n",
      "0.897274105708 0.102725894292\n",
      "0.897274107733 0.102725892267\n",
      "0.897274108408 0.102725891592\n",
      "0.897274108633 0.102725891367\n"
     ]
    }
   ],
   "source": [
    "\n",
    "def verify_cut_fractional_masses(fmass_i, T_i,\n",
    "                                 f_sat_i, f_arom_i):\n",
    "    assert np.all(fmass_i == f_sat_i + f_arom_i)\n",
    "\n",
    "    M_w_sat_i = estimate_saturate_mol_wt(T_i)\n",
    "    M_w_arom_i = estimate_aromatic_mol_wt(T_i)\n",
    "\n",
    "    M_w_avg_i = (M_w_sat_i * f_sat_i / fmass_i +\n",
    "                 M_w_arom_i * f_arom_i / fmass_i)\n",
    "\n",
    "    # estimate specific gravity\n",
    "    rho_sat_i = estimate_saturate_densities(T_i)\n",
    "    SG_sat_i = estimate_specific_gravity(rho_sat_i)\n",
    "\n",
    "    rho_arom_i = estimate_aromatic_densities(T_i)\n",
    "    SG_arom_i = estimate_specific_gravity(rho_arom_i)\n",
    "\n",
    "    SG_avg_i = (SG_sat_i * f_sat_i / fmass_i +\n",
    "                SG_arom_i * f_arom_i / fmass_i)\n",
    "\n",
    "    f_sat_i = estimate_saturate_mass_fraction(fmass_i,\n",
    "                                              M_w_avg_i,\n",
    "                                              SG_avg_i,\n",
    "                                              T_i)\n",
    "    f_arom_i = fmass_i - f_sat_i\n",
    "    \n",
    "    # Riazi states that CPPF eqs. 3.77 and 3.78 only work with\n",
    "    # molecular weights less than 200.  So we will punt\n",
    "    # with Bill's recommendation of 50/50 in those cases.\n",
    "    # In the future we might be able to figure out how\n",
    "    # to implement CPPF eqs. 3.81 and 3.82, which work with\n",
    "    # the molecular weights above 200.\n",
    "    above_200 = M_w_avg_i > 200.0\n",
    "    try:\n",
    "        f_sat_i[above_200] = fmass_i[above_200] / 2.0\n",
    "        f_arom_i[above_200] = fmass_i[above_200] / 2.0\n",
    "    except TypeError:\n",
    "        # numpy array assignment failed, try a scalar assignment\n",
    "        if above_200:\n",
    "            f_sat_i = fmass_i / 2.0\n",
    "            f_arom_i = fmass_i / 2.0\n",
    "        \n",
    "\n",
    "    return f_sat_i, f_arom_i\n",
    "\n",
    "fmass_i, f_sat_i, f_arom_i = 1.0, 0.5, 0.5\n",
    "print f_sat_i, f_arom_i\n",
    "for i in range(20):\n",
    "    f_sat_i, f_arom_i = verify_cut_fractional_masses(fmass_i, 313.15,\n",
    "                                                     f_sat_i, f_arom_i)\n",
    "    print f_sat_i, f_arom_i\n"
   ]
  },
  {
   "cell_type": "markdown",
   "metadata": {},
   "source": [
    "Well, it does seem to converge, at least with the example above.  Let's try plotting an oil record."
   ]
  },
  {
   "cell_type": "code",
   "execution_count": 20,
   "metadata": {
    "collapsed": false
   },
   "outputs": [
    {
     "data": {
      "text/plain": [
       "<matplotlib.legend.Legend at 0x113ca6290>"
      ]
     },
     "execution_count": 20,
     "metadata": {},
     "output_type": "execute_result"
    },
    {
     "data": {
      "image/png": "[encoded data removed]",
      "text/plain": [
       "<matplotlib.figure.Figure at 0x10f0daed0>"
      ]
     },
     "metadata": {},
     "output_type": "display_data"
    }
   ],
   "source": [
    "plt.figure(1, figsize=(12,6))\n",
    "plt.subplot(111)\n",
    "\n",
    "obj = ans_mp\n",
    "\n",
    "plt.xlabel(r'$T_i$', fontsize=16)\n",
    "plt.ylabel(r'$f_{sat,i}$', fontsize=16)\n",
    "plt.grid()\n",
    "plt.title(r'Convergence of $f_{{sat,i}}$ for oil {}'.format(obj.oil_name),\n",
    "          fontsize=18)\n",
    "\n",
    "#for obj in (ans_mp, ans_2002, bahia, arabian, canola):\n",
    "cut_temps, fmass_i = oil_normalized_cut_temps_fmasses(obj)\n",
    "\n",
    "f_sat_i = fmass_i / 2.0\n",
    "f_arom_i = fmass_i / 2.0\n",
    "\n",
    "label=r'Initial $f_{sat,i}$'\n",
    "color, linestyle, marker = 'b', 'None', 'o'\n",
    "plt.plot(cut_temps, f_sat_i,\n",
    "         color=color, linestyle=linestyle, marker=marker, label=label)\n",
    "\n",
    "for i in range(20):\n",
    "    color, linestyle, marker = 'b', 'None', '.'\n",
    "    label=''\n",
    "\n",
    "    f_sat_i, f_arom_i = verify_cut_fractional_masses(fmass_i, cut_temps,\n",
    "                                                     f_sat_i, f_arom_i)\n",
    "\n",
    "    plt.plot(cut_temps, f_sat_i,\n",
    "             color=color, linestyle=linestyle, marker=marker, label=label)\n",
    "\n",
    "color, linestyle, marker = '#00ff00', 'None', 'o'\n",
    "label=r'Final $f_{sat,i}$'\n",
    "plt.plot(cut_temps, f_sat_i,\n",
    "         color=color, linestyle=linestyle, marker=marker, label=label)\n",
    "color, linestyle, marker = '#00ff00', '-', 'o'\n",
    "label=''\n",
    "plt.plot(cut_temps, f_sat_i,\n",
    "         color=color, linestyle=linestyle, marker=marker, label=label)\n",
    "\n",
    "plt.legend(loc='upper right')\n"
   ]
  },
  {
   "cell_type": "markdown",
   "metadata": {},
   "source": [
    "Well, our saturate fractions do seem to converge into values that indicate the following:\n",
    "\n",
    "- There is an inversely proportional relationship with boiling point.  The trend looks more-or-less linear.\n",
    "- The temperature at which we achieve a 50/50 mix of saturates and aromatics appears to be somewhere around $470^\\circ K$.\n",
    "- The temperature at which we have lost all saturates is somewhere between $600^\\circ K$ and $630^\\circ K$. \n",
    "\n",
    "But I can't be completely sure if this is how our saturates are supposed to behave.  For one thing, this would also indicate that the fraction of aromatics in our cuts would proportionally increase until about $600^\\circ K$ or so, where the distilled fractions become 100% aromatics.  Again, I can't be sure if this is how aromatics are supposed to behave.\n",
    "\n",
    "I think I will submit this line of thinking to Bill & Co. before actually putting this into our estimations code."
   ]
  },
  {
   "cell_type": "markdown",
   "metadata": {},
   "source": [
    "<center><b>--- End JamesM Comments ---</b></center>"
   ]
  },
  {
   "cell_type": "markdown",
   "metadata": {},
   "source": [
    "## <u>Oil Miscellaneous Properties</u>"
   ]
  },
  {
   "cell_type": "markdown",
   "metadata": {},
   "source": [
    "These are oil properties that can be computed based on the previous computations, and in some cases are simply assigned a default value."
   ]
  },
  {
   "cell_type": "markdown",
   "metadata": {},
   "source": [
    "### 22. Oil-Water Surface Tension:"
   ]
  },
  {
   "cell_type": "markdown",
   "metadata": {},
   "source": [
    "If the imported oil record does not contain a value for surface tension, then we will estimate it from the oil's API:"
   ]
  },
  {
   "cell_type": "markdown",
   "metadata": {},
   "source": [
    "$$\n",
    "\\begin{align}\n",
    "\\sigma_{o-w} &= \\text{oil/water surface tension at } 288.15^\\circ K \\,\\, (N/m) \\cr\n",
    "&= 0.001 \\cdot (39 - 0.2571 \\cdot API) \\qquad \\qquad \\qquad \\qquad \\boldsymbol{(eq. 27)} \\cr\n",
    "\\end{align}\n",
    "$$"
   ]
  },
  {
   "cell_type": "markdown",
   "metadata": {},
   "source": [
    "<i>\n",
    "Reference: Baker, O. and W. Swerdloff (1956), Calculation of Surface Tensions - Finding the Surface Tension of Hydrocarbon Liquids, Oil Gas J. (2 January 1956) pp. 125\n",
    "</i>"
   ]
  },
  {
   "cell_type": "code",
   "execution_count": 21,
   "metadata": {
    "collapsed": false
   },
   "outputs": [
    {
     "name": "stdout",
     "output_type": "stream",
     "text": [
      "oil =  ALASKA NORTH SLOPE (MIDDLE PIPELINE)\n",
      "oil/water surface tension =  0.03131271\n",
      "oil/water surface tension =  (0.0238, 273.15)\n",
      "\n"
     ]
    }
   ],
   "source": [
    "def o_w_surface_tension_from_api(api):\n",
    "    if api is not None:\n",
    "        return 0.001 * (39.0 - 0.2571 * api)\n",
    "    else:\n",
    "        return None\n",
    "\n",
    "def oil_o_w_surface_tension(imported_rec):\n",
    "    if (imported_rec.oil_water_interfacial_tension_n_m is not None and\n",
    "            imported_rec.oil_water_interfacial_tension_ref_temp_k is not None):\n",
    "        ow_st = imported_rec.oil_water_interfacial_tension_n_m\n",
    "        ref_temp_k = imported_rec.oil_water_interfacial_tension_ref_temp_k\n",
    "\n",
    "        return ow_st, ref_temp_k\n",
    "    elif imported_rec.api is not None:\n",
    "        ow_st = oil_water_surface_tension_from_api(imported_rec.api)\n",
    "\n",
    "        return ow_st, 273.15 + 15\n",
    "    else:\n",
    "        est_api = api_from_density(oil_density_at_temp(imported_rec, 288.15))\n",
    "        ow_st = oil_water_surface_tension_from_api(est_api)\n",
    "\n",
    "        return ow_st, 273.15 + 15\n",
    "\n",
    "#for obj in (ans_mp, ans_2002, bahia, arabian, canola):\n",
    "for obj in (ans_mp,):\n",
    "    print 'oil = ', obj.oil_name\n",
    "    print 'oil/water surface tension = ', o_w_surface_tension_from_api(obj.api)\n",
    "    print 'oil/water surface tension = ', oil_o_w_surface_tension(obj)\n",
    "    print"
   ]
  },
  {
   "cell_type": "markdown",
   "metadata": {},
   "source": [
    "### 23. Pour Point:"
   ]
  },
  {
   "cell_type": "markdown",
   "metadata": {},
   "source": [
    "If the imported oil record contains a pour point property then we will simply use it when building the final oil record.<br>\n",
    "Otherwise, if we have measured molecular weights for the distillation fractions (unusual) then use method <b>(A)</b>.<br>\n",
    "Otherwise, use method <b>(B)</b>"
   ]
  },
  {
   "cell_type": "markdown",
   "metadata": {},
   "source": [
    "<b>(A)</b> If molecular weight and mass fractions are given for all the oil fractions $j = 1 \\dots jMAX$, then an average molecular weight for the whole oil $\\bar M_w$ can be estimated as:"
   ]
  },
  {
   "cell_type": "markdown",
   "metadata": {},
   "source": [
    "$$\n",
    "\\begin{align}\n",
    "N &= \\text{number of distillation cuts} \\cr\n",
    "jMAX &= 2 (N + 1) \\cr\n",
    "M_{w,j} &= \\text{molecular weight of component j} (kg/kmole)\\cr\n",
    "fmass_j &= \\text{mass fraction of component j} \\cr\n",
    "\\cr\n",
    "\\bar M_w &= \\sum_1^{jMAX} M_{w,j} \\cdot fmass_j \\qquad \\qquad \\qquad \\qquad \\boldsymbol{(eq. 28)} \\cr\n",
    "\\end{align}\n",
    "$$"
   ]
  },
  {
   "cell_type": "markdown",
   "metadata": {},
   "source": [
    "<i>(Note: The calculation for $jMAX$ may seem counterintuitive. It simply states that we sum over all the SARA fractions, each distillation cut represents 1 saturate and 1 aromatic fraction, and that resins and asphaltenes do not have distillation cut data.  So for $N$ distillation cuts, we would calculate $2 N + 2 \\rightarrow 2(N + 1)$)</i>"
   ]
  },
  {
   "cell_type": "markdown",
   "metadata": {},
   "source": [
    "Define $SG = \\rho_{oil} / 1000 \\cdot kg$ as specific gravity"
   ]
  },
  {
   "cell_type": "markdown",
   "metadata": {},
   "source": [
    "Then, using CPPF eq. 3.119, our pour point temperature is calculated as:"
   ]
  },
  {
   "cell_type": "markdown",
   "metadata": {},
   "source": [
    "$$\n",
    "\\begin{align}\n",
    "T_{API} &= \\text{reference temperature for oil kinematic viscosity} \\cr\n",
    "&= 311^\\circ K \\cr\n",
    "\\cr\n",
    "T_{pp} &= 130.47 SG^{2.97} \\cdot \\bar M_w^{0.61235 - 0.47357 SG} \\cdot v_{oil}^{0.31 - 0.3283 SG} \\cdot T_{API} \\qquad \\qquad \\boldsymbol{(eq. 29)} \\cr\n",
    "\\end{align}\n",
    "$$"
   ]
  },
  {
   "cell_type": "markdown",
   "metadata": {},
   "source": [
    "<b>(B)</b> Pour point is estimated by reversing the viscosity-temperature correction in Adios2 and assuming that, at the pour point, viscosity is equal to 1 million centistokes."
   ]
  },
  {
   "cell_type": "markdown",
   "metadata": {},
   "source": [
    "$$\n",
    "\\begin{align}\n",
    "c_{v1} &= 5000 K \\cr\n",
    "\\cr\n",
    "T_{pp} &= { c_{v1} \\cdot T_{ref} \\over c_{v1} - T_{ref} ln(v_{ref}) }\n",
    "\\qquad \\qquad \\qquad \\qquad \\boldsymbol{(eq. 30)} \\cr\n",
    "\\end{align}\n",
    "$$"
   ]
  },
  {
   "cell_type": "markdown",
   "metadata": {},
   "source": [
    "<center><b>--- Begin JamesM Comments ---</b></center>"
   ]
  },
  {
   "cell_type": "markdown",
   "metadata": {},
   "source": [
    "In <b>(A)</b>, we reference CPPF eq. 3.119, which seems to not include $T_{API}$ as an input.  Riazi describes this equation as:"
   ]
  },
  {
   "cell_type": "markdown",
   "metadata": {},
   "source": [
    "$$\n",
    "\\begin{align}\n",
    "SG &= \\text{oil specific gravity} \\cr\n",
    "M &= \\text{oil molecular weight} \\cr\n",
    "v_{38(100)} &= \\text{oil kinematic viscosity at } 37.8^\\circ C (100^\\circ F) \\cr\n",
    "\\cr\n",
    "T_P &= \\text{pour point (ASTM D 97) in } \\,^\\circ K \\cr\n",
    "&= 130.47 [SG^{2.970566}] \\cdot [M^{(0.61235 - 0.47357 SG)}] \\cdot [v_{38(100)}^{(0.310331 - 0.32834 SG)}] \\cr\n",
    "\\end{align}\n",
    "$$"
   ]
  },
  {
   "cell_type": "markdown",
   "metadata": {},
   "source": [
    "So I think that eq. 6 is not correct."
   ]
  },
  {
   "cell_type": "markdown",
   "metadata": {},
   "source": [
    "Beyond that, I think that we would only use this formula if we had actual measured component densities in our imported oil record, which is very unlikely.\n",
    "The component molecular weights and densities that we estimate already use viscosity as an input, at least in part.  So I am not convinced that an estimation based on them would be any more accurate than <b>(B)</b>."
   ]
  },
  {
   "cell_type": "markdown",
   "metadata": {},
   "source": [
    "In <b>(B)</b>, exactly which $(T_{ref}, v_{ref})$ measurement should we use if multiple viscosity measurements exist?  Since we are calculating pour point, which I understand to mean the lowest temperature for which a finite viscosity exists, I believe we should use the lowest measured temperature and its associated viscosity."
   ]
  },
  {
   "cell_type": "markdown",
   "metadata": {},
   "source": [
    "Does the viscosity-temperature correction formula in Adios2 define what $c_{v1}$ is?"
   ]
  },
  {
   "cell_type": "markdown",
   "metadata": {},
   "source": [
    "<center><b>--- End JamesM Comments ---</b></center>"
   ]
  },
  {
   "cell_type": "code",
   "execution_count": 22,
   "metadata": {
    "collapsed": false
   },
   "outputs": [
    {
     "name": "stdout",
     "output_type": "stream",
     "text": [
      "oil =  ALASKA NORTH SLOPE (MIDDLE PIPELINE)\n",
      "oil.pour_point_min =  219.15\n",
      "oil.pour_point_max =  219.15\n",
      "pour point (T_ref, v_ref) =  175.598251438\n",
      "oil_pour_point() =  (219.15, 219.15)\n",
      "\n"
     ]
    }
   ],
   "source": [
    "def estimate_pour_point_from_kvis(ref_kvis, ref_temp_k):\n",
    "    c_v1 = 5000.0\n",
    "    T_pp = (c_v1 * ref_temp_k) / (c_v1 - ref_temp_k * np.log(ref_kvis))\n",
    "    \n",
    "    return T_pp\n",
    "\n",
    "def oil_pour_point(imported_rec):\n",
    "    min_k = max_k = None\n",
    "\n",
    "    if (imported_rec.pour_point_min_k is not None or\n",
    "            imported_rec.pour_point_max_k is not None):\n",
    "        min_k = imported_rec.pour_point_min_k\n",
    "        max_k = imported_rec.pour_point_max_k\n",
    "    else:\n",
    "        lowest_kvis = lowest_temperature(oil_aggregate_kvis(imported_rec)[0])\n",
    "        max_k = pour_point_from_kvis(lowest_kvis.m_2_s, lowest_kvis.ref_temp_k)\n",
    "\n",
    "    return min_k, max_k\n",
    "\n",
    "# pour point estimation based on (T_ref, v_ref)\n",
    "# seems a bit inaccurate\n",
    "#for obj in (ans_mp, ans_2002, bahia, arabian, canola):\n",
    "for obj in (ans_mp,):\n",
    "    print 'oil = ', obj.oil_name\n",
    "    print 'oil.pour_point_min = ', obj.pour_point_min_k\n",
    "    print 'oil.pour_point_max = ', obj.pour_point_max_k\n",
    "\n",
    "    lowest_kvis = lowest_temperature(oil_aggregate_kvis(obj))\n",
    "    ref_kvis, ref_temp_k = lowest_kvis.m_2_s, lowest_kvis.ref_temp_k\n",
    "    print 'pour point (T_ref, v_ref) = ', estimate_pour_point_from_kvis(ref_kvis, ref_temp_k)\n",
    "\n",
    "    print 'oil_pour_point() = ', oil_pour_point(obj)\n",
    "\n",
    "    print\n"
   ]
  },
  {
   "cell_type": "markdown",
   "metadata": {},
   "source": [
    "### 24. Flash Point:"
   ]
  },
  {
   "cell_type": "markdown",
   "metadata": {},
   "source": [
    "If a measured minimum flash point exists for the incoming record, we will use it.<br>\n",
    "Otherwise, if a measured maximum flash point exists for the incoming record, we will use that instead.<br>\n",
    "Otherwise, if measured distillation cut data exists, use method <b>(A)</b>.<br>\n",
    "Otherwise, use method <b>(B)</b>."
   ]
  },
  {
   "cell_type": "markdown",
   "metadata": {},
   "source": [
    "<b>(A)</b> Flash point can be estimated from the first pseudo-component cut:"
   ]
  },
  {
   "cell_type": "markdown",
   "metadata": {},
   "source": [
    "$$\n",
    "\\begin{align}\n",
    "T_{cut1} &= \\text{the boiling point of the first pseudo-component cut } (^\\circ K) \\cr\n",
    "\\cr\n",
    "T_{flsh} &= 117 + 0.69 \\cdot T_{cut1} \\qquad \\qquad \\qquad \\qquad \\boldsymbol{(eq. 31)} \\cr\n",
    "\\end{align}\n",
    "$$"
   ]
  },
  {
   "cell_type": "markdown",
   "metadata": {},
   "source": [
    "<i>\n",
    "Reference: Chang A., K. Pashakanti, and Y. Liu (2012), Integrated Process Modeling and Optimization, Wiley Verlag.\n",
    "</i>"
   ]
  },
  {
   "cell_type": "markdown",
   "metadata": {},
   "source": [
    "<b>(B)</b> Flash point can be estimated from the API value:"
   ]
  },
  {
   "cell_type": "markdown",
   "metadata": {},
   "source": [
    "$$\n",
    "\\begin{align}\n",
    "T_{flsh} &= 457 - 3.34 \\cdot API \\qquad \\qquad \\qquad \\qquad \\boldsymbol{(eq. 32)} \\cr\n",
    "\\end{align}\n",
    "$$"
   ]
  },
  {
   "cell_type": "markdown",
   "metadata": {},
   "source": [
    "<center><b>--- Begin JamesM Comments ---</b></center>"
   ]
  },
  {
   "cell_type": "markdown",
   "metadata": {},
   "source": [
    "I have some reservations about simply using the first distillation cut boiling point.<br>\n",
    "It seems that the results could vary wildly depending on the quality of the cut data.\n",
    "\n",
    "I would be much more confident in a curve fit to the cuts, in which we take the temperature where a certain fraction is evaporated."
   ]
  },
  {
   "cell_type": "markdown",
   "metadata": {},
   "source": [
    "<center><b>--- End JamesM Comments ---</b></center>"
   ]
  },
  {
   "cell_type": "code",
   "execution_count": 23,
   "metadata": {
    "collapsed": false
   },
   "outputs": [
    {
     "name": "stdout",
     "output_type": "stream",
     "text": [
      "oil =  ALASKA NORTH SLOPE (MIDDLE PIPELINE)\n",
      "oil.flash_point_min_k =  250.15\n",
      "oil.flash_point_max_k =  250.15\n",
      "oil.cuts[0] =  327.851614045\n",
      "oil.api =  29.9\n",
      "oil flash point =  250.15\n",
      "\n"
     ]
    }
   ],
   "source": [
    "def estimate_flash_point_from_bp(ref_temp_k):\n",
    "    return 117.0 + 0.69 * ref_temp_k\n",
    "\n",
    "def estimate_flash_point_from_api(api):\n",
    "    return 457.0 - 3.34 * api\n",
    "\n",
    "def oil_flash_point(imported_rec):\n",
    "    if imported_rec.flash_point_min_k is not None:\n",
    "        return imported_rec.flash_point_min_k\n",
    "    elif imported_rec.flash_point_max_k is not None:\n",
    "        return imported_rec.flash_point_max_k\n",
    "    elif len(list(oil_culled_cuts(imported_rec))) > 2:\n",
    "        cut_temps = oil_normalized_cut_temps(imported_rec)\n",
    "        return estimate_flash_point_from_bp(cut_temps[0])\n",
    "    elif imported_rec.api is not None:\n",
    "        return estimate_flash_point_from_api(imported_rec.api)\n",
    "    else:\n",
    "        est_api = estimate_api_from_density(oil_density_at_temp(imported_rec, 288.15))\n",
    "        return estimate_flash_point_from_api(est_api)\n",
    "\n",
    "# ANS oil has both an api and distillation cuts.\n",
    "# For this oil, methods (A) and (B) estimate different results.\n",
    "# but the difference is only about 7%.  Probably acceptable.\n",
    "# we should try this on other oils to compare.\n",
    "\n",
    "#for obj in (ans_mp, ans_2002, bahia, arabian, canola):\n",
    "for obj in (ans_mp,):\n",
    "    print 'oil = ', obj.oil_name\n",
    "    print 'oil.flash_point_min_k = ', obj.flash_point_min_k\n",
    "    print 'oil.flash_point_max_k = ', obj.flash_point_max_k\n",
    "    if len(list(oil_culled_cuts(obj))) > 0:\n",
    "        print 'oil.cuts[0] = ', oil_normalized_cut_values(obj)[0][0]\n",
    "    else:\n",
    "        print 'no cut data'\n",
    "    print 'oil.api = ', obj.api\n",
    "\n",
    "    print 'oil flash point = ', oil_flash_point(obj)\n",
    "    print"
   ]
  },
  {
   "cell_type": "markdown",
   "metadata": {},
   "source": [
    "### 25. Maximum water fraction of emulsion:"
   ]
  },
  {
   "cell_type": "markdown",
   "metadata": {},
   "source": [
    "This quantity will be set after the emulsification approach in Adios3 is finalized.  It will vary depending upon the emulsion stability.  For now the following rule will be applied:"
   ]
  },
  {
   "cell_type": "markdown",
   "metadata": {},
   "source": [
    "If our substance is a crude oil, then $f_{w max} = 0.9$<br>\n",
    "If our substance is a refined product, then $f_{w max} = 0$"
   ]
  },
  {
   "cell_type": "markdown",
   "metadata": {},
   "source": [
    "### 26. Bullwinkle (time):"
   ]
  },
  {
   "cell_type": "markdown",
   "metadata": {},
   "source": [
    "Adios3 needs to know when to initiate emulsification.  The Adios2 development team called this term Bullwinkle.  SINTEF has measured this parameter for some oils, and the new, not yet completed, analysis of emulsification may provide formulas for Bullwinkle.  Bullwinkle may be either a time value (i.e. time delay after which the emulsification formulas are turned on) or a fraction of the oil that needs to evaporate or dissolve before emulsification can start."
   ]
  },
  {
   "cell_type": "markdown",
   "metadata": {},
   "source": [
    "Bullwinkle(time) is undefined unless the user explicitly sets a value.  Then it overrides Bullwinkle(fraction) as the determining parameter for the onset of emulsification."
   ]
  },
  {
   "cell_type": "markdown",
   "metadata": {},
   "source": [
    "### 27. Bullwinkle (fraction):"
   ]
  },
  {
   "cell_type": "markdown",
   "metadata": {},
   "source": [
    "<i>\n",
    "Reference: Adios2\n",
    "</i>"
   ]
  },
  {
   "cell_type": "markdown",
   "metadata": {},
   "source": [
    "Bullwinkle is the mass fraction that must evaporate or dissolve before stable emulsification can begin.  This formula will change when we complete the emulsification module."
   ]
  },
  {
   "cell_type": "markdown",
   "metadata": {},
   "source": [
    "If $f_{asph} > 0$, then we use method <b>(A)</b><br>\n",
    "Otherwise, we use method <b>(B)</b><br>"
   ]
  },
  {
   "cell_type": "markdown",
   "metadata": {},
   "source": [
    "<b>(A)</b> $f_{bull}$ can be calculated from $f_{asph}$:\n",
    "$$\n",
    "\\begin{align}\n",
    "f_{bull} &= 0.32 - 3.59 \\cdot f_{asph} \\qquad \\qquad \\qquad \\boldsymbol{(eq. 33)} \\cr\n",
    "\\end{align}\n",
    "$$"
   ]
  },
  {
   "cell_type": "markdown",
   "metadata": {},
   "source": [
    "<b>(B)</b> $f_{bull}$ can be calculated from the oil's API:\n",
    "$$\n",
    "\\begin{align}\n",
    "f_{bull} &= 0.5762 \\cdot log10(API) - 0.6353 \\qquad \\qquad \\boldsymbol{(eq. 34)} \\cr\n",
    "\\end{align}\n",
    "$$"
   ]
  },
  {
   "cell_type": "markdown",
   "metadata": {},
   "source": [
    "A result of $f_{bull} < 0$ or $f_{bull} > 1$ indicates no emulsification."
   ]
  },
  {
   "cell_type": "markdown",
   "metadata": {},
   "source": [
    "<center><b>--- Begin JamesM Comments ---</b></center>"
   ]
  },
  {
   "cell_type": "markdown",
   "metadata": {},
   "source": [
    "At this point in our estimations we should always have a reasonable, or at least consistent value for $f_{asph}$.<br>\n",
    "I would say that we can nearly always choose formula <b>(A)</b>"
   ]
  },
  {
   "cell_type": "markdown",
   "metadata": {},
   "source": [
    "<center><b>--- End JamesM Comments ---</b></center>"
   ]
  },
  {
   "cell_type": "code",
   "execution_count": 24,
   "metadata": {
    "collapsed": false
   },
   "outputs": [
    {
     "name": "stdout",
     "output_type": "stream",
     "text": [
      "oil =  ALASKA NORTH SLOPE (MIDDLE PIPELINE)\n",
      "oil.api =  29.9\n",
      "oil.asphaltenes =  None\n",
      "oil.densities =  [<Density(886.9 kg/m^3 at 273.15K)>, <Density(876.1 kg/m^3 at 288.15K)>]\n",
      "bullwinkle(fraction) =  0.259049831898\n",
      "\n"
     ]
    }
   ],
   "source": [
    "def estimate_bullwinkle_fraction_from_asph(f_asph):\n",
    "    return 0.32 - 3.59 * f_asph\n",
    "\n",
    "def estimate_bullwinkle_fraction_from_api(api):\n",
    "    return 0.5762 * np.log10(api) - 0.6353\n",
    "\n",
    "def oil_bullwinkle_fraction(imported_rec):\n",
    "    _f_res, f_asph = oil_inert_fractions(imported_rec)\n",
    "\n",
    "    if f_asph > 0.0:\n",
    "        return estimate_bullwinkle_fraction_from_asph(f_asph)\n",
    "    elif imported_rec.api is not None:\n",
    "        return estimate_bullwinkle_fraction_from_api(imported_rec.api)\n",
    "    else:\n",
    "        est_api = api_from_density(oil_density_at_temp(imported_rec, 288.15))\n",
    "        return estimate_bullwinkle_fraction_from_api(est_api)\n",
    "\n",
    "#for obj in (ans_mp, ans_2002, bahia, arabian, canola):\n",
    "for obj in (ans_mp,):\n",
    "    print 'oil = ', obj.oil_name\n",
    "    print 'oil.api = ', obj.api\n",
    "    print 'oil.asphaltenes = ', obj.asphaltenes\n",
    "    print 'oil.densities = ', obj.densities\n",
    "\n",
    "    print 'bullwinkle(fraction) = ', oil_bullwinkle_fraction(obj)\n",
    "    print\n"
   ]
  },
  {
   "cell_type": "markdown",
   "metadata": {},
   "source": [
    "### 28. Solubility:"
   ]
  },
  {
   "cell_type": "markdown",
   "metadata": {},
   "source": [
    "If the imported oil record contains a valid value for solubility, we will use that value when building our oil.<br>\n",
    "Otherwise, $c_{solu} = 0 \\, kg/m^3$"
   ]
  },
  {
   "cell_type": "markdown",
   "metadata": {},
   "source": [
    "### 29. Adhesion <i>(not currently used by model)</i>:"
   ]
  },
  {
   "cell_type": "markdown",
   "metadata": {},
   "source": [
    "If the imported oil record contains a valid value for adhesion, we will use that value when building our oil.<br>\n",
    "Otherwise, $Adh_{oil} = 0.035 \\, kg/m^2$"
   ]
  },
  {
   "cell_type": "markdown",
   "metadata": {},
   "source": [
    "<i>\n",
    "Reference: ESTC data\n",
    "</i>"
   ]
  },
  {
   "cell_type": "markdown",
   "metadata": {},
   "source": [
    "### 30. Sulphur Mass Fraction <i>(not currently used by model)</i>:"
   ]
  },
  {
   "cell_type": "markdown",
   "metadata": {},
   "source": [
    "If the imported oil record contains a valid value for sulphur mass fraction, we will use that value when building our oil.<br>\n",
    "Otherwise, $f_{sulf} = 0$"
   ]
  },
  {
   "cell_type": "code",
   "execution_count": null,
   "metadata": {
    "collapsed": true
   },
   "outputs": [],
   "source": []
  }
 ],
 "metadata": {
  "kernelspec": {
   "display_name": "Python 2",
   "language": "python",
   "name": "python2"
  },
  "language_info": {
   "codemirror_mode": {
    "name": "ipython",
    "version": 2
   },
   "file_extension": ".py",
   "mimetype": "text/x-python",
   "name": "python",
   "nbconvert_exporter": "python",
   "pygments_lexer": "ipython2",
   "version": "2.7.11"
  }
 },
 "nbformat": 4,
 "nbformat_minor": 0
}
